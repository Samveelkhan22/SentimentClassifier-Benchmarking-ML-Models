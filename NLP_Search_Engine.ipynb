{
  "nbformat": 4,
  "nbformat_minor": 0,
  "metadata": {
    "colab": {
      "provenance": []
    },
    "kernelspec": {
      "name": "python3",
      "display_name": "Python 3"
    },
    "language_info": {
      "name": "python"
    }
  },
  "cells": [
    {
      "cell_type": "markdown",
      "source": [
        "# Importing libraries"
      ],
      "metadata": {
        "id": "D24t9gbR07aD"
      }
    },
    {
      "cell_type": "code",
      "source": [
        "# Data manipulation\n",
        "import pandas as pd\n",
        "import numpy as np\n",
        "\n",
        "# Text preprocessing\n",
        "import re\n",
        "import string\n",
        "import nltk\n",
        "from nltk.corpus import stopwords\n",
        "from nltk.tokenize import word_tokenize\n",
        "\n",
        "# Machine learning and evaluation\n",
        "from sklearn.model_selection import train_test_split\n",
        "from sklearn.linear_model import LogisticRegression\n",
        "from sklearn.feature_extraction.text import TfidfVectorizer\n",
        "from sklearn.metrics import classification_report, confusion_matrix\n",
        "\n",
        "# For handling imbalanced data (SMOTE)\n",
        "from imblearn.over_sampling import SMOTE\n",
        "\n",
        "# Visualization\n",
        "import matplotlib.pyplot as plt\n",
        "import seaborn as sns\n",
        "\n",
        "# Download necessary NLTK resources (only once)\n",
        "nltk.download('punkt')\n",
        "nltk.download('stopwords')\n"
      ],
      "metadata": {
        "colab": {
          "base_uri": "https://localhost:8080/"
        },
        "id": "sS4gtmVFiGBw",
        "outputId": "bd3c7dd8-1396-4f7d-a314-db92b1dd4471"
      },
      "execution_count": null,
      "outputs": [
        {
          "output_type": "stream",
          "name": "stderr",
          "text": [
            "[nltk_data] Downloading package punkt to /root/nltk_data...\n",
            "[nltk_data]   Unzipping tokenizers/punkt.zip.\n",
            "[nltk_data] Downloading package stopwords to /root/nltk_data...\n",
            "[nltk_data]   Unzipping corpora/stopwords.zip.\n"
          ]
        },
        {
          "output_type": "execute_result",
          "data": {
            "text/plain": [
              "True"
            ]
          },
          "metadata": {},
          "execution_count": 1
        }
      ]
    },
    {
      "cell_type": "markdown",
      "source": [
        "# Text Preprocessing"
      ],
      "metadata": {
        "id": "1B-REKfvVVsV"
      }
    },
    {
      "cell_type": "code",
      "source": [
        "!pip install spacy\n"
      ],
      "metadata": {
        "colab": {
          "base_uri": "https://localhost:8080/"
        },
        "id": "6iPxcDOxUQm0",
        "outputId": "a608b630-9ea0-4c80-dead-8920be00e291"
      },
      "execution_count": null,
      "outputs": [
        {
          "output_type": "stream",
          "name": "stdout",
          "text": [
            "Requirement already satisfied: spacy in /usr/local/lib/python3.10/dist-packages (3.7.5)\n",
            "Requirement already satisfied: spacy-legacy<3.1.0,>=3.0.11 in /usr/local/lib/python3.10/dist-packages (from spacy) (3.0.12)\n",
            "Requirement already satisfied: spacy-loggers<2.0.0,>=1.0.0 in /usr/local/lib/python3.10/dist-packages (from spacy) (1.0.5)\n",
            "Requirement already satisfied: murmurhash<1.1.0,>=0.28.0 in /usr/local/lib/python3.10/dist-packages (from spacy) (1.0.10)\n",
            "Requirement already satisfied: cymem<2.1.0,>=2.0.2 in /usr/local/lib/python3.10/dist-packages (from spacy) (2.0.8)\n",
            "Requirement already satisfied: preshed<3.1.0,>=3.0.2 in /usr/local/lib/python3.10/dist-packages (from spacy) (3.0.9)\n",
            "Requirement already satisfied: thinc<8.3.0,>=8.2.2 in /usr/local/lib/python3.10/dist-packages (from spacy) (8.2.5)\n",
            "Requirement already satisfied: wasabi<1.2.0,>=0.9.1 in /usr/local/lib/python3.10/dist-packages (from spacy) (1.1.3)\n",
            "Requirement already satisfied: srsly<3.0.0,>=2.4.3 in /usr/local/lib/python3.10/dist-packages (from spacy) (2.4.8)\n",
            "Requirement already satisfied: catalogue<2.1.0,>=2.0.6 in /usr/local/lib/python3.10/dist-packages (from spacy) (2.0.10)\n",
            "Requirement already satisfied: weasel<0.5.0,>=0.1.0 in /usr/local/lib/python3.10/dist-packages (from spacy) (0.4.1)\n",
            "Requirement already satisfied: typer<1.0.0,>=0.3.0 in /usr/local/lib/python3.10/dist-packages (from spacy) (0.12.5)\n",
            "Requirement already satisfied: tqdm<5.0.0,>=4.38.0 in /usr/local/lib/python3.10/dist-packages (from spacy) (4.66.6)\n",
            "Requirement already satisfied: requests<3.0.0,>=2.13.0 in /usr/local/lib/python3.10/dist-packages (from spacy) (2.32.3)\n",
            "Requirement already satisfied: pydantic!=1.8,!=1.8.1,<3.0.0,>=1.7.4 in /usr/local/lib/python3.10/dist-packages (from spacy) (2.9.2)\n",
            "Requirement already satisfied: jinja2 in /usr/local/lib/python3.10/dist-packages (from spacy) (3.1.4)\n",
            "Requirement already satisfied: setuptools in /usr/local/lib/python3.10/dist-packages (from spacy) (75.1.0)\n",
            "Requirement already satisfied: packaging>=20.0 in /usr/local/lib/python3.10/dist-packages (from spacy) (24.1)\n",
            "Requirement already satisfied: langcodes<4.0.0,>=3.2.0 in /usr/local/lib/python3.10/dist-packages (from spacy) (3.4.1)\n",
            "Requirement already satisfied: numpy>=1.19.0 in /usr/local/lib/python3.10/dist-packages (from spacy) (1.26.4)\n",
            "Requirement already satisfied: language-data>=1.2 in /usr/local/lib/python3.10/dist-packages (from langcodes<4.0.0,>=3.2.0->spacy) (1.2.0)\n",
            "Requirement already satisfied: annotated-types>=0.6.0 in /usr/local/lib/python3.10/dist-packages (from pydantic!=1.8,!=1.8.1,<3.0.0,>=1.7.4->spacy) (0.7.0)\n",
            "Requirement already satisfied: pydantic-core==2.23.4 in /usr/local/lib/python3.10/dist-packages (from pydantic!=1.8,!=1.8.1,<3.0.0,>=1.7.4->spacy) (2.23.4)\n",
            "Requirement already satisfied: typing-extensions>=4.6.1 in /usr/local/lib/python3.10/dist-packages (from pydantic!=1.8,!=1.8.1,<3.0.0,>=1.7.4->spacy) (4.12.2)\n",
            "Requirement already satisfied: charset-normalizer<4,>=2 in /usr/local/lib/python3.10/dist-packages (from requests<3.0.0,>=2.13.0->spacy) (3.4.0)\n",
            "Requirement already satisfied: idna<4,>=2.5 in /usr/local/lib/python3.10/dist-packages (from requests<3.0.0,>=2.13.0->spacy) (3.10)\n",
            "Requirement already satisfied: urllib3<3,>=1.21.1 in /usr/local/lib/python3.10/dist-packages (from requests<3.0.0,>=2.13.0->spacy) (2.2.3)\n",
            "Requirement already satisfied: certifi>=2017.4.17 in /usr/local/lib/python3.10/dist-packages (from requests<3.0.0,>=2.13.0->spacy) (2024.8.30)\n",
            "Requirement already satisfied: blis<0.8.0,>=0.7.8 in /usr/local/lib/python3.10/dist-packages (from thinc<8.3.0,>=8.2.2->spacy) (0.7.11)\n",
            "Requirement already satisfied: confection<1.0.0,>=0.0.1 in /usr/local/lib/python3.10/dist-packages (from thinc<8.3.0,>=8.2.2->spacy) (0.1.5)\n",
            "Requirement already satisfied: click>=8.0.0 in /usr/local/lib/python3.10/dist-packages (from typer<1.0.0,>=0.3.0->spacy) (8.1.7)\n",
            "Requirement already satisfied: shellingham>=1.3.0 in /usr/local/lib/python3.10/dist-packages (from typer<1.0.0,>=0.3.0->spacy) (1.5.4)\n",
            "Requirement already satisfied: rich>=10.11.0 in /usr/local/lib/python3.10/dist-packages (from typer<1.0.0,>=0.3.0->spacy) (13.9.3)\n",
            "Requirement already satisfied: cloudpathlib<1.0.0,>=0.7.0 in /usr/local/lib/python3.10/dist-packages (from weasel<0.5.0,>=0.1.0->spacy) (0.20.0)\n",
            "Requirement already satisfied: smart-open<8.0.0,>=5.2.1 in /usr/local/lib/python3.10/dist-packages (from weasel<0.5.0,>=0.1.0->spacy) (7.0.5)\n",
            "Requirement already satisfied: MarkupSafe>=2.0 in /usr/local/lib/python3.10/dist-packages (from jinja2->spacy) (3.0.2)\n",
            "Requirement already satisfied: marisa-trie>=0.7.7 in /usr/local/lib/python3.10/dist-packages (from language-data>=1.2->langcodes<4.0.0,>=3.2.0->spacy) (1.2.1)\n",
            "Requirement already satisfied: markdown-it-py>=2.2.0 in /usr/local/lib/python3.10/dist-packages (from rich>=10.11.0->typer<1.0.0,>=0.3.0->spacy) (3.0.0)\n",
            "Requirement already satisfied: pygments<3.0.0,>=2.13.0 in /usr/local/lib/python3.10/dist-packages (from rich>=10.11.0->typer<1.0.0,>=0.3.0->spacy) (2.18.0)\n",
            "Requirement already satisfied: wrapt in /usr/local/lib/python3.10/dist-packages (from smart-open<8.0.0,>=5.2.1->weasel<0.5.0,>=0.1.0->spacy) (1.16.0)\n",
            "Requirement already satisfied: mdurl~=0.1 in /usr/local/lib/python3.10/dist-packages (from markdown-it-py>=2.2.0->rich>=10.11.0->typer<1.0.0,>=0.3.0->spacy) (0.1.2)\n"
          ]
        }
      ]
    },
    {
      "cell_type": "code",
      "source": [
        "# Import necessary libraries\n",
        "import pandas as pd\n",
        "import re\n",
        "import nltk\n",
        "import spacy\n",
        "from nltk.corpus import stopwords\n",
        "from nltk.tokenize import sent_tokenize, word_tokenize\n",
        "\n",
        "# Download necessary NLTK data files\n",
        "nltk.download('punkt')\n",
        "nltk.download('stopwords')\n",
        "\n",
        "# Load spaCy English model\n",
        "nlp = spacy.load(\"en_core_web_sm\")\n",
        "\n",
        "# Load the dataset\n",
        "df = pd.read_csv('/content/reviews_segment.csv', delimiter=',', encoding='ISO-8859-1', quotechar=\"'\", engine='python', on_bad_lines='skip')\n",
        "\n",
        "# Display the first few rows\n",
        "print(df.head())\n",
        "\n",
        "# Define text preprocessing functions\n",
        "\n",
        "def preprocess_text(text):\n",
        "    # 1. Tokenization (Sentence and Word Level)\n",
        "    sentences = sent_tokenize(text)  # Sentence tokenization\n",
        "    word_tokens = [word_tokenize(sentence) for sentence in sentences]  # Word tokenization for each sentence\n",
        "\n",
        "    # 2. Stopword Removal\n",
        "    stop_words = set(stopwords.words('english'))\n",
        "    filtered_words = [[word for word in words if word.lower() not in stop_words and word.isalpha()] for words in word_tokens]\n",
        "\n",
        "    # 3. Lemmatization, POS Tagging, and Named Entity Recognition\n",
        "    lemmatized_text = []\n",
        "    pos_tags = []\n",
        "    named_entities = []\n",
        "\n",
        "    for sentence in sentences:\n",
        "        doc = nlp(sentence)  # Process sentence with spaCy\n",
        "        for token in doc:\n",
        "            # Lemmatization\n",
        "            lemmatized_text.append(token.lemma_)\n",
        "            # POS Tagging\n",
        "            pos_tags.append((token.text, token.pos_))\n",
        "            # Named Entity Recognition\n",
        "            if token.ent_type_:\n",
        "                named_entities.append((token.text, token.ent_type_))\n",
        "\n",
        "    return {\n",
        "        'sentences': sentences,\n",
        "        'filtered_words': filtered_words,\n",
        "        'lemmatized_text': lemmatized_text,\n",
        "        'pos_tags': pos_tags,\n",
        "        'named_entities': named_entities\n",
        "    }\n",
        "\n",
        "# Apply the function to the 'review_text' column\n",
        "df['preprocessed_reviews'] = df['review_text'].apply(lambda x: preprocess_text(str(x)))\n",
        "\n",
        "# Display sample processed data\n",
        "print(df[['review_text', 'preprocessed_reviews']].head())\n"
      ],
      "metadata": {
        "colab": {
          "base_uri": "https://localhost:8080/"
        },
        "id": "bG5yTZbmUje_",
        "outputId": "07fdc742-ffb2-4f7c-ed5b-35d457b9a6ed"
      },
      "execution_count": null,
      "outputs": [
        {
          "output_type": "stream",
          "name": "stderr",
          "text": [
            "[nltk_data] Downloading package punkt to /root/nltk_data...\n",
            "[nltk_data]   Package punkt is already up-to-date!\n",
            "[nltk_data] Downloading package stopwords to /root/nltk_data...\n",
            "[nltk_data]   Package stopwords is already up-to-date!\n"
          ]
        },
        {
          "output_type": "stream",
          "name": "stdout",
          "text": [
            "                                                                                                                                                                                                                                                                                                               review_id  \\\n",
            "R10019MUX6F9A  B00006881R AWNC1GQ75W8K8  Works as advertised    2002-12-17 Neil            TeleZapper TZ 900 (Office Product)                 \"'I\\'ve had this product for about a month and ...  which to me is more desirable than having to t... 7  7  4 0 0 0                  \"('R10019MUX6F9A'        'B00006881R'   \n",
            "R100523NBIQIEV B000070MRB A2DKAPBHZ5DERR Neutral                2004-06-07 S. Barnes       Game Programming Starter Kit 6.0 (CD-ROM)          \"'If you plan on getting this program go to htt...  download the free compiler and learn how to us... -1 -1 3 0 0 0                  \"('R100523NBIQIEV'       'B000070MRB'   \n",
            "R1007LULU4W7YH B000E5E6KG A1031ZUDNBOON0 More Junk from Linksys 2008-07-20 Lance E. Walden Cisco-Linksys WMB54G Wireless-G Music Bridge (P... \"'Look at the review by C-Net and you start to ... -1                                                 -1 1  0 0 0 \"('R1007LULU4W7YH'  'B000E5E6KG'        'A1031ZUDNBOON0'   \n",
            "R100CNB1MEHAG3 B001AWBYRA AYPZ3LHFA85SL  Good for single player 2010-11-04 M. Swan         Call of Duty: World at War (DVD-ROM)               Multi stink in all new CoD ... well ever since ... -1                                                 -1 4  0 1 0 \"('R100CNB1MEHAG3'  'B001AWBYRA'         'AYPZ3LHFA85SL'   \n",
            "R100D2CV4WK16J B000N9B1MY AXM8WOYHV2R2M  Remember Mr Salty      2007-07-12 TEP             \"'Shultz Pretzels Salty Stix Box                    12-Ounce Boxes  (Pack of 12) (Grocery)'\"          If you remember the original Mr. Salty pretzels... -1 -1 5 0 1 0                  \"('R100D2CV4WK16J'       'B000N9B1MY'   \n",
            "\n",
            "                                                                                                                                                                                                                                                                                                              product_id  \\\n",
            "R10019MUX6F9A  B00006881R AWNC1GQ75W8K8  Works as advertised    2002-12-17 Neil            TeleZapper TZ 900 (Office Product)                 \"'I\\'ve had this product for about a month and ...  which to me is more desirable than having to t... 7  7  4 0 0 0                  \"('R10019MUX6F9A'     'AWNC1GQ75W8K8'   \n",
            "R100523NBIQIEV B000070MRB A2DKAPBHZ5DERR Neutral                2004-06-07 S. Barnes       Game Programming Starter Kit 6.0 (CD-ROM)          \"'If you plan on getting this program go to htt...  download the free compiler and learn how to us... -1 -1 3 0 0 0                  \"('R100523NBIQIEV'   'A2DKAPBHZ5DERR'   \n",
            "R1007LULU4W7YH B000E5E6KG A1031ZUDNBOON0 More Junk from Linksys 2008-07-20 Lance E. Walden Cisco-Linksys WMB54G Wireless-G Music Bridge (P... \"'Look at the review by C-Net and you start to ... -1                                                 -1 1  0 0 0 \"('R1007LULU4W7YH'  'B000E5E6KG'                      -1   \n",
            "R100CNB1MEHAG3 B001AWBYRA AYPZ3LHFA85SL  Good for single player 2010-11-04 M. Swan         Call of Duty: World at War (DVD-ROM)               Multi stink in all new CoD ... well ever since ... -1                                                 -1 4  0 1 0 \"('R100CNB1MEHAG3'  'B001AWBYRA'                      -1   \n",
            "R100D2CV4WK16J B000N9B1MY AXM8WOYHV2R2M  Remember Mr Salty      2007-07-12 TEP             \"'Shultz Pretzels Salty Stix Box                    12-Ounce Boxes  (Pack of 12) (Grocery)'\"          If you remember the original Mr. Salty pretzels... -1 -1 5 0 1 0                  \"('R100D2CV4WK16J'    'AXM8WOYHV2R2M'   \n",
            "\n",
            "                                                                                                                                                                                                                                                                                                       customer_id  \\\n",
            "R10019MUX6F9A  B00006881R AWNC1GQ75W8K8  Works as advertised    2002-12-17 Neil            TeleZapper TZ 900 (Office Product)                 \"'I\\'ve had this product for about a month and ...  which to me is more desirable than having to t... 7  7  4 0 0 0                  \"('R10019MUX6F9A'           7.0   \n",
            "R100523NBIQIEV B000070MRB A2DKAPBHZ5DERR Neutral                2004-06-07 S. Barnes       Game Programming Starter Kit 6.0 (CD-ROM)          \"'If you plan on getting this program go to htt...  download the free compiler and learn how to us... -1 -1 3 0 0 0                  \"('R100523NBIQIEV'         -1.0   \n",
            "R1007LULU4W7YH B000E5E6KG A1031ZUDNBOON0 More Junk from Linksys 2008-07-20 Lance E. Walden Cisco-Linksys WMB54G Wireless-G Music Bridge (P... \"'Look at the review by C-Net and you start to ... -1                                                 -1 1  0 0 0 \"('R1007LULU4W7YH'  'B000E5E6KG'              -1.0   \n",
            "R100CNB1MEHAG3 B001AWBYRA AYPZ3LHFA85SL  Good for single player 2010-11-04 M. Swan         Call of Duty: World at War (DVD-ROM)               Multi stink in all new CoD ... well ever since ... -1                                                 -1 4  0 1 0 \"('R100CNB1MEHAG3'  'B001AWBYRA'              -1.0   \n",
            "R100D2CV4WK16J B000N9B1MY AXM8WOYHV2R2M  Remember Mr Salty      2007-07-12 TEP             \"'Shultz Pretzels Salty Stix Box                    12-Ounce Boxes  (Pack of 12) (Grocery)'\"          If you remember the original Mr. Salty pretzels... -1 -1 5 0 1 0                  \"('R100D2CV4WK16J'         -1.0   \n",
            "\n",
            "                                                                                                                                                                                                                                                                                                       review_title  \\\n",
            "R10019MUX6F9A  B00006881R AWNC1GQ75W8K8  Works as advertised    2002-12-17 Neil            TeleZapper TZ 900 (Office Product)                 \"'I\\'ve had this product for about a month and ...  which to me is more desirable than having to t... 7  7  4 0 0 0                  \"('R10019MUX6F9A'            7.0   \n",
            "R100523NBIQIEV B000070MRB A2DKAPBHZ5DERR Neutral                2004-06-07 S. Barnes       Game Programming Starter Kit 6.0 (CD-ROM)          \"'If you plan on getting this program go to htt...  download the free compiler and learn how to us... -1 -1 3 0 0 0                  \"('R100523NBIQIEV'          -1.0   \n",
            "R1007LULU4W7YH B000E5E6KG A1031ZUDNBOON0 More Junk from Linksys 2008-07-20 Lance E. Walden Cisco-Linksys WMB54G Wireless-G Music Bridge (P... \"'Look at the review by C-Net and you start to ... -1                                                 -1 1  0 0 0 \"('R1007LULU4W7YH'  'B000E5E6KG'                1.0   \n",
            "R100CNB1MEHAG3 B001AWBYRA AYPZ3LHFA85SL  Good for single player 2010-11-04 M. Swan         Call of Duty: World at War (DVD-ROM)               Multi stink in all new CoD ... well ever since ... -1                                                 -1 4  0 1 0 \"('R100CNB1MEHAG3'  'B001AWBYRA'                4.0   \n",
            "R100D2CV4WK16J B000N9B1MY AXM8WOYHV2R2M  Remember Mr Salty      2007-07-12 TEP             \"'Shultz Pretzels Salty Stix Box                    12-Ounce Boxes  (Pack of 12) (Grocery)'\"          If you remember the original Mr. Salty pretzels... -1 -1 5 0 1 0                  \"('R100D2CV4WK16J'          -1.0   \n",
            "\n",
            "                                                                                                                                                                                                                                                                                                             review_written_date  \\\n",
            "R10019MUX6F9A  B00006881R AWNC1GQ75W8K8  Works as advertised    2002-12-17 Neil            TeleZapper TZ 900 (Office Product)                 \"'I\\'ve had this product for about a month and ...  which to me is more desirable than having to t... 7  7  4 0 0 0                  \"('R10019MUX6F9A'                           4   \n",
            "R100523NBIQIEV B000070MRB A2DKAPBHZ5DERR Neutral                2004-06-07 S. Barnes       Game Programming Starter Kit 6.0 (CD-ROM)          \"'If you plan on getting this program go to htt...  download the free compiler and learn how to us... -1 -1 3 0 0 0                  \"('R100523NBIQIEV'                          3   \n",
            "R1007LULU4W7YH B000E5E6KG A1031ZUDNBOON0 More Junk from Linksys 2008-07-20 Lance E. Walden Cisco-Linksys WMB54G Wireless-G Music Bridge (P... \"'Look at the review by C-Net and you start to ... -1                                                 -1 1  0 0 0 \"('R1007LULU4W7YH'  'B000E5E6KG'        'More Junk from Linksys'   \n",
            "R100CNB1MEHAG3 B001AWBYRA AYPZ3LHFA85SL  Good for single player 2010-11-04 M. Swan         Call of Duty: World at War (DVD-ROM)               Multi stink in all new CoD ... well ever since ... -1                                                 -1 4  0 1 0 \"('R100CNB1MEHAG3'  'B001AWBYRA'        'Good for single player'   \n",
            "R100D2CV4WK16J B000N9B1MY AXM8WOYHV2R2M  Remember Mr Salty      2007-07-12 TEP             \"'Shultz Pretzels Salty Stix Box                    12-Ounce Boxes  (Pack of 12) (Grocery)'\"          If you remember the original Mr. Salty pretzels... -1 -1 5 0 1 0                  \"('R100D2CV4WK16J'                          5   \n",
            "\n",
            "                                                                                                                                                                                                                                                                                                                customer_name  \\\n",
            "R10019MUX6F9A  B00006881R AWNC1GQ75W8K8  Works as advertised    2002-12-17 Neil            TeleZapper TZ 900 (Office Product)                 \"'I\\'ve had this product for about a month and ...  which to me is more desirable than having to t... 7  7  4 0 0 0                  \"('R10019MUX6F9A'    'Works as advertised'   \n",
            "R100523NBIQIEV B000070MRB A2DKAPBHZ5DERR Neutral                2004-06-07 S. Barnes       Game Programming Starter Kit 6.0 (CD-ROM)          \"'If you plan on getting this program go to htt...  download the free compiler and learn how to us... -1 -1 3 0 0 0                  \"('R100523NBIQIEV'               'Neutral'   \n",
            "R1007LULU4W7YH B000E5E6KG A1031ZUDNBOON0 More Junk from Linksys 2008-07-20 Lance E. Walden Cisco-Linksys WMB54G Wireless-G Music Bridge (P... \"'Look at the review by C-Net and you start to ... -1                                                 -1 1  0 0 0 \"('R1007LULU4W7YH'  'B000E5E6KG'                 '2008-07-20'   \n",
            "R100CNB1MEHAG3 B001AWBYRA AYPZ3LHFA85SL  Good for single player 2010-11-04 M. Swan         Call of Duty: World at War (DVD-ROM)               Multi stink in all new CoD ... well ever since ... -1                                                 -1 4  0 1 0 \"('R100CNB1MEHAG3'  'B001AWBYRA'                 '2010-11-04'   \n",
            "R100D2CV4WK16J B000N9B1MY AXM8WOYHV2R2M  Remember Mr Salty      2007-07-12 TEP             \"'Shultz Pretzels Salty Stix Box                    12-Ounce Boxes  (Pack of 12) (Grocery)'\"          If you remember the original Mr. Salty pretzels... -1 -1 5 0 1 0                  \"('R100D2CV4WK16J'     'Remember Mr Salty'   \n",
            "\n",
            "                                                                                                                                                                                                                                                                                                        review_from_title  \\\n",
            "R10019MUX6F9A  B00006881R AWNC1GQ75W8K8  Works as advertised    2002-12-17 Neil            TeleZapper TZ 900 (Office Product)                 \"'I\\'ve had this product for about a month and ...  which to me is more desirable than having to t... 7  7  4 0 0 0                  \"('R10019MUX6F9A'         '2002-12-17'   \n",
            "R100523NBIQIEV B000070MRB A2DKAPBHZ5DERR Neutral                2004-06-07 S. Barnes       Game Programming Starter Kit 6.0 (CD-ROM)          \"'If you plan on getting this program go to htt...  download the free compiler and learn how to us... -1 -1 3 0 0 0                  \"('R100523NBIQIEV'        '2004-06-07'   \n",
            "R1007LULU4W7YH B000E5E6KG A1031ZUDNBOON0 More Junk from Linksys 2008-07-20 Lance E. Walden Cisco-Linksys WMB54G Wireless-G Music Bridge (P... \"'Look at the review by C-Net and you start to ... -1                                                 -1 1  0 0 0 \"('R1007LULU4W7YH'  'B000E5E6KG'        'Lance E. Walden'   \n",
            "R100CNB1MEHAG3 B001AWBYRA AYPZ3LHFA85SL  Good for single player 2010-11-04 M. Swan         Call of Duty: World at War (DVD-ROM)               Multi stink in all new CoD ... well ever since ... -1                                                 -1 4  0 1 0 \"('R100CNB1MEHAG3'  'B001AWBYRA'                'M. Swan'   \n",
            "R100D2CV4WK16J B000N9B1MY AXM8WOYHV2R2M  Remember Mr Salty      2007-07-12 TEP             \"'Shultz Pretzels Salty Stix Box                    12-Ounce Boxes  (Pack of 12) (Grocery)'\"          If you remember the original Mr. Salty pretzels... -1 -1 5 0 1 0                  \"('R100D2CV4WK16J'        '2007-07-12'   \n",
            "\n",
            "                                                                                                                                                                                                                                                                                                                                             review_text  \\\n",
            "R10019MUX6F9A  B00006881R AWNC1GQ75W8K8  Works as advertised    2002-12-17 Neil            TeleZapper TZ 900 (Office Product)                 \"'I\\'ve had this product for about a month and ...  which to me is more desirable than having to t... 7  7  4 0 0 0                  \"('R10019MUX6F9A'                                              'Neil'   \n",
            "R100523NBIQIEV B000070MRB A2DKAPBHZ5DERR Neutral                2004-06-07 S. Barnes       Game Programming Starter Kit 6.0 (CD-ROM)          \"'If you plan on getting this program go to htt...  download the free compiler and learn how to us... -1 -1 3 0 0 0                  \"('R100523NBIQIEV'                                        'S. Barnes'   \n",
            "R1007LULU4W7YH B000E5E6KG A1031ZUDNBOON0 More Junk from Linksys 2008-07-20 Lance E. Walden Cisco-Linksys WMB54G Wireless-G Music Bridge (P... \"'Look at the review by C-Net and you start to ... -1                                                 -1 1  0 0 0 \"('R1007LULU4W7YH'  'B000E5E6KG'        'Cisco-Linksys WMB54G Wireless-G Music Bridge...   \n",
            "R100CNB1MEHAG3 B001AWBYRA AYPZ3LHFA85SL  Good for single player 2010-11-04 M. Swan         Call of Duty: World at War (DVD-ROM)               Multi stink in all new CoD ... well ever since ... -1                                                 -1 4  0 1 0 \"('R100CNB1MEHAG3'  'B001AWBYRA'                  'Call of Duty: World at War (DVD-ROM)'   \n",
            "R100D2CV4WK16J B000N9B1MY AXM8WOYHV2R2M  Remember Mr Salty      2007-07-12 TEP             \"'Shultz Pretzels Salty Stix Box                    12-Ounce Boxes  (Pack of 12) (Grocery)'\"          If you remember the original Mr. Salty pretzels... -1 -1 5 0 1 0                  \"('R100D2CV4WK16J'                                              'TEP'   \n",
            "\n",
            "                                                                                                                                                                                                                                                                                                                                           helpful_count  \\\n",
            "R10019MUX6F9A  B00006881R AWNC1GQ75W8K8  Works as advertised    2002-12-17 Neil            TeleZapper TZ 900 (Office Product)                 \"'I\\'ve had this product for about a month and ...  which to me is more desirable than having to t... 7  7  4 0 0 0                  \"('R10019MUX6F9A'                'TeleZapper TZ 900 (Office Product)'   \n",
            "R100523NBIQIEV B000070MRB A2DKAPBHZ5DERR Neutral                2004-06-07 S. Barnes       Game Programming Starter Kit 6.0 (CD-ROM)          \"'If you plan on getting this program go to htt...  download the free compiler and learn how to us... -1 -1 3 0 0 0                  \"('R100523NBIQIEV'        'Game Programming Starter Kit 6.0 (CD-ROM)'   \n",
            "R1007LULU4W7YH B000E5E6KG A1031ZUDNBOON0 More Junk from Linksys 2008-07-20 Lance E. Walden Cisco-Linksys WMB54G Wireless-G Music Bridge (P... \"'Look at the review by C-Net and you start to ... -1                                                 -1 1  0 0 0 \"('R1007LULU4W7YH'  'B000E5E6KG'        'Look at the review by C-Net and you start to...   \n",
            "R100CNB1MEHAG3 B001AWBYRA AYPZ3LHFA85SL  Good for single player 2010-11-04 M. Swan         Call of Duty: World at War (DVD-ROM)               Multi stink in all new CoD ... well ever since ... -1                                                 -1 4  0 1 0 \"('R100CNB1MEHAG3'  'B001AWBYRA'        'Multi stink in all new CoD ... well ever sin...   \n",
            "R100D2CV4WK16J B000N9B1MY AXM8WOYHV2R2M  Remember Mr Salty      2007-07-12 TEP             \"'Shultz Pretzels Salty Stix Box                    12-Ounce Boxes  (Pack of 12) (Grocery)'\"          If you remember the original Mr. Salty pretzels... -1 -1 5 0 1 0                  \"('R100D2CV4WK16J'                    'Shultz Pretzels Salty Stix Box   \n",
            "\n",
            "                                                                                                                                                                                                                                                                                                                                    out_of_helpful_count  \\\n",
            "R10019MUX6F9A  B00006881R AWNC1GQ75W8K8  Works as advertised    2002-12-17 Neil            TeleZapper TZ 900 (Office Product)                 \"'I\\'ve had this product for about a month and ...  which to me is more desirable than having to t... 7  7  4 0 0 0                  \"('R10019MUX6F9A'    'I\\'ve had this product for about a month and...   \n",
            "R100523NBIQIEV B000070MRB A2DKAPBHZ5DERR Neutral                2004-06-07 S. Barnes       Game Programming Starter Kit 6.0 (CD-ROM)          \"'If you plan on getting this program go to htt...  download the free compiler and learn how to us... -1 -1 3 0 0 0                  \"('R100523NBIQIEV'   'If you plan on getting this program go to ht...   \n",
            "R1007LULU4W7YH B000E5E6KG A1031ZUDNBOON0 More Junk from Linksys 2008-07-20 Lance E. Walden Cisco-Linksys WMB54G Wireless-G Music Bridge (P... \"'Look at the review by C-Net and you start to ... -1                                                 -1 1  0 0 0 \"('R1007LULU4W7YH'  'B000E5E6KG'                                                       0   \n",
            "R100CNB1MEHAG3 B001AWBYRA AYPZ3LHFA85SL  Good for single player 2010-11-04 M. Swan         Call of Duty: World at War (DVD-ROM)               Multi stink in all new CoD ... well ever since ... -1                                                 -1 4  0 1 0 \"('R100CNB1MEHAG3'  'B001AWBYRA'                                                       0   \n",
            "R100D2CV4WK16J B000N9B1MY AXM8WOYHV2R2M  Remember Mr Salty      2007-07-12 TEP             \"'Shultz Pretzels Salty Stix Box                    12-Ounce Boxes  (Pack of 12) (Grocery)'\"          If you remember the original Mr. Salty pretzels... -1 -1 5 0 1 0                  \"('R100D2CV4WK16J'            12-Ounce Boxes  (Pack of 12) (Grocery)'   \n",
            "\n",
            "                                                                                                                                                                                                                                                                                                                                  customer_review_rating  \\\n",
            "R10019MUX6F9A  B00006881R AWNC1GQ75W8K8  Works as advertised    2002-12-17 Neil            TeleZapper TZ 900 (Office Product)                 \"'I\\'ve had this product for about a month and ...  which to me is more desirable than having to t... 7  7  4 0 0 0                  \"('R10019MUX6F9A'    which to me is more desirable than having to ...   \n",
            "R100523NBIQIEV B000070MRB A2DKAPBHZ5DERR Neutral                2004-06-07 S. Barnes       Game Programming Starter Kit 6.0 (CD-ROM)          \"'If you plan on getting this program go to htt...  download the free compiler and learn how to us... -1 -1 3 0 0 0                  \"('R100523NBIQIEV'   download the free compiler and learn how to u...   \n",
            "R1007LULU4W7YH B000E5E6KG A1031ZUDNBOON0 More Junk from Linksys 2008-07-20 Lance E. Walden Cisco-Linksys WMB54G Wireless-G Music Bridge (P... \"'Look at the review by C-Net and you start to ... -1                                                 -1 1  0 0 0 \"('R1007LULU4W7YH'  'B000E5E6KG'                                                       0   \n",
            "R100CNB1MEHAG3 B001AWBYRA AYPZ3LHFA85SL  Good for single player 2010-11-04 M. Swan         Call of Duty: World at War (DVD-ROM)               Multi stink in all new CoD ... well ever since ... -1                                                 -1 4  0 1 0 \"('R100CNB1MEHAG3'  'B001AWBYRA'                                                       1   \n",
            "R100D2CV4WK16J B000N9B1MY AXM8WOYHV2R2M  Remember Mr Salty      2007-07-12 TEP             \"'Shultz Pretzels Salty Stix Box                    12-Ounce Boxes  (Pack of 12) (Grocery)'\"          If you remember the original Mr. Salty pretzels... -1 -1 5 0 1 0                  \"('R100D2CV4WK16J'   'If you remember the original Mr. Salty pretz...   \n",
            "\n",
            "                                                                                                                                                                                                                                                                                                      number_of_comments  \\\n",
            "R10019MUX6F9A  B00006881R AWNC1GQ75W8K8  Works as advertised    2002-12-17 Neil            TeleZapper TZ 900 (Office Product)                 \"'I\\'ve had this product for about a month and ...  which to me is more desirable than having to t... 7  7  4 0 0 0                  \"('R10019MUX6F9A'                   0   \n",
            "R100523NBIQIEV B000070MRB A2DKAPBHZ5DERR Neutral                2004-06-07 S. Barnes       Game Programming Starter Kit 6.0 (CD-ROM)          \"'If you plan on getting this program go to htt...  download the free compiler and learn how to us... -1 -1 3 0 0 0                  \"('R100523NBIQIEV'                  0   \n",
            "R1007LULU4W7YH B000E5E6KG A1031ZUDNBOON0 More Junk from Linksys 2008-07-20 Lance E. Walden Cisco-Linksys WMB54G Wireless-G Music Bridge (P... \"'Look at the review by C-Net and you start to ... -1                                                 -1 1  0 0 0 \"('R1007LULU4W7YH'  'B000E5E6KG'                      0)   \n",
            "R100CNB1MEHAG3 B001AWBYRA AYPZ3LHFA85SL  Good for single player 2010-11-04 M. Swan         Call of Duty: World at War (DVD-ROM)               Multi stink in all new CoD ... well ever since ... -1                                                 -1 4  0 1 0 \"('R100CNB1MEHAG3'  'B001AWBYRA'                      0)   \n",
            "R100D2CV4WK16J B000N9B1MY AXM8WOYHV2R2M  Remember Mr Salty      2007-07-12 TEP             \"'Shultz Pretzels Salty Stix Box                    12-Ounce Boxes  (Pack of 12) (Grocery)'\"          If you remember the original Mr. Salty pretzels... -1 -1 5 0 1 0                  \"('R100D2CV4WK16J'                  0   \n",
            "\n",
            "                                                                                                                                                                                                                                                                                                      amazon_verified_purchase  \\\n",
            "R10019MUX6F9A  B00006881R AWNC1GQ75W8K8  Works as advertised    2002-12-17 Neil            TeleZapper TZ 900 (Office Product)                 \"'I\\'ve had this product for about a month and ...  which to me is more desirable than having to t... 7  7  4 0 0 0                  \"('R10019MUX6F9A'                         0   \n",
            "R100523NBIQIEV B000070MRB A2DKAPBHZ5DERR Neutral                2004-06-07 S. Barnes       Game Programming Starter Kit 6.0 (CD-ROM)          \"'If you plan on getting this program go to htt...  download the free compiler and learn how to us... -1 -1 3 0 0 0                  \"('R100523NBIQIEV'                        0   \n",
            "R1007LULU4W7YH B000E5E6KG A1031ZUDNBOON0 More Junk from Linksys 2008-07-20 Lance E. Walden Cisco-Linksys WMB54G Wireless-G Music Bridge (P... \"'Look at the review by C-Net and you start to ... -1                                                 -1 1  0 0 0 \"('R1007LULU4W7YH'  'B000E5E6KG'                             \"   \n",
            "R100CNB1MEHAG3 B001AWBYRA AYPZ3LHFA85SL  Good for single player 2010-11-04 M. Swan         Call of Duty: World at War (DVD-ROM)               Multi stink in all new CoD ... well ever since ... -1                                                 -1 4  0 1 0 \"('R100CNB1MEHAG3'  'B001AWBYRA'                             \"   \n",
            "R100D2CV4WK16J B000N9B1MY AXM8WOYHV2R2M  Remember Mr Salty      2007-07-12 TEP             \"'Shultz Pretzels Salty Stix Box                    12-Ounce Boxes  (Pack of 12) (Grocery)'\"          If you remember the original Mr. Salty pretzels... -1 -1 5 0 1 0                  \"('R100D2CV4WK16J'                        1   \n",
            "\n",
            "                                                                                                                                                                                                                                                                                                      amazon_vine_program_review  \\\n",
            "R10019MUX6F9A  B00006881R AWNC1GQ75W8K8  Works as advertised    2002-12-17 Neil            TeleZapper TZ 900 (Office Product)                 \"'I\\'ve had this product for about a month and ...  which to me is more desirable than having to t... 7  7  4 0 0 0                  \"('R10019MUX6F9A'                          0)   \n",
            "R100523NBIQIEV B000070MRB A2DKAPBHZ5DERR Neutral                2004-06-07 S. Barnes       Game Programming Starter Kit 6.0 (CD-ROM)          \"'If you plan on getting this program go to htt...  download the free compiler and learn how to us... -1 -1 3 0 0 0                  \"('R100523NBIQIEV'                         0)   \n",
            "R1007LULU4W7YH B000E5E6KG A1031ZUDNBOON0 More Junk from Linksys 2008-07-20 Lance E. Walden Cisco-Linksys WMB54G Wireless-G Music Bridge (P... \"'Look at the review by C-Net and you start to ... -1                                                 -1 1  0 0 0 \"('R1007LULU4W7YH'  'B000E5E6KG'                            None   \n",
            "R100CNB1MEHAG3 B001AWBYRA AYPZ3LHFA85SL  Good for single player 2010-11-04 M. Swan         Call of Duty: World at War (DVD-ROM)               Multi stink in all new CoD ... well ever since ... -1                                                 -1 4  0 1 0 \"('R100CNB1MEHAG3'  'B001AWBYRA'                            None   \n",
            "R100D2CV4WK16J B000N9B1MY AXM8WOYHV2R2M  Remember Mr Salty      2007-07-12 TEP             \"'Shultz Pretzels Salty Stix Box                    12-Ounce Boxes  (Pack of 12) (Grocery)'\"          If you remember the original Mr. Salty pretzels... -1 -1 5 0 1 0                  \"('R100D2CV4WK16J'                         0)   \n",
            "\n",
            "                                                                                                                                                                                                                                                                                                      review_with_metadata  \n",
            "R10019MUX6F9A  B00006881R AWNC1GQ75W8K8  Works as advertised    2002-12-17 Neil            TeleZapper TZ 900 (Office Product)                 \"'I\\'ve had this product for about a month and ...  which to me is more desirable than having to t... 7  7  4 0 0 0                  \"('R10019MUX6F9A'                     \"  \n",
            "R100523NBIQIEV B000070MRB A2DKAPBHZ5DERR Neutral                2004-06-07 S. Barnes       Game Programming Starter Kit 6.0 (CD-ROM)          \"'If you plan on getting this program go to htt...  download the free compiler and learn how to us... -1 -1 3 0 0 0                  \"('R100523NBIQIEV'                    \"  \n",
            "R1007LULU4W7YH B000E5E6KG A1031ZUDNBOON0 More Junk from Linksys 2008-07-20 Lance E. Walden Cisco-Linksys WMB54G Wireless-G Music Bridge (P... \"'Look at the review by C-Net and you start to ... -1                                                 -1 1  0 0 0 \"('R1007LULU4W7YH'  'B000E5E6KG'                      None  \n",
            "R100CNB1MEHAG3 B001AWBYRA AYPZ3LHFA85SL  Good for single player 2010-11-04 M. Swan         Call of Duty: World at War (DVD-ROM)               Multi stink in all new CoD ... well ever since ... -1                                                 -1 4  0 1 0 \"('R100CNB1MEHAG3'  'B001AWBYRA'                      None  \n",
            "R100D2CV4WK16J B000N9B1MY AXM8WOYHV2R2M  Remember Mr Salty      2007-07-12 TEP             \"'Shultz Pretzels Salty Stix Box                    12-Ounce Boxes  (Pack of 12) (Grocery)'\"          If you remember the original Mr. Salty pretzels... -1 -1 5 0 1 0                  \"('R100D2CV4WK16J'                    \"  \n",
            "                                                                                                                                                                                                                                                                                                                                             review_text  \\\n",
            "R10019MUX6F9A  B00006881R AWNC1GQ75W8K8  Works as advertised    2002-12-17 Neil            TeleZapper TZ 900 (Office Product)                 \"'I\\'ve had this product for about a month and ...  which to me is more desirable than having to t... 7  7  4 0 0 0                  \"('R10019MUX6F9A'                                              'Neil'   \n",
            "R100523NBIQIEV B000070MRB A2DKAPBHZ5DERR Neutral                2004-06-07 S. Barnes       Game Programming Starter Kit 6.0 (CD-ROM)          \"'If you plan on getting this program go to htt...  download the free compiler and learn how to us... -1 -1 3 0 0 0                  \"('R100523NBIQIEV'                                        'S. Barnes'   \n",
            "R1007LULU4W7YH B000E5E6KG A1031ZUDNBOON0 More Junk from Linksys 2008-07-20 Lance E. Walden Cisco-Linksys WMB54G Wireless-G Music Bridge (P... \"'Look at the review by C-Net and you start to ... -1                                                 -1 1  0 0 0 \"('R1007LULU4W7YH'  'B000E5E6KG'        'Cisco-Linksys WMB54G Wireless-G Music Bridge...   \n",
            "R100CNB1MEHAG3 B001AWBYRA AYPZ3LHFA85SL  Good for single player 2010-11-04 M. Swan         Call of Duty: World at War (DVD-ROM)               Multi stink in all new CoD ... well ever since ... -1                                                 -1 4  0 1 0 \"('R100CNB1MEHAG3'  'B001AWBYRA'                  'Call of Duty: World at War (DVD-ROM)'   \n",
            "R100D2CV4WK16J B000N9B1MY AXM8WOYHV2R2M  Remember Mr Salty      2007-07-12 TEP             \"'Shultz Pretzels Salty Stix Box                    12-Ounce Boxes  (Pack of 12) (Grocery)'\"          If you remember the original Mr. Salty pretzels... -1 -1 5 0 1 0                  \"('R100D2CV4WK16J'                                              'TEP'   \n",
            "\n",
            "                                                                                                                                                                                                                                                                                                                                    preprocessed_reviews  \n",
            "R10019MUX6F9A  B00006881R AWNC1GQ75W8K8  Works as advertised    2002-12-17 Neil            TeleZapper TZ 900 (Office Product)                 \"'I\\'ve had this product for about a month and ...  which to me is more desirable than having to t... 7  7  4 0 0 0                  \"('R10019MUX6F9A'   {'sentences': [' 'Neil''], 'filtered_words': [...  \n",
            "R100523NBIQIEV B000070MRB A2DKAPBHZ5DERR Neutral                2004-06-07 S. Barnes       Game Programming Starter Kit 6.0 (CD-ROM)          \"'If you plan on getting this program go to htt...  download the free compiler and learn how to us... -1 -1 3 0 0 0                  \"('R100523NBIQIEV'  {'sentences': [' 'S.', 'Barnes''], 'filtered_w...  \n",
            "R1007LULU4W7YH B000E5E6KG A1031ZUDNBOON0 More Junk from Linksys 2008-07-20 Lance E. Walden Cisco-Linksys WMB54G Wireless-G Music Bridge (P... \"'Look at the review by C-Net and you start to ... -1                                                 -1 1  0 0 0 \"('R1007LULU4W7YH'  'B000E5E6KG'       {'sentences': [' 'Cisco-Linksys WMB54G Wireles...  \n",
            "R100CNB1MEHAG3 B001AWBYRA AYPZ3LHFA85SL  Good for single player 2010-11-04 M. Swan         Call of Duty: World at War (DVD-ROM)               Multi stink in all new CoD ... well ever since ... -1                                                 -1 4  0 1 0 \"('R100CNB1MEHAG3'  'B001AWBYRA'       {'sentences': [' 'Call of Duty: World at War (...  \n",
            "R100D2CV4WK16J B000N9B1MY AXM8WOYHV2R2M  Remember Mr Salty      2007-07-12 TEP             \"'Shultz Pretzels Salty Stix Box                    12-Ounce Boxes  (Pack of 12) (Grocery)'\"          If you remember the original Mr. Salty pretzels... -1 -1 5 0 1 0                  \"('R100D2CV4WK16J'  {'sentences': [' 'TEP''], 'filtered_words': [[...  \n"
          ]
        }
      ]
    },
    {
      "cell_type": "markdown",
      "source": [
        "# 2. Dependency Parsing & Syntactic Analysis"
      ],
      "metadata": {
        "id": "99RYcnjnWjM1"
      }
    },
    {
      "cell_type": "code",
      "source": [
        "import spacy\n",
        "from nltk import Tree\n",
        "\n",
        "# Load spaCy's English model\n",
        "nlp = spacy.load(\"en_core_web_sm\")\n",
        "\n",
        "# Function to convert dependency parse to a Tree structure\n",
        "def tok_format(tok):\n",
        "    return f'{tok.orth_} ({tok.dep_})'\n",
        "\n",
        "def to_nltk_tree(node):\n",
        "    # Recursively builds a Treebank structure for each token\n",
        "    if node.n_lefts + node.n_rights > 0:\n",
        "        return Tree(tok_format(node), [to_nltk_tree(child) for child in node.children])\n",
        "    else:\n",
        "        return tok_format(node)\n",
        "\n",
        "# Dependency Parsing & Syntactic Analysis Function\n",
        "def dependency_syntactic_analysis(text):\n",
        "    # Parse the text with spaCy\n",
        "    doc = nlp(text)\n",
        "\n",
        "    # 1. Dependency Parsing: Extract relationships between words\n",
        "    dependency_parsing = [(token.text, token.dep_, token.head.text) for token in doc]\n",
        "\n",
        "    # 2. Syntactic Parsing (Treebank structure): Convert to tree format\n",
        "    syntactic_tree = [to_nltk_tree(sent.root) for sent in doc.sents]\n",
        "\n",
        "    return {\n",
        "        'dependency_parsing': dependency_parsing,\n",
        "        'syntactic_tree': syntactic_tree\n",
        "    }\n",
        "\n",
        "# Apply the function to the 'review_text' column\n",
        "df['syntax_analysis'] = df['review_text'].apply(lambda x: dependency_syntactic_analysis(str(x)))\n",
        "\n",
        "# Display results for a single row\n",
        "print(df[['review_text', 'syntax_analysis']].head(1))\n"
      ],
      "metadata": {
        "id": "bfo06tlgVXtz",
        "colab": {
          "base_uri": "https://localhost:8080/"
        },
        "outputId": "57dccfa1-b03b-4b1c-8103-58a1c7bd1c23"
      },
      "execution_count": 5,
      "outputs": [
        {
          "output_type": "stream",
          "name": "stdout",
          "text": [
            "                                                                                                                                                                                                                                                  review_text  \\\n",
            "R10019MUX6F9A B00006881R AWNC1GQ75W8K8 Works as advertised 2002-12-17 Neil TeleZapper TZ 900 (Office Product) \"'I\\'ve had this product for about a month and ... which to me is more desirable than having to ta... 7 7 4 0 0 0 \"('R10019MUX6F9A'      'Neil'   \n",
            "\n",
            "                                                                                                                                                                                                                                                                                     syntax_analysis  \n",
            "R10019MUX6F9A B00006881R AWNC1GQ75W8K8 Works as advertised 2002-12-17 Neil TeleZapper TZ 900 (Office Product) \"'I\\'ve had this product for about a month and ... which to me is more desirable than having to ta... 7 7 4 0 0 0 \"('R10019MUX6F9A'  {'dependency_parsing': [(' ', 'dep', '''), (''...  \n"
          ]
        }
      ]
    },
    {
      "cell_type": "markdown",
      "source": [
        "# 3. Sentiment Classification"
      ],
      "metadata": {
        "id": "s7HnQ77LYKh-"
      }
    },
    {
      "cell_type": "code",
      "source": [
        "# Convert 'customer_review_rating' to numeric, setting errors='coerce' to handle non-numeric values\n",
        "df['customer_review_rating'] = pd.to_numeric(df['customer_review_rating'], errors='coerce')\n",
        "\n",
        "# Drop rows where 'customer_review_rating' is NaN after conversion (non-numeric entries)\n",
        "df = df.dropna(subset=['customer_review_rating'])\n",
        "\n",
        "# Convert the ratings to integer\n",
        "df.loc[:, 'customer_review_rating'] = df['customer_review_rating'].astype(int)\n",
        "\n",
        "# Define sentiment labels based on customer_review_rating\n",
        "# Assuming ratings 3 and above as positive (1), below 3 as negative (0)\n",
        "df.loc[:, 'sentiment'] = df['customer_review_rating'].apply(lambda x: 1 if x >= 3 else 0)\n",
        "\n",
        "# Check label distribution (optional, to verify balance)\n",
        "print(\"Sentiment Label Distribution:\\n\", df['sentiment'].value_counts())\n",
        "\n",
        "# Check unique values in 'customer_review_rating' to understand the range of ratings\n",
        "print(\"Unique values in customer_review_rating:\\n\", df['customer_review_rating'].unique())\n",
        "\n",
        "# Assign customer_review_rating directly as sentiment labels\n",
        "df['sentiment'] = df['customer_review_rating']\n",
        "\n",
        "# Check the updated sentiment label distribution\n",
        "sentiment_counts = df['sentiment'].value_counts()\n",
        "print(\"Sentiment Label Distribution:\\n\", sentiment_counts)\n"
      ],
      "metadata": {
        "colab": {
          "base_uri": "https://localhost:8080/"
        },
        "id": "_0-ScK0CYPLU",
        "outputId": "05e0e4e5-dd0e-41eb-ec54-1f5358874c27"
      },
      "execution_count": 6,
      "outputs": [
        {
          "output_type": "stream",
          "name": "stdout",
          "text": [
            "Sentiment Label Distribution:\n",
            " sentiment\n",
            "0    4781\n",
            "Name: count, dtype: int64\n",
            "Unique values in customer_review_rating:\n",
            " [0. 1.]\n",
            "Sentiment Label Distribution:\n",
            " sentiment\n",
            "1.0    3394\n",
            "0.0    1387\n",
            "Name: count, dtype: int64\n"
          ]
        },
        {
          "output_type": "stream",
          "name": "stderr",
          "text": [
            "<ipython-input-6-f7fc9e31898b>:12: SettingWithCopyWarning: \n",
            "A value is trying to be set on a copy of a slice from a DataFrame.\n",
            "Try using .loc[row_indexer,col_indexer] = value instead\n",
            "\n",
            "See the caveats in the documentation: https://pandas.pydata.org/pandas-docs/stable/user_guide/indexing.html#returning-a-view-versus-a-copy\n",
            "  df.loc[:, 'sentiment'] = df['customer_review_rating'].apply(lambda x: 1 if x >= 3 else 0)\n",
            "<ipython-input-6-f7fc9e31898b>:21: SettingWithCopyWarning: \n",
            "A value is trying to be set on a copy of a slice from a DataFrame.\n",
            "Try using .loc[row_indexer,col_indexer] = value instead\n",
            "\n",
            "See the caveats in the documentation: https://pandas.pydata.org/pandas-docs/stable/user_guide/indexing.html#returning-a-view-versus-a-copy\n",
            "  df['sentiment'] = df['customer_review_rating']\n"
          ]
        }
      ]
    },
    {
      "cell_type": "code",
      "source": [
        "# Split data into training and test sets\n",
        "X_train, X_test, y_train, y_test = train_test_split(df['review_text'], df['sentiment'], test_size=0.2, random_state=42)\n",
        "\n",
        "# Initialize TF-IDF vectorizer\n",
        "tfidf_vectorizer = TfidfVectorizer(stop_words='english', max_features=5000)\n",
        "\n",
        "# Transform the text data into TF-IDF features\n",
        "X_train_tfidf = tfidf_vectorizer.fit_transform(X_train)\n",
        "X_test_tfidf = tfidf_vectorizer.transform(X_test)\n",
        "\n",
        "# Initialize and train the Logistic Regression model\n",
        "log_reg = LogisticRegression(max_iter=1000, random_state=42)\n",
        "log_reg.fit(X_train_tfidf, y_train)\n",
        "\n",
        "# Predict on the test set\n",
        "y_pred = log_reg.predict(X_test_tfidf)\n",
        "\n",
        "# Evaluate the model\n",
        "print(\"Classification Report:\\n\", classification_report(y_test, y_pred))\n",
        "print(\"Confusion Matrix:\\n\", confusion_matrix(y_test, y_pred))\n"
      ],
      "metadata": {
        "colab": {
          "base_uri": "https://localhost:8080/"
        },
        "id": "nj38DYHuY_t-",
        "outputId": "a952809b-0c28-4535-b481-f207357d0da1"
      },
      "execution_count": 7,
      "outputs": [
        {
          "output_type": "stream",
          "name": "stdout",
          "text": [
            "Classification Report:\n",
            "               precision    recall  f1-score   support\n",
            "\n",
            "         0.0       0.48      0.17      0.25       277\n",
            "         1.0       0.73      0.93      0.82       680\n",
            "\n",
            "    accuracy                           0.71       957\n",
            "   macro avg       0.61      0.55      0.53       957\n",
            "weighted avg       0.66      0.71      0.65       957\n",
            "\n",
            "Confusion Matrix:\n",
            " [[ 47 230]\n",
            " [ 50 630]]\n"
          ]
        }
      ]
    },
    {
      "cell_type": "code",
      "source": [
        "# Data manipulation\n",
        "import pandas as pd\n",
        "from sklearn.model_selection import train_test_split\n",
        "from sklearn.feature_extraction.text import TfidfVectorizer\n",
        "from sklearn.linear_model import LogisticRegression\n",
        "from sklearn.naive_bayes import MultinomialNB\n",
        "from sklearn.metrics import classification_report, confusion_matrix\n",
        "from imblearn.over_sampling import SMOTE\n",
        "\n",
        "# Split data into training and test sets\n",
        "X_train, X_test, y_train, y_test = train_test_split(df['review_text'], df['sentiment'], test_size=0.2, random_state=42)\n",
        "\n",
        "# Initialize TF-IDF vectorizer\n",
        "tfidf_vectorizer = TfidfVectorizer(stop_words='english', max_features=5000)\n",
        "\n",
        "# Transform the text data into TF-IDF features\n",
        "X_train_tfidf = tfidf_vectorizer.fit_transform(X_train)\n",
        "X_test_tfidf = tfidf_vectorizer.transform(X_test)\n",
        "\n",
        "# Apply SMOTE to balance the classes in the training set\n",
        "smote = SMOTE(random_state=42)\n",
        "X_train_tfidf_sm, y_train_sm = smote.fit_resample(X_train_tfidf, y_train)\n",
        "\n",
        "# Define and train Logistic Regression model\n",
        "log_reg = LogisticRegression(max_iter=1000, random_state=42)\n",
        "log_reg.fit(X_train_tfidf_sm, y_train_sm)\n",
        "y_pred_log_reg = log_reg.predict(X_test_tfidf)\n",
        "\n",
        "# Define and train Naive Bayes model\n",
        "nb_model = MultinomialNB()\n",
        "nb_model.fit(X_train_tfidf_sm, y_train_sm)\n",
        "y_pred_nb = nb_model.predict(X_test_tfidf)\n",
        "\n",
        "# Evaluation for Logistic Regression\n",
        "print(\"Logistic Regression Model:\")\n",
        "print(\"Classification Report:\\n\", classification_report(y_test, y_pred_log_reg))\n",
        "print(\"Confusion Matrix:\\n\", confusion_matrix(y_test, y_pred_log_reg))\n",
        "\n",
        "# Evaluation for Naive Bayes\n",
        "print(\"\\nNaive Bayes Model:\")\n",
        "print(\"Classification Report:\\n\", classification_report(y_test, y_pred_nb))\n",
        "print(\"Confusion Matrix:\\n\", confusion_matrix(y_test, y_pred_nb))\n"
      ],
      "metadata": {
        "id": "Ve6JDNdWZWac",
        "outputId": "2f1f1485-bd99-4086-cd2d-c5090d289c60",
        "colab": {
          "base_uri": "https://localhost:8080/"
        }
      },
      "execution_count": 8,
      "outputs": [
        {
          "output_type": "stream",
          "name": "stdout",
          "text": [
            "Logistic Regression Model:\n",
            "Classification Report:\n",
            "               precision    recall  f1-score   support\n",
            "\n",
            "         0.0       0.40      0.52      0.45       277\n",
            "         1.0       0.78      0.68      0.73       680\n",
            "\n",
            "    accuracy                           0.64       957\n",
            "   macro avg       0.59      0.60      0.59       957\n",
            "weighted avg       0.67      0.64      0.65       957\n",
            "\n",
            "Confusion Matrix:\n",
            " [[145 132]\n",
            " [216 464]]\n",
            "\n",
            "Naive Bayes Model:\n",
            "Classification Report:\n",
            "               precision    recall  f1-score   support\n",
            "\n",
            "         0.0       0.39      0.61      0.48       277\n",
            "         1.0       0.80      0.61      0.69       680\n",
            "\n",
            "    accuracy                           0.61       957\n",
            "   macro avg       0.59      0.61      0.58       957\n",
            "weighted avg       0.68      0.61      0.63       957\n",
            "\n",
            "Confusion Matrix:\n",
            " [[170 107]\n",
            " [264 416]]\n"
          ]
        }
      ]
    },
    {
      "cell_type": "code",
      "source": [
        "from sklearn.model_selection import GridSearchCV\n",
        "\n",
        "# Logistic Regression hyperparameter tuning\n",
        "log_reg_params = {\n",
        "    'C': [0.1, 1, 10],  # Regularization strength\n",
        "    'solver': ['liblinear', 'saga'],  # Solvers\n",
        "    'max_iter': [1000, 2000]\n",
        "}\n",
        "\n",
        "log_reg_grid_search = GridSearchCV(LogisticRegression(random_state=42), log_reg_params, cv=5, scoring='accuracy')\n",
        "log_reg_grid_search.fit(X_train_tfidf_sm, y_train_sm)\n",
        "\n",
        "# Best parameters and evaluation\n",
        "print(\"Best parameters for Logistic Regression:\", log_reg_grid_search.best_params_)\n",
        "y_pred_log_reg = log_reg_grid_search.predict(X_test_tfidf)\n",
        "\n",
        "print(\"Logistic Regression Classification Report:\")\n",
        "print(classification_report(y_test, y_pred_log_reg))\n",
        "print(confusion_matrix(y_test, y_pred_log_reg))\n"
      ],
      "metadata": {
        "colab": {
          "base_uri": "https://localhost:8080/"
        },
        "id": "YWh6sgLxiyt1",
        "outputId": "a44a60b9-d0cc-4f8c-b864-12756f7a02fa"
      },
      "execution_count": 92,
      "outputs": [
        {
          "output_type": "stream",
          "name": "stderr",
          "text": [
            "/usr/local/lib/python3.10/dist-packages/ipykernel/ipkernel.py:283: DeprecationWarning: `should_run_async` will not call `transform_cell` automatically in the future. Please pass the result to `transformed_cell` argument and any exception that happen during thetransform in `preprocessing_exc_tuple` in IPython 7.17 and above.\n",
            "  and should_run_async(code)\n"
          ]
        },
        {
          "output_type": "stream",
          "name": "stdout",
          "text": [
            "Best parameters for Logistic Regression: {'C': 10, 'max_iter': 1000, 'solver': 'saga'}\n",
            "Logistic Regression Classification Report:\n",
            "              precision    recall  f1-score   support\n",
            "\n",
            "         0.0       0.39      0.49      0.44       277\n",
            "         1.0       0.77      0.69      0.73       680\n",
            "\n",
            "    accuracy                           0.63       957\n",
            "   macro avg       0.58      0.59      0.58       957\n",
            "weighted avg       0.66      0.63      0.64       957\n",
            "\n",
            "[[137 140]\n",
            " [212 468]]\n"
          ]
        }
      ]
    },
    {
      "cell_type": "code",
      "source": [
        "# Naive Bayes hyperparameter tuning\n",
        "nb_params = {\n",
        "    'alpha': [0.5, 1.0, 1.5],  # Smoothing parameter\n",
        "}\n",
        "\n",
        "nb_grid_search = GridSearchCV(MultinomialNB(), nb_params, cv=5, scoring='accuracy')\n",
        "nb_grid_search.fit(X_train_tfidf_sm, y_train_sm)\n",
        "\n",
        "# Best parameters and evaluation\n",
        "print(\"Best parameters for Naive Bayes:\", nb_grid_search.best_params_)\n",
        "y_pred_nb = nb_grid_search.predict(X_test_tfidf)\n",
        "\n",
        "print(\"Naive Bayes Classification Report:\")\n",
        "print(classification_report(y_test, y_pred_nb))\n",
        "print(confusion_matrix(y_test, y_pred_nb))\n"
      ],
      "metadata": {
        "colab": {
          "base_uri": "https://localhost:8080/"
        },
        "id": "SLAhp5PRi9Zt",
        "outputId": "4a8f48ce-5986-4c54-ad71-322899490ef1"
      },
      "execution_count": 93,
      "outputs": [
        {
          "output_type": "stream",
          "name": "stdout",
          "text": [
            "Best parameters for Naive Bayes: {'alpha': 0.5}\n",
            "Naive Bayes Classification Report:\n",
            "              precision    recall  f1-score   support\n",
            "\n",
            "         0.0       0.39      0.59      0.47       277\n",
            "         1.0       0.79      0.62      0.70       680\n",
            "\n",
            "    accuracy                           0.61       957\n",
            "   macro avg       0.59      0.61      0.58       957\n",
            "weighted avg       0.67      0.61      0.63       957\n",
            "\n",
            "[[163 114]\n",
            " [255 425]]\n"
          ]
        },
        {
          "output_type": "stream",
          "name": "stderr",
          "text": [
            "/usr/local/lib/python3.10/dist-packages/ipykernel/ipkernel.py:283: DeprecationWarning: `should_run_async` will not call `transform_cell` automatically in the future. Please pass the result to `transformed_cell` argument and any exception that happen during thetransform in `preprocessing_exc_tuple` in IPython 7.17 and above.\n",
            "  and should_run_async(code)\n"
          ]
        }
      ]
    },
    {
      "cell_type": "code",
      "source": [
        "from sklearn.svm import SVC\n",
        "\n",
        "# SVM model with linear kernel\n",
        "svm_model = SVC(kernel='linear', random_state=42)\n",
        "svm_model.fit(X_train_tfidf_sm, y_train_sm)\n",
        "y_pred_svm = svm_model.predict(X_test_tfidf)\n",
        "\n",
        "print(\"SVM Classification Report:\")\n",
        "print(classification_report(y_test, y_pred_svm))\n",
        "print(confusion_matrix(y_test, y_pred_svm))\n"
      ],
      "metadata": {
        "colab": {
          "base_uri": "https://localhost:8080/"
        },
        "id": "ceJbiQZJjBuP",
        "outputId": "d70d77a6-5fc6-4144-9fd6-f142a09bbaca"
      },
      "execution_count": 94,
      "outputs": [
        {
          "output_type": "stream",
          "name": "stderr",
          "text": [
            "/usr/local/lib/python3.10/dist-packages/ipykernel/ipkernel.py:283: DeprecationWarning: `should_run_async` will not call `transform_cell` automatically in the future. Please pass the result to `transformed_cell` argument and any exception that happen during thetransform in `preprocessing_exc_tuple` in IPython 7.17 and above.\n",
            "  and should_run_async(code)\n"
          ]
        },
        {
          "output_type": "stream",
          "name": "stdout",
          "text": [
            "SVM Classification Report:\n",
            "              precision    recall  f1-score   support\n",
            "\n",
            "         0.0       0.38      0.52      0.44       277\n",
            "         1.0       0.77      0.66      0.71       680\n",
            "\n",
            "    accuracy                           0.62       957\n",
            "   macro avg       0.58      0.59      0.58       957\n",
            "weighted avg       0.66      0.62      0.63       957\n",
            "\n",
            "[[144 133]\n",
            " [232 448]]\n"
          ]
        }
      ]
    },
    {
      "cell_type": "code",
      "source": [
        "import numpy as np\n",
        "from sklearn.metrics import confusion_matrix\n",
        "\n",
        "# Confusion Matrix for Logistic Regression (example)\n",
        "# Format: [[TN, FP], [FN, TP]]\n",
        "conf_matrix = np.array([[137, 140], [212, 468]])\n",
        "\n",
        "# Extract True Positives (TP), False Positives (FP), False Negatives (FN), True Negatives (TN)\n",
        "TN, FP, FN, TP = conf_matrix.ravel()\n",
        "\n",
        "# Calculate Precision, Recall, and F1-Score for class 1 (positive class)\n",
        "precision = TP / (TP + FP)  # Precision for positive class\n",
        "recall = TP / (TP + FN)     # Recall for positive class\n",
        "f1_score = 2 * (precision * recall) / (precision + recall)  # F1-Score for positive class\n",
        "\n",
        "# Output the metrics\n",
        "print(f\"Precision: {precision:.2f}\")\n",
        "print(f\"Recall: {recall:.2f}\")\n",
        "print(f\"F1-Score: {f1_score:.2f}\")\n",
        "\n",
        "# Optionally, calculate for class 0 (negative class) as well\n",
        "precision_class_0 = TN / (TN + FN)  # Precision for negative class\n",
        "recall_class_0 = TN / (TN + FP)     # Recall for negative class\n",
        "f1_score_class_0 = 2 * (precision_class_0 * recall_class_0) / (precision_class_0 + recall_class_0)  # F1-Score for negative class\n",
        "\n",
        "# Output the metrics for class 0\n",
        "print(f\"Precision for class 0: {precision_class_0:.2f}\")\n",
        "print(f\"Recall for class 0: {recall_class_0:.2f}\")\n",
        "print(f\"F1-Score for class 0: {f1_score_class_0:.2f}\")\n"
      ],
      "metadata": {
        "colab": {
          "base_uri": "https://localhost:8080/"
        },
        "id": "ztGaq_mMjcUF",
        "outputId": "39a787f9-2eda-4bf1-c790-65e756b2edd6"
      },
      "execution_count": 97,
      "outputs": [
        {
          "output_type": "stream",
          "name": "stdout",
          "text": [
            "Precision: 0.77\n",
            "Recall: 0.69\n",
            "F1-Score: 0.73\n",
            "Precision for class 0: 0.39\n",
            "Recall for class 0: 0.49\n",
            "F1-Score for class 0: 0.44\n"
          ]
        },
        {
          "output_type": "stream",
          "name": "stderr",
          "text": [
            "/usr/local/lib/python3.10/dist-packages/ipykernel/ipkernel.py:283: DeprecationWarning: `should_run_async` will not call `transform_cell` automatically in the future. Please pass the result to `transformed_cell` argument and any exception that happen during thetransform in `preprocessing_exc_tuple` in IPython 7.17 and above.\n",
            "  and should_run_async(code)\n"
          ]
        }
      ]
    },
    {
      "cell_type": "markdown",
      "source": [
        "# Boolean Search & Rating Filtering"
      ],
      "metadata": {
        "id": "C9qoaBr_HhW3"
      }
    },
    {
      "cell_type": "code",
      "source": [
        "# Check for reviews containing the word \"good\"\n",
        "contains_good = df[df['review_text'].str.contains('good', case=False, na=False)]\n",
        "print(\"Reviews containing 'good':\\n\", contains_good[['review_text', 'customer_review_rating', 'sentiment']])\n",
        "\n",
        "# Check for reviews containing the word \"quality\"\n",
        "contains_quality = df[df['review_text'].str.contains('quality', case=False, na=False)]\n",
        "print(\"Reviews containing 'quality':\\n\", contains_quality[['review_text', 'customer_review_rating', 'sentiment']])\n"
      ],
      "metadata": {
        "colab": {
          "base_uri": "https://localhost:8080/"
        },
        "id": "jBPK4ttiHjRY",
        "outputId": "597c282c-9ff8-42b2-a49e-ab393f41c554"
      },
      "execution_count": 13,
      "outputs": [
        {
          "output_type": "stream",
          "name": "stdout",
          "text": [
            "Reviews containing 'good':\n",
            "                                                                                                                                                                                                                                                                                                                            review_text  \\\n",
            "R10H8M9OOI40NB B000B0WO4O A1LLNZM7WSFP2M Good Info On Wal-Mart              2008-04-06 JHW                                      Frontline: Is Wal-Mart Good for America? (DVD)     Many of us know what Wal-Mart has done to small... 1  2  4 0 1 0 \"('R10H8M9OOI40NB' 'B000B0WO4O'   'Frontline: Is Wal-Mart Good for America? (DVD)'   \n",
            "R13XO0KVFKY6KD 0060875496 APIFRHB3KCB89  Fair Tax                           2007-09-11 Paul B. Jones                            The Fair Tax Book: Saying Goodbye to the Income... This is a very clear and concise book on how th... 2  5  5 0 1 0 \"('R13XO0KVFKY6KD' '0060875496'   'The Fair Tax Book: Saying Goodbye to the Inc...   \n",
            "R14Z1V57GA2FQK B0007VZ9DA A3TW78U9OND9S9 Great Movie                        2007-05-08 Benjamin J. Denney                       In Good Company (Full Screen Edition) (DVD)        I first caught the ending of this movie on one ... 0  1  5 0 0 0 \"('R14Z1V57GA2FQK' 'B0007VZ9DA'      'In Good Company (Full Screen Edition) (DVD)'   \n",
            "R16HE5FQJHQROA B0001598FC AQPR0BZZVQOUB  Most useful item in the kitchen    2008-09-08 Sydney Bristow                           Oxo Good Grips Locking Tongs with Nylon Heads (... Plain in simple- i use it daily- and i love it.... 1  2  5 0 0 0 \"('R16HE5FQJHQROA' 'B0001598FC'   'Oxo Good Grips Locking Tongs with Nylon Head...   \n",
            "R1BHW5ZWR5ZDO6 B0001YH1MU A7EUXGYTGB6QD  Awesome!!                          2010-06-02 Bruce Horn                               OXO Good Grips 5-Quart Mixing Bowl (Kitchen)       This bowl is inexpensive and really well-made. ... 1  1  5 0 1 0 \"('R1BHW5ZWR5ZDO6' 'B0001YH1MU'     'OXO Good Grips 5-Quart Mixing Bowl (Kitchen)'   \n",
            "R1DLGCKZWU1OQE B000002UR4 A1QMVN5CCX64GW Stereo is not dead                 2006-09-18 \"'Benjamin L. Giguere \"\"recordplayer\"\"'\" Good Vibrations: Thirty Years Of The Beach Boys... I just recently bought this and was very disapp... 11 30 1 3 0 0 \"('R1DLGCKZWU1OQE' 'B000002UR4'   'Good Vibrations: Thirty Years Of The Beach B...   \n",
            "R1E5EOBL4I9B6Q 0345379969 AQ23ROA9RSNOR  The Book Encourages You in Writing 2001-08-31 Billy M                                  Random House Guide to Good Writing (Mass Market... &iexcl;°Guide to&iexcl;± and &iexcl;°hot to&iex... 2  3  5 0 0 0 \"('R1E5EOBL4I9B6Q' '0345379969'   'Random House Guide to Good Writing (Mass Mar...   \n",
            "R1GRVMVDO0DK8F B0000225E0 A2POD2ETA2RZYT Great air hose                     2008-02-10 \"'ejr \"\"ejr\"\"'\"                          GoodYear 045 3/8-Inch-by-50-Feet Safety Yellow ... This is a good sturdy hose. It stays flexible e... -1 -1 5 0 1 0 \"('R1GRVMVDO0DK8F' 'B0000225E0'   'GoodYear 045 3/8-Inch-by-50-Feet Safety Yell...   \n",
            "R1JEL1IFQ98UAI B000ESSTMO AYWNUX0UF5E6Q  #1 Jewel Fan                       2007-07-04 M. Lajter                                Goodbye Alice in Wonderland (Audio CD)             \"'Jewel will always have a special place in my ... 2  2  5 0 0 0 \"('R1JEL1IFQ98UAI' 'B000ESSTMO'           'Goodbye Alice in Wonderland (Audio CD)'   \n",
            "R1L2XNYQFCTD0D B000JPXRGK A18Y3IXQ0NZ3Q  Love it                            2007-10-20 \"'L. Page \"\"Biblioholic\"\"'\"              OXO Good Grips Silicone Flexible Omelet Turner ... This is wonderful but you have to get used to i... 3  3  5 0 1 0 \"('R1L2XNYQFCTD0D' 'B000JPXRGK'   'OXO Good Grips Silicone Flexible Omelet Turn...   \n",
            "R1MU8L4VH03L3L B00004OCLA A2MZN02LZ9QXP5 Oxo Good Grips Ice Cube Tray       2010-05-24 Mulligan Augustus                        OXO Good Grips  Ice Cube Tray (Kitchen)            Good idea.  Not the easiest ice tray to empty. ... -1 -1 3 0 1 0 \"('R1MU8L4VH03L3L' 'B00004OCLA'          'OXO Good Grips  Ice Cube Tray (Kitchen)'   \n",
            "R1SJ1ZZTERYYTG 0967674727 AJE825U0FF388  breakthrough on the new skis       2009-12-01 \"'B. Aldrich \"\"Billy Bob\"\"'\"             Breakthrough on the New Skis 3 Ed: Say Goodbye ... This is great stuff.  Now skiing makes sense.  ... -1 -1 4 0 1 0 \"('R1SJ1ZZTERYYTG' '0967674727'   'Breakthrough on the New Skis 3 Ed: Say Goodb...   \n",
            "R1V11IHN5HSVP9 0060897376 A34J1DRI3F9AF0 wonderful                          2008-04-29 Gayle S. Graziano                        Why Good People Do Bad Things: How to Stop Bein... Everyone should read this book!!!Espcially BEFO... 2  3  5 0 1 0 \"('R1V11IHN5HSVP9' '0060897376'   'Why Good People Do Bad Things: How to Stop B...   \n",
            "\n",
            "                                                                                                                                                                                                                                                                                     customer_review_rating  \\\n",
            "R10H8M9OOI40NB B000B0WO4O A1LLNZM7WSFP2M Good Info On Wal-Mart              2008-04-06 JHW                                      Frontline: Is Wal-Mart Good for America? (DVD)     Many of us know what Wal-Mart has done to small... 1  2  4 0 1 0 \"('R10H8M9OOI40NB' 'B000B0WO4O'                     1.0   \n",
            "R13XO0KVFKY6KD 0060875496 APIFRHB3KCB89  Fair Tax                           2007-09-11 Paul B. Jones                            The Fair Tax Book: Saying Goodbye to the Income... This is a very clear and concise book on how th... 2  5  5 0 1 0 \"('R13XO0KVFKY6KD' '0060875496'                     1.0   \n",
            "R14Z1V57GA2FQK B0007VZ9DA A3TW78U9OND9S9 Great Movie                        2007-05-08 Benjamin J. Denney                       In Good Company (Full Screen Edition) (DVD)        I first caught the ending of this movie on one ... 0  1  5 0 0 0 \"('R14Z1V57GA2FQK' 'B0007VZ9DA'                     0.0   \n",
            "R16HE5FQJHQROA B0001598FC AQPR0BZZVQOUB  Most useful item in the kitchen    2008-09-08 Sydney Bristow                           Oxo Good Grips Locking Tongs with Nylon Heads (... Plain in simple- i use it daily- and i love it.... 1  2  5 0 0 0 \"('R16HE5FQJHQROA' 'B0001598FC'                     0.0   \n",
            "R1BHW5ZWR5ZDO6 B0001YH1MU A7EUXGYTGB6QD  Awesome!!                          2010-06-02 Bruce Horn                               OXO Good Grips 5-Quart Mixing Bowl (Kitchen)       This bowl is inexpensive and really well-made. ... 1  1  5 0 1 0 \"('R1BHW5ZWR5ZDO6' 'B0001YH1MU'                     1.0   \n",
            "R1DLGCKZWU1OQE B000002UR4 A1QMVN5CCX64GW Stereo is not dead                 2006-09-18 \"'Benjamin L. Giguere \"\"recordplayer\"\"'\" Good Vibrations: Thirty Years Of The Beach Boys... I just recently bought this and was very disapp... 11 30 1 3 0 0 \"('R1DLGCKZWU1OQE' 'B000002UR4'                     0.0   \n",
            "R1E5EOBL4I9B6Q 0345379969 AQ23ROA9RSNOR  The Book Encourages You in Writing 2001-08-31 Billy M                                  Random House Guide to Good Writing (Mass Market... &iexcl;°Guide to&iexcl;± and &iexcl;°hot to&iex... 2  3  5 0 0 0 \"('R1E5EOBL4I9B6Q' '0345379969'                     0.0   \n",
            "R1GRVMVDO0DK8F B0000225E0 A2POD2ETA2RZYT Great air hose                     2008-02-10 \"'ejr \"\"ejr\"\"'\"                          GoodYear 045 3/8-Inch-by-50-Feet Safety Yellow ... This is a good sturdy hose. It stays flexible e... -1 -1 5 0 1 0 \"('R1GRVMVDO0DK8F' 'B0000225E0'                     1.0   \n",
            "R1JEL1IFQ98UAI B000ESSTMO AYWNUX0UF5E6Q  #1 Jewel Fan                       2007-07-04 M. Lajter                                Goodbye Alice in Wonderland (Audio CD)             \"'Jewel will always have a special place in my ... 2  2  5 0 0 0 \"('R1JEL1IFQ98UAI' 'B000ESSTMO'                     0.0   \n",
            "R1L2XNYQFCTD0D B000JPXRGK A18Y3IXQ0NZ3Q  Love it                            2007-10-20 \"'L. Page \"\"Biblioholic\"\"'\"              OXO Good Grips Silicone Flexible Omelet Turner ... This is wonderful but you have to get used to i... 3  3  5 0 1 0 \"('R1L2XNYQFCTD0D' 'B000JPXRGK'                     1.0   \n",
            "R1MU8L4VH03L3L B00004OCLA A2MZN02LZ9QXP5 Oxo Good Grips Ice Cube Tray       2010-05-24 Mulligan Augustus                        OXO Good Grips  Ice Cube Tray (Kitchen)            Good idea.  Not the easiest ice tray to empty. ... -1 -1 3 0 1 0 \"('R1MU8L4VH03L3L' 'B00004OCLA'                     1.0   \n",
            "R1SJ1ZZTERYYTG 0967674727 AJE825U0FF388  breakthrough on the new skis       2009-12-01 \"'B. Aldrich \"\"Billy Bob\"\"'\"             Breakthrough on the New Skis 3 Ed: Say Goodbye ... This is great stuff.  Now skiing makes sense.  ... -1 -1 4 0 1 0 \"('R1SJ1ZZTERYYTG' '0967674727'                     1.0   \n",
            "R1V11IHN5HSVP9 0060897376 A34J1DRI3F9AF0 wonderful                          2008-04-29 Gayle S. Graziano                        Why Good People Do Bad Things: How to Stop Bein... Everyone should read this book!!!Espcially BEFO... 2  3  5 0 1 0 \"('R1V11IHN5HSVP9' '0060897376'                     1.0   \n",
            "\n",
            "                                                                                                                                                                                                                                                                                     sentiment  \n",
            "R10H8M9OOI40NB B000B0WO4O A1LLNZM7WSFP2M Good Info On Wal-Mart              2008-04-06 JHW                                      Frontline: Is Wal-Mart Good for America? (DVD)     Many of us know what Wal-Mart has done to small... 1  2  4 0 1 0 \"('R10H8M9OOI40NB' 'B000B0WO4O'        1.0  \n",
            "R13XO0KVFKY6KD 0060875496 APIFRHB3KCB89  Fair Tax                           2007-09-11 Paul B. Jones                            The Fair Tax Book: Saying Goodbye to the Income... This is a very clear and concise book on how th... 2  5  5 0 1 0 \"('R13XO0KVFKY6KD' '0060875496'        1.0  \n",
            "R14Z1V57GA2FQK B0007VZ9DA A3TW78U9OND9S9 Great Movie                        2007-05-08 Benjamin J. Denney                       In Good Company (Full Screen Edition) (DVD)        I first caught the ending of this movie on one ... 0  1  5 0 0 0 \"('R14Z1V57GA2FQK' 'B0007VZ9DA'        0.0  \n",
            "R16HE5FQJHQROA B0001598FC AQPR0BZZVQOUB  Most useful item in the kitchen    2008-09-08 Sydney Bristow                           Oxo Good Grips Locking Tongs with Nylon Heads (... Plain in simple- i use it daily- and i love it.... 1  2  5 0 0 0 \"('R16HE5FQJHQROA' 'B0001598FC'        0.0  \n",
            "R1BHW5ZWR5ZDO6 B0001YH1MU A7EUXGYTGB6QD  Awesome!!                          2010-06-02 Bruce Horn                               OXO Good Grips 5-Quart Mixing Bowl (Kitchen)       This bowl is inexpensive and really well-made. ... 1  1  5 0 1 0 \"('R1BHW5ZWR5ZDO6' 'B0001YH1MU'        1.0  \n",
            "R1DLGCKZWU1OQE B000002UR4 A1QMVN5CCX64GW Stereo is not dead                 2006-09-18 \"'Benjamin L. Giguere \"\"recordplayer\"\"'\" Good Vibrations: Thirty Years Of The Beach Boys... I just recently bought this and was very disapp... 11 30 1 3 0 0 \"('R1DLGCKZWU1OQE' 'B000002UR4'        0.0  \n",
            "R1E5EOBL4I9B6Q 0345379969 AQ23ROA9RSNOR  The Book Encourages You in Writing 2001-08-31 Billy M                                  Random House Guide to Good Writing (Mass Market... &iexcl;°Guide to&iexcl;± and &iexcl;°hot to&iex... 2  3  5 0 0 0 \"('R1E5EOBL4I9B6Q' '0345379969'        0.0  \n",
            "R1GRVMVDO0DK8F B0000225E0 A2POD2ETA2RZYT Great air hose                     2008-02-10 \"'ejr \"\"ejr\"\"'\"                          GoodYear 045 3/8-Inch-by-50-Feet Safety Yellow ... This is a good sturdy hose. It stays flexible e... -1 -1 5 0 1 0 \"('R1GRVMVDO0DK8F' 'B0000225E0'        1.0  \n",
            "R1JEL1IFQ98UAI B000ESSTMO AYWNUX0UF5E6Q  #1 Jewel Fan                       2007-07-04 M. Lajter                                Goodbye Alice in Wonderland (Audio CD)             \"'Jewel will always have a special place in my ... 2  2  5 0 0 0 \"('R1JEL1IFQ98UAI' 'B000ESSTMO'        0.0  \n",
            "R1L2XNYQFCTD0D B000JPXRGK A18Y3IXQ0NZ3Q  Love it                            2007-10-20 \"'L. Page \"\"Biblioholic\"\"'\"              OXO Good Grips Silicone Flexible Omelet Turner ... This is wonderful but you have to get used to i... 3  3  5 0 1 0 \"('R1L2XNYQFCTD0D' 'B000JPXRGK'        1.0  \n",
            "R1MU8L4VH03L3L B00004OCLA A2MZN02LZ9QXP5 Oxo Good Grips Ice Cube Tray       2010-05-24 Mulligan Augustus                        OXO Good Grips  Ice Cube Tray (Kitchen)            Good idea.  Not the easiest ice tray to empty. ... -1 -1 3 0 1 0 \"('R1MU8L4VH03L3L' 'B00004OCLA'        1.0  \n",
            "R1SJ1ZZTERYYTG 0967674727 AJE825U0FF388  breakthrough on the new skis       2009-12-01 \"'B. Aldrich \"\"Billy Bob\"\"'\"             Breakthrough on the New Skis 3 Ed: Say Goodbye ... This is great stuff.  Now skiing makes sense.  ... -1 -1 4 0 1 0 \"('R1SJ1ZZTERYYTG' '0967674727'        1.0  \n",
            "R1V11IHN5HSVP9 0060897376 A34J1DRI3F9AF0 wonderful                          2008-04-29 Gayle S. Graziano                        Why Good People Do Bad Things: How to Stop Bein... Everyone should read this book!!!Espcially BEFO... 2  3  5 0 1 0 \"('R1V11IHN5HSVP9' '0060897376'        1.0  \n",
            "Reviews containing 'quality':\n",
            "                                                                                                                                                                                                                                                                                                               review_text  \\\n",
            "R10DQFDS2AQPKE B000WZSRR6 A1BRIM1NG4F1KC 8 month review                   2012-03-06 BobInKyle                     \"'DynastyMattress Queen Celebrity 13-Inch Pillo... Purchased this mattress about 7 months ago.  St... 1  1  5 0 1 0 \"('R10DQFDS2AQPKE' 'B000WZSRR6'   'DynastyMattress Queen Celebrity 13-Inch Pill...   \n",
            "R14DHXRU7WI7U5 B004CFJAGY A2QFZKDGZXMRMX Not Worth It                     2011-05-28 Frank Rad                     Quality BLACK Windows 7 OS Samsung Focus SmartP... This case is of poor quality and cheap material... 2  2  2 0 1 0 \"('R14DHXRU7WI7U5' 'B004CFJAGY'   'Quality BLACK Windows 7 OS Samsung Focus Sma...   \n",
            "R1A6XRX87HT2IL B005R2MPH2 A2JFEGDVGO239R rufnnutz                         2012-05-16 justareview                   Samsung U900 Standard 880mah Lithium Battery Me... this must be one hell of a battery or somebody ... 0  4  1 0 0 0 \"('R1A6XRX87HT2IL' 'B005R2MPH2'   'Samsung U900 Standard 880mah Lithium Battery...   \n",
            "R1E4WC4SSI3JRM B004AHH6LU ALXC8YHKHVKST  These Glasses Work At The Movies 2012-06-24 College Guy                   CinePro 1 Pair High Quality Circular Polarized ... I bought these clip-on glasses for my mom to us... -1 -1 5 0 1 0 \"('R1E4WC4SSI3JRM' 'B004AHH6LU'   'CinePro 1 Pair High Quality Circular Polariz...   \n",
            "R1TSEFUODPU3BN B002YC12S6 AU0N8O44KU1F5  Great                            2011-06-26 \"'J. Haskins \"\"NRA_guy\"\"'\"    SUN SAFARI PITH HELMET/High Quality/khaki (Appa... Super hat for summer yard work. It would be nic... -1 -1 5 0 1 0 \"('R1TSEFUODPU3BN' 'B002YC12S6'   'SUN SAFARI PITH HELMET/High Quality/khaki (A...   \n",
            "R1TSWLP49EE3IN B004QIPH5U A1KTJVO2QF4O43 Very nice!!                      2012-02-04 \"'Jonny J. \"\"GoPenguins09\"\"'\" Snugg iPad 2 Leather Case Cover and Flip Stand ... Fits very nicely. Has a palm handle for holding... 1  1  5 0 1 0 \"('R1TSWLP49EE3IN' 'B004QIPH5U'   'Snugg iPad 2 Leather Case Cover and Flip Sta...   \n",
            "\n",
            "                                                                                                                                                                                                                                                                        customer_review_rating  \\\n",
            "R10DQFDS2AQPKE B000WZSRR6 A1BRIM1NG4F1KC 8 month review                   2012-03-06 BobInKyle                     \"'DynastyMattress Queen Celebrity 13-Inch Pillo... Purchased this mattress about 7 months ago.  St... 1  1  5 0 1 0 \"('R10DQFDS2AQPKE' 'B000WZSRR6'                     1.0   \n",
            "R14DHXRU7WI7U5 B004CFJAGY A2QFZKDGZXMRMX Not Worth It                     2011-05-28 Frank Rad                     Quality BLACK Windows 7 OS Samsung Focus SmartP... This case is of poor quality and cheap material... 2  2  2 0 1 0 \"('R14DHXRU7WI7U5' 'B004CFJAGY'                     1.0   \n",
            "R1A6XRX87HT2IL B005R2MPH2 A2JFEGDVGO239R rufnnutz                         2012-05-16 justareview                   Samsung U900 Standard 880mah Lithium Battery Me... this must be one hell of a battery or somebody ... 0  4  1 0 0 0 \"('R1A6XRX87HT2IL' 'B005R2MPH2'                     0.0   \n",
            "R1E4WC4SSI3JRM B004AHH6LU ALXC8YHKHVKST  These Glasses Work At The Movies 2012-06-24 College Guy                   CinePro 1 Pair High Quality Circular Polarized ... I bought these clip-on glasses for my mom to us... -1 -1 5 0 1 0 \"('R1E4WC4SSI3JRM' 'B004AHH6LU'                     1.0   \n",
            "R1TSEFUODPU3BN B002YC12S6 AU0N8O44KU1F5  Great                            2011-06-26 \"'J. Haskins \"\"NRA_guy\"\"'\"    SUN SAFARI PITH HELMET/High Quality/khaki (Appa... Super hat for summer yard work. It would be nic... -1 -1 5 0 1 0 \"('R1TSEFUODPU3BN' 'B002YC12S6'                     1.0   \n",
            "R1TSWLP49EE3IN B004QIPH5U A1KTJVO2QF4O43 Very nice!!                      2012-02-04 \"'Jonny J. \"\"GoPenguins09\"\"'\" Snugg iPad 2 Leather Case Cover and Flip Stand ... Fits very nicely. Has a palm handle for holding... 1  1  5 0 1 0 \"('R1TSWLP49EE3IN' 'B004QIPH5U'                     1.0   \n",
            "\n",
            "                                                                                                                                                                                                                                                                        sentiment  \n",
            "R10DQFDS2AQPKE B000WZSRR6 A1BRIM1NG4F1KC 8 month review                   2012-03-06 BobInKyle                     \"'DynastyMattress Queen Celebrity 13-Inch Pillo... Purchased this mattress about 7 months ago.  St... 1  1  5 0 1 0 \"('R10DQFDS2AQPKE' 'B000WZSRR6'        1.0  \n",
            "R14DHXRU7WI7U5 B004CFJAGY A2QFZKDGZXMRMX Not Worth It                     2011-05-28 Frank Rad                     Quality BLACK Windows 7 OS Samsung Focus SmartP... This case is of poor quality and cheap material... 2  2  2 0 1 0 \"('R14DHXRU7WI7U5' 'B004CFJAGY'        1.0  \n",
            "R1A6XRX87HT2IL B005R2MPH2 A2JFEGDVGO239R rufnnutz                         2012-05-16 justareview                   Samsung U900 Standard 880mah Lithium Battery Me... this must be one hell of a battery or somebody ... 0  4  1 0 0 0 \"('R1A6XRX87HT2IL' 'B005R2MPH2'        0.0  \n",
            "R1E4WC4SSI3JRM B004AHH6LU ALXC8YHKHVKST  These Glasses Work At The Movies 2012-06-24 College Guy                   CinePro 1 Pair High Quality Circular Polarized ... I bought these clip-on glasses for my mom to us... -1 -1 5 0 1 0 \"('R1E4WC4SSI3JRM' 'B004AHH6LU'        1.0  \n",
            "R1TSEFUODPU3BN B002YC12S6 AU0N8O44KU1F5  Great                            2011-06-26 \"'J. Haskins \"\"NRA_guy\"\"'\"    SUN SAFARI PITH HELMET/High Quality/khaki (Appa... Super hat for summer yard work. It would be nic... -1 -1 5 0 1 0 \"('R1TSEFUODPU3BN' 'B002YC12S6'        1.0  \n",
            "R1TSWLP49EE3IN B004QIPH5U A1KTJVO2QF4O43 Very nice!!                      2012-02-04 \"'Jonny J. \"\"GoPenguins09\"\"'\" Snugg iPad 2 Leather Case Cover and Flip Stand ... Fits very nicely. Has a palm handle for holding... 1  1  5 0 1 0 \"('R1TSWLP49EE3IN' 'B004QIPH5U'        1.0  \n"
          ]
        }
      ]
    },
    {
      "cell_type": "code",
      "source": [
        "keyword_only_results = df[df['review_text'].str.contains(\"good\", case=False, na=False)]\n",
        "print(\"Results with only the keyword 'good':\\n\", keyword_only_results[['review_text', 'customer_review_rating', 'sentiment']])\n"
      ],
      "metadata": {
        "colab": {
          "base_uri": "https://localhost:8080/"
        },
        "id": "qP0yupPAItly",
        "outputId": "deb6588a-d3f0-49ea-9a92-14bb949ea1cd"
      },
      "execution_count": 16,
      "outputs": [
        {
          "output_type": "stream",
          "name": "stdout",
          "text": [
            "Results with only the keyword 'good':\n",
            "                                                                                                                                                                                                                                                                                                                            review_text  \\\n",
            "R10H8M9OOI40NB B000B0WO4O A1LLNZM7WSFP2M Good Info On Wal-Mart              2008-04-06 JHW                                      Frontline: Is Wal-Mart Good for America? (DVD)     Many of us know what Wal-Mart has done to small... 1  2  4 0 1 0 \"('R10H8M9OOI40NB' 'B000B0WO4O'   'Frontline: Is Wal-Mart Good for America? (DVD)'   \n",
            "R13XO0KVFKY6KD 0060875496 APIFRHB3KCB89  Fair Tax                           2007-09-11 Paul B. Jones                            The Fair Tax Book: Saying Goodbye to the Income... This is a very clear and concise book on how th... 2  5  5 0 1 0 \"('R13XO0KVFKY6KD' '0060875496'   'The Fair Tax Book: Saying Goodbye to the Inc...   \n",
            "R14Z1V57GA2FQK B0007VZ9DA A3TW78U9OND9S9 Great Movie                        2007-05-08 Benjamin J. Denney                       In Good Company (Full Screen Edition) (DVD)        I first caught the ending of this movie on one ... 0  1  5 0 0 0 \"('R14Z1V57GA2FQK' 'B0007VZ9DA'      'In Good Company (Full Screen Edition) (DVD)'   \n",
            "R16HE5FQJHQROA B0001598FC AQPR0BZZVQOUB  Most useful item in the kitchen    2008-09-08 Sydney Bristow                           Oxo Good Grips Locking Tongs with Nylon Heads (... Plain in simple- i use it daily- and i love it.... 1  2  5 0 0 0 \"('R16HE5FQJHQROA' 'B0001598FC'   'Oxo Good Grips Locking Tongs with Nylon Head...   \n",
            "R1BHW5ZWR5ZDO6 B0001YH1MU A7EUXGYTGB6QD  Awesome!!                          2010-06-02 Bruce Horn                               OXO Good Grips 5-Quart Mixing Bowl (Kitchen)       This bowl is inexpensive and really well-made. ... 1  1  5 0 1 0 \"('R1BHW5ZWR5ZDO6' 'B0001YH1MU'     'OXO Good Grips 5-Quart Mixing Bowl (Kitchen)'   \n",
            "R1DLGCKZWU1OQE B000002UR4 A1QMVN5CCX64GW Stereo is not dead                 2006-09-18 \"'Benjamin L. Giguere \"\"recordplayer\"\"'\" Good Vibrations: Thirty Years Of The Beach Boys... I just recently bought this and was very disapp... 11 30 1 3 0 0 \"('R1DLGCKZWU1OQE' 'B000002UR4'   'Good Vibrations: Thirty Years Of The Beach B...   \n",
            "R1E5EOBL4I9B6Q 0345379969 AQ23ROA9RSNOR  The Book Encourages You in Writing 2001-08-31 Billy M                                  Random House Guide to Good Writing (Mass Market... &iexcl;°Guide to&iexcl;± and &iexcl;°hot to&iex... 2  3  5 0 0 0 \"('R1E5EOBL4I9B6Q' '0345379969'   'Random House Guide to Good Writing (Mass Mar...   \n",
            "R1GRVMVDO0DK8F B0000225E0 A2POD2ETA2RZYT Great air hose                     2008-02-10 \"'ejr \"\"ejr\"\"'\"                          GoodYear 045 3/8-Inch-by-50-Feet Safety Yellow ... This is a good sturdy hose. It stays flexible e... -1 -1 5 0 1 0 \"('R1GRVMVDO0DK8F' 'B0000225E0'   'GoodYear 045 3/8-Inch-by-50-Feet Safety Yell...   \n",
            "R1JEL1IFQ98UAI B000ESSTMO AYWNUX0UF5E6Q  #1 Jewel Fan                       2007-07-04 M. Lajter                                Goodbye Alice in Wonderland (Audio CD)             \"'Jewel will always have a special place in my ... 2  2  5 0 0 0 \"('R1JEL1IFQ98UAI' 'B000ESSTMO'           'Goodbye Alice in Wonderland (Audio CD)'   \n",
            "R1L2XNYQFCTD0D B000JPXRGK A18Y3IXQ0NZ3Q  Love it                            2007-10-20 \"'L. Page \"\"Biblioholic\"\"'\"              OXO Good Grips Silicone Flexible Omelet Turner ... This is wonderful but you have to get used to i... 3  3  5 0 1 0 \"('R1L2XNYQFCTD0D' 'B000JPXRGK'   'OXO Good Grips Silicone Flexible Omelet Turn...   \n",
            "R1MU8L4VH03L3L B00004OCLA A2MZN02LZ9QXP5 Oxo Good Grips Ice Cube Tray       2010-05-24 Mulligan Augustus                        OXO Good Grips  Ice Cube Tray (Kitchen)            Good idea.  Not the easiest ice tray to empty. ... -1 -1 3 0 1 0 \"('R1MU8L4VH03L3L' 'B00004OCLA'          'OXO Good Grips  Ice Cube Tray (Kitchen)'   \n",
            "R1SJ1ZZTERYYTG 0967674727 AJE825U0FF388  breakthrough on the new skis       2009-12-01 \"'B. Aldrich \"\"Billy Bob\"\"'\"             Breakthrough on the New Skis 3 Ed: Say Goodbye ... This is great stuff.  Now skiing makes sense.  ... -1 -1 4 0 1 0 \"('R1SJ1ZZTERYYTG' '0967674727'   'Breakthrough on the New Skis 3 Ed: Say Goodb...   \n",
            "R1V11IHN5HSVP9 0060897376 A34J1DRI3F9AF0 wonderful                          2008-04-29 Gayle S. Graziano                        Why Good People Do Bad Things: How to Stop Bein... Everyone should read this book!!!Espcially BEFO... 2  3  5 0 1 0 \"('R1V11IHN5HSVP9' '0060897376'   'Why Good People Do Bad Things: How to Stop B...   \n",
            "\n",
            "                                                                                                                                                                                                                                                                                     customer_review_rating  \\\n",
            "R10H8M9OOI40NB B000B0WO4O A1LLNZM7WSFP2M Good Info On Wal-Mart              2008-04-06 JHW                                      Frontline: Is Wal-Mart Good for America? (DVD)     Many of us know what Wal-Mart has done to small... 1  2  4 0 1 0 \"('R10H8M9OOI40NB' 'B000B0WO4O'                     1.0   \n",
            "R13XO0KVFKY6KD 0060875496 APIFRHB3KCB89  Fair Tax                           2007-09-11 Paul B. Jones                            The Fair Tax Book: Saying Goodbye to the Income... This is a very clear and concise book on how th... 2  5  5 0 1 0 \"('R13XO0KVFKY6KD' '0060875496'                     1.0   \n",
            "R14Z1V57GA2FQK B0007VZ9DA A3TW78U9OND9S9 Great Movie                        2007-05-08 Benjamin J. Denney                       In Good Company (Full Screen Edition) (DVD)        I first caught the ending of this movie on one ... 0  1  5 0 0 0 \"('R14Z1V57GA2FQK' 'B0007VZ9DA'                     0.0   \n",
            "R16HE5FQJHQROA B0001598FC AQPR0BZZVQOUB  Most useful item in the kitchen    2008-09-08 Sydney Bristow                           Oxo Good Grips Locking Tongs with Nylon Heads (... Plain in simple- i use it daily- and i love it.... 1  2  5 0 0 0 \"('R16HE5FQJHQROA' 'B0001598FC'                     0.0   \n",
            "R1BHW5ZWR5ZDO6 B0001YH1MU A7EUXGYTGB6QD  Awesome!!                          2010-06-02 Bruce Horn                               OXO Good Grips 5-Quart Mixing Bowl (Kitchen)       This bowl is inexpensive and really well-made. ... 1  1  5 0 1 0 \"('R1BHW5ZWR5ZDO6' 'B0001YH1MU'                     1.0   \n",
            "R1DLGCKZWU1OQE B000002UR4 A1QMVN5CCX64GW Stereo is not dead                 2006-09-18 \"'Benjamin L. Giguere \"\"recordplayer\"\"'\" Good Vibrations: Thirty Years Of The Beach Boys... I just recently bought this and was very disapp... 11 30 1 3 0 0 \"('R1DLGCKZWU1OQE' 'B000002UR4'                     0.0   \n",
            "R1E5EOBL4I9B6Q 0345379969 AQ23ROA9RSNOR  The Book Encourages You in Writing 2001-08-31 Billy M                                  Random House Guide to Good Writing (Mass Market... &iexcl;°Guide to&iexcl;± and &iexcl;°hot to&iex... 2  3  5 0 0 0 \"('R1E5EOBL4I9B6Q' '0345379969'                     0.0   \n",
            "R1GRVMVDO0DK8F B0000225E0 A2POD2ETA2RZYT Great air hose                     2008-02-10 \"'ejr \"\"ejr\"\"'\"                          GoodYear 045 3/8-Inch-by-50-Feet Safety Yellow ... This is a good sturdy hose. It stays flexible e... -1 -1 5 0 1 0 \"('R1GRVMVDO0DK8F' 'B0000225E0'                     1.0   \n",
            "R1JEL1IFQ98UAI B000ESSTMO AYWNUX0UF5E6Q  #1 Jewel Fan                       2007-07-04 M. Lajter                                Goodbye Alice in Wonderland (Audio CD)             \"'Jewel will always have a special place in my ... 2  2  5 0 0 0 \"('R1JEL1IFQ98UAI' 'B000ESSTMO'                     0.0   \n",
            "R1L2XNYQFCTD0D B000JPXRGK A18Y3IXQ0NZ3Q  Love it                            2007-10-20 \"'L. Page \"\"Biblioholic\"\"'\"              OXO Good Grips Silicone Flexible Omelet Turner ... This is wonderful but you have to get used to i... 3  3  5 0 1 0 \"('R1L2XNYQFCTD0D' 'B000JPXRGK'                     1.0   \n",
            "R1MU8L4VH03L3L B00004OCLA A2MZN02LZ9QXP5 Oxo Good Grips Ice Cube Tray       2010-05-24 Mulligan Augustus                        OXO Good Grips  Ice Cube Tray (Kitchen)            Good idea.  Not the easiest ice tray to empty. ... -1 -1 3 0 1 0 \"('R1MU8L4VH03L3L' 'B00004OCLA'                     1.0   \n",
            "R1SJ1ZZTERYYTG 0967674727 AJE825U0FF388  breakthrough on the new skis       2009-12-01 \"'B. Aldrich \"\"Billy Bob\"\"'\"             Breakthrough on the New Skis 3 Ed: Say Goodbye ... This is great stuff.  Now skiing makes sense.  ... -1 -1 4 0 1 0 \"('R1SJ1ZZTERYYTG' '0967674727'                     1.0   \n",
            "R1V11IHN5HSVP9 0060897376 A34J1DRI3F9AF0 wonderful                          2008-04-29 Gayle S. Graziano                        Why Good People Do Bad Things: How to Stop Bein... Everyone should read this book!!!Espcially BEFO... 2  3  5 0 1 0 \"('R1V11IHN5HSVP9' '0060897376'                     1.0   \n",
            "\n",
            "                                                                                                                                                                                                                                                                                     sentiment  \n",
            "R10H8M9OOI40NB B000B0WO4O A1LLNZM7WSFP2M Good Info On Wal-Mart              2008-04-06 JHW                                      Frontline: Is Wal-Mart Good for America? (DVD)     Many of us know what Wal-Mart has done to small... 1  2  4 0 1 0 \"('R10H8M9OOI40NB' 'B000B0WO4O'        1.0  \n",
            "R13XO0KVFKY6KD 0060875496 APIFRHB3KCB89  Fair Tax                           2007-09-11 Paul B. Jones                            The Fair Tax Book: Saying Goodbye to the Income... This is a very clear and concise book on how th... 2  5  5 0 1 0 \"('R13XO0KVFKY6KD' '0060875496'        1.0  \n",
            "R14Z1V57GA2FQK B0007VZ9DA A3TW78U9OND9S9 Great Movie                        2007-05-08 Benjamin J. Denney                       In Good Company (Full Screen Edition) (DVD)        I first caught the ending of this movie on one ... 0  1  5 0 0 0 \"('R14Z1V57GA2FQK' 'B0007VZ9DA'        0.0  \n",
            "R16HE5FQJHQROA B0001598FC AQPR0BZZVQOUB  Most useful item in the kitchen    2008-09-08 Sydney Bristow                           Oxo Good Grips Locking Tongs with Nylon Heads (... Plain in simple- i use it daily- and i love it.... 1  2  5 0 0 0 \"('R16HE5FQJHQROA' 'B0001598FC'        0.0  \n",
            "R1BHW5ZWR5ZDO6 B0001YH1MU A7EUXGYTGB6QD  Awesome!!                          2010-06-02 Bruce Horn                               OXO Good Grips 5-Quart Mixing Bowl (Kitchen)       This bowl is inexpensive and really well-made. ... 1  1  5 0 1 0 \"('R1BHW5ZWR5ZDO6' 'B0001YH1MU'        1.0  \n",
            "R1DLGCKZWU1OQE B000002UR4 A1QMVN5CCX64GW Stereo is not dead                 2006-09-18 \"'Benjamin L. Giguere \"\"recordplayer\"\"'\" Good Vibrations: Thirty Years Of The Beach Boys... I just recently bought this and was very disapp... 11 30 1 3 0 0 \"('R1DLGCKZWU1OQE' 'B000002UR4'        0.0  \n",
            "R1E5EOBL4I9B6Q 0345379969 AQ23ROA9RSNOR  The Book Encourages You in Writing 2001-08-31 Billy M                                  Random House Guide to Good Writing (Mass Market... &iexcl;°Guide to&iexcl;± and &iexcl;°hot to&iex... 2  3  5 0 0 0 \"('R1E5EOBL4I9B6Q' '0345379969'        0.0  \n",
            "R1GRVMVDO0DK8F B0000225E0 A2POD2ETA2RZYT Great air hose                     2008-02-10 \"'ejr \"\"ejr\"\"'\"                          GoodYear 045 3/8-Inch-by-50-Feet Safety Yellow ... This is a good sturdy hose. It stays flexible e... -1 -1 5 0 1 0 \"('R1GRVMVDO0DK8F' 'B0000225E0'        1.0  \n",
            "R1JEL1IFQ98UAI B000ESSTMO AYWNUX0UF5E6Q  #1 Jewel Fan                       2007-07-04 M. Lajter                                Goodbye Alice in Wonderland (Audio CD)             \"'Jewel will always have a special place in my ... 2  2  5 0 0 0 \"('R1JEL1IFQ98UAI' 'B000ESSTMO'        0.0  \n",
            "R1L2XNYQFCTD0D B000JPXRGK A18Y3IXQ0NZ3Q  Love it                            2007-10-20 \"'L. Page \"\"Biblioholic\"\"'\"              OXO Good Grips Silicone Flexible Omelet Turner ... This is wonderful but you have to get used to i... 3  3  5 0 1 0 \"('R1L2XNYQFCTD0D' 'B000JPXRGK'        1.0  \n",
            "R1MU8L4VH03L3L B00004OCLA A2MZN02LZ9QXP5 Oxo Good Grips Ice Cube Tray       2010-05-24 Mulligan Augustus                        OXO Good Grips  Ice Cube Tray (Kitchen)            Good idea.  Not the easiest ice tray to empty. ... -1 -1 3 0 1 0 \"('R1MU8L4VH03L3L' 'B00004OCLA'        1.0  \n",
            "R1SJ1ZZTERYYTG 0967674727 AJE825U0FF388  breakthrough on the new skis       2009-12-01 \"'B. Aldrich \"\"Billy Bob\"\"'\"             Breakthrough on the New Skis 3 Ed: Say Goodbye ... This is great stuff.  Now skiing makes sense.  ... -1 -1 4 0 1 0 \"('R1SJ1ZZTERYYTG' '0967674727'        1.0  \n",
            "R1V11IHN5HSVP9 0060897376 A34J1DRI3F9AF0 wonderful                          2008-04-29 Gayle S. Graziano                        Why Good People Do Bad Things: How to Stop Bein... Everyone should read this book!!!Espcially BEFO... 2  3  5 0 1 0 \"('R1V11IHN5HSVP9' '0060897376'        1.0  \n"
          ]
        }
      ]
    },
    {
      "cell_type": "code",
      "source": [
        "print(\"Unique values in customer_review_rating:\\n\", df['customer_review_rating'].unique())\n",
        "print(\"Unique values in sentiment:\\n\", df['sentiment'].unique())\n"
      ],
      "metadata": {
        "colab": {
          "base_uri": "https://localhost:8080/"
        },
        "id": "vc1mJaItJCgi",
        "outputId": "329c7f5f-235b-42ba-a90a-f057db737e1d"
      },
      "execution_count": 17,
      "outputs": [
        {
          "output_type": "stream",
          "name": "stdout",
          "text": [
            "Unique values in customer_review_rating:\n",
            " [0. 1.]\n",
            "Unique values in sentiment:\n",
            " [0. 1.]\n"
          ]
        }
      ]
    },
    {
      "cell_type": "code",
      "source": [
        "# Adjusted Boolean Search Function\n",
        "def boolean_search_adjusted(df, query, rating_filter=None, sentiment_filter=None):\n",
        "    # Apply keyword search\n",
        "    keyword_filtered = df[df['review_text'].str.contains(query, case=False, na=False)]\n",
        "\n",
        "    # Apply rating filter if specified and available\n",
        "    if rating_filter in keyword_filtered['customer_review_rating'].values:\n",
        "        keyword_filtered = keyword_filtered[keyword_filtered['customer_review_rating'] == rating_filter]\n",
        "\n",
        "    # Apply sentiment filter if specified\n",
        "    if sentiment_filter is not None:\n",
        "        keyword_filtered = keyword_filtered[keyword_filtered['sentiment'] == sentiment_filter]\n",
        "\n",
        "    return keyword_filtered\n",
        "\n",
        "# Test the adjusted function\n",
        "query = \"good\"\n",
        "filtered_reviews = boolean_search_adjusted(df, query, sentiment_filter=1)\n",
        "\n",
        "# Display the results\n",
        "print(\"Filtered Reviews with adjusted criteria:\\n\", filtered_reviews[['review_text', 'customer_review_rating', 'sentiment']])\n",
        "print(\"\\nTotal Matches:\", len(filtered_reviews))\n"
      ],
      "metadata": {
        "colab": {
          "base_uri": "https://localhost:8080/"
        },
        "id": "7_kG7ryrJG4r",
        "outputId": "bcb97a48-7840-4f41-d7b7-57c887449d67"
      },
      "execution_count": 19,
      "outputs": [
        {
          "output_type": "stream",
          "name": "stdout",
          "text": [
            "Filtered Reviews with adjusted criteria:\n",
            "                                                                                                                                                                                                                                                                                                          review_text  \\\n",
            "R10H8M9OOI40NB B000B0WO4O A1LLNZM7WSFP2M Good Info On Wal-Mart        2008-04-06 JHW                          Frontline: Is Wal-Mart Good for America? (DVD)     Many of us know what Wal-Mart has done to small... 1  2  4 0 1 0 \"('R10H8M9OOI40NB' 'B000B0WO4O'   'Frontline: Is Wal-Mart Good for America? (DVD)'   \n",
            "R13XO0KVFKY6KD 0060875496 APIFRHB3KCB89  Fair Tax                     2007-09-11 Paul B. Jones                The Fair Tax Book: Saying Goodbye to the Income... This is a very clear and concise book on how th... 2  5  5 0 1 0 \"('R13XO0KVFKY6KD' '0060875496'   'The Fair Tax Book: Saying Goodbye to the Inc...   \n",
            "R1BHW5ZWR5ZDO6 B0001YH1MU A7EUXGYTGB6QD  Awesome!!                    2010-06-02 Bruce Horn                   OXO Good Grips 5-Quart Mixing Bowl (Kitchen)       This bowl is inexpensive and really well-made. ... 1  1  5 0 1 0 \"('R1BHW5ZWR5ZDO6' 'B0001YH1MU'     'OXO Good Grips 5-Quart Mixing Bowl (Kitchen)'   \n",
            "R1GRVMVDO0DK8F B0000225E0 A2POD2ETA2RZYT Great air hose               2008-02-10 \"'ejr \"\"ejr\"\"'\"              GoodYear 045 3/8-Inch-by-50-Feet Safety Yellow ... This is a good sturdy hose. It stays flexible e... -1 -1 5 0 1 0 \"('R1GRVMVDO0DK8F' 'B0000225E0'   'GoodYear 045 3/8-Inch-by-50-Feet Safety Yell...   \n",
            "R1L2XNYQFCTD0D B000JPXRGK A18Y3IXQ0NZ3Q  Love it                      2007-10-20 \"'L. Page \"\"Biblioholic\"\"'\"  OXO Good Grips Silicone Flexible Omelet Turner ... This is wonderful but you have to get used to i... 3  3  5 0 1 0 \"('R1L2XNYQFCTD0D' 'B000JPXRGK'   'OXO Good Grips Silicone Flexible Omelet Turn...   \n",
            "R1MU8L4VH03L3L B00004OCLA A2MZN02LZ9QXP5 Oxo Good Grips Ice Cube Tray 2010-05-24 Mulligan Augustus            OXO Good Grips  Ice Cube Tray (Kitchen)            Good idea.  Not the easiest ice tray to empty. ... -1 -1 3 0 1 0 \"('R1MU8L4VH03L3L' 'B00004OCLA'          'OXO Good Grips  Ice Cube Tray (Kitchen)'   \n",
            "R1SJ1ZZTERYYTG 0967674727 AJE825U0FF388  breakthrough on the new skis 2009-12-01 \"'B. Aldrich \"\"Billy Bob\"\"'\" Breakthrough on the New Skis 3 Ed: Say Goodbye ... This is great stuff.  Now skiing makes sense.  ... -1 -1 4 0 1 0 \"('R1SJ1ZZTERYYTG' '0967674727'   'Breakthrough on the New Skis 3 Ed: Say Goodb...   \n",
            "R1V11IHN5HSVP9 0060897376 A34J1DRI3F9AF0 wonderful                    2008-04-29 Gayle S. Graziano            Why Good People Do Bad Things: How to Stop Bein... Everyone should read this book!!!Espcially BEFO... 2  3  5 0 1 0 \"('R1V11IHN5HSVP9' '0060897376'   'Why Good People Do Bad Things: How to Stop B...   \n",
            "\n",
            "                                                                                                                                                                                                                                                                   customer_review_rating  \\\n",
            "R10H8M9OOI40NB B000B0WO4O A1LLNZM7WSFP2M Good Info On Wal-Mart        2008-04-06 JHW                          Frontline: Is Wal-Mart Good for America? (DVD)     Many of us know what Wal-Mart has done to small... 1  2  4 0 1 0 \"('R10H8M9OOI40NB' 'B000B0WO4O'                     1.0   \n",
            "R13XO0KVFKY6KD 0060875496 APIFRHB3KCB89  Fair Tax                     2007-09-11 Paul B. Jones                The Fair Tax Book: Saying Goodbye to the Income... This is a very clear and concise book on how th... 2  5  5 0 1 0 \"('R13XO0KVFKY6KD' '0060875496'                     1.0   \n",
            "R1BHW5ZWR5ZDO6 B0001YH1MU A7EUXGYTGB6QD  Awesome!!                    2010-06-02 Bruce Horn                   OXO Good Grips 5-Quart Mixing Bowl (Kitchen)       This bowl is inexpensive and really well-made. ... 1  1  5 0 1 0 \"('R1BHW5ZWR5ZDO6' 'B0001YH1MU'                     1.0   \n",
            "R1GRVMVDO0DK8F B0000225E0 A2POD2ETA2RZYT Great air hose               2008-02-10 \"'ejr \"\"ejr\"\"'\"              GoodYear 045 3/8-Inch-by-50-Feet Safety Yellow ... This is a good sturdy hose. It stays flexible e... -1 -1 5 0 1 0 \"('R1GRVMVDO0DK8F' 'B0000225E0'                     1.0   \n",
            "R1L2XNYQFCTD0D B000JPXRGK A18Y3IXQ0NZ3Q  Love it                      2007-10-20 \"'L. Page \"\"Biblioholic\"\"'\"  OXO Good Grips Silicone Flexible Omelet Turner ... This is wonderful but you have to get used to i... 3  3  5 0 1 0 \"('R1L2XNYQFCTD0D' 'B000JPXRGK'                     1.0   \n",
            "R1MU8L4VH03L3L B00004OCLA A2MZN02LZ9QXP5 Oxo Good Grips Ice Cube Tray 2010-05-24 Mulligan Augustus            OXO Good Grips  Ice Cube Tray (Kitchen)            Good idea.  Not the easiest ice tray to empty. ... -1 -1 3 0 1 0 \"('R1MU8L4VH03L3L' 'B00004OCLA'                     1.0   \n",
            "R1SJ1ZZTERYYTG 0967674727 AJE825U0FF388  breakthrough on the new skis 2009-12-01 \"'B. Aldrich \"\"Billy Bob\"\"'\" Breakthrough on the New Skis 3 Ed: Say Goodbye ... This is great stuff.  Now skiing makes sense.  ... -1 -1 4 0 1 0 \"('R1SJ1ZZTERYYTG' '0967674727'                     1.0   \n",
            "R1V11IHN5HSVP9 0060897376 A34J1DRI3F9AF0 wonderful                    2008-04-29 Gayle S. Graziano            Why Good People Do Bad Things: How to Stop Bein... Everyone should read this book!!!Espcially BEFO... 2  3  5 0 1 0 \"('R1V11IHN5HSVP9' '0060897376'                     1.0   \n",
            "\n",
            "                                                                                                                                                                                                                                                                   sentiment  \n",
            "R10H8M9OOI40NB B000B0WO4O A1LLNZM7WSFP2M Good Info On Wal-Mart        2008-04-06 JHW                          Frontline: Is Wal-Mart Good for America? (DVD)     Many of us know what Wal-Mart has done to small... 1  2  4 0 1 0 \"('R10H8M9OOI40NB' 'B000B0WO4O'        1.0  \n",
            "R13XO0KVFKY6KD 0060875496 APIFRHB3KCB89  Fair Tax                     2007-09-11 Paul B. Jones                The Fair Tax Book: Saying Goodbye to the Income... This is a very clear and concise book on how th... 2  5  5 0 1 0 \"('R13XO0KVFKY6KD' '0060875496'        1.0  \n",
            "R1BHW5ZWR5ZDO6 B0001YH1MU A7EUXGYTGB6QD  Awesome!!                    2010-06-02 Bruce Horn                   OXO Good Grips 5-Quart Mixing Bowl (Kitchen)       This bowl is inexpensive and really well-made. ... 1  1  5 0 1 0 \"('R1BHW5ZWR5ZDO6' 'B0001YH1MU'        1.0  \n",
            "R1GRVMVDO0DK8F B0000225E0 A2POD2ETA2RZYT Great air hose               2008-02-10 \"'ejr \"\"ejr\"\"'\"              GoodYear 045 3/8-Inch-by-50-Feet Safety Yellow ... This is a good sturdy hose. It stays flexible e... -1 -1 5 0 1 0 \"('R1GRVMVDO0DK8F' 'B0000225E0'        1.0  \n",
            "R1L2XNYQFCTD0D B000JPXRGK A18Y3IXQ0NZ3Q  Love it                      2007-10-20 \"'L. Page \"\"Biblioholic\"\"'\"  OXO Good Grips Silicone Flexible Omelet Turner ... This is wonderful but you have to get used to i... 3  3  5 0 1 0 \"('R1L2XNYQFCTD0D' 'B000JPXRGK'        1.0  \n",
            "R1MU8L4VH03L3L B00004OCLA A2MZN02LZ9QXP5 Oxo Good Grips Ice Cube Tray 2010-05-24 Mulligan Augustus            OXO Good Grips  Ice Cube Tray (Kitchen)            Good idea.  Not the easiest ice tray to empty. ... -1 -1 3 0 1 0 \"('R1MU8L4VH03L3L' 'B00004OCLA'        1.0  \n",
            "R1SJ1ZZTERYYTG 0967674727 AJE825U0FF388  breakthrough on the new skis 2009-12-01 \"'B. Aldrich \"\"Billy Bob\"\"'\" Breakthrough on the New Skis 3 Ed: Say Goodbye ... This is great stuff.  Now skiing makes sense.  ... -1 -1 4 0 1 0 \"('R1SJ1ZZTERYYTG' '0967674727'        1.0  \n",
            "R1V11IHN5HSVP9 0060897376 A34J1DRI3F9AF0 wonderful                    2008-04-29 Gayle S. Graziano            Why Good People Do Bad Things: How to Stop Bein... Everyone should read this book!!!Espcially BEFO... 2  3  5 0 1 0 \"('R1V11IHN5HSVP9' '0060897376'        1.0  \n",
            "\n",
            "Total Matches: 8\n"
          ]
        }
      ]
    },
    {
      "cell_type": "markdown",
      "source": [
        "# N-gram Generation"
      ],
      "metadata": {
        "id": "jMKV-jukKZK-"
      }
    },
    {
      "cell_type": "code",
      "source": [
        "# Filter reviews with ratings greater than or equal to 3\n",
        "filtered_df = df[df['rating'] >= 3]\n",
        "\n",
        "# Display the result\n",
        "print(filtered_df.shape)\n",
        "print(filtered_df.head())\n"
      ],
      "metadata": {
        "colab": {
          "base_uri": "https://localhost:8080/"
        },
        "id": "ZLBcROEUPvuw",
        "outputId": "ffddda31-c223-4c8c-834f-7d98ad4588da"
      },
      "execution_count": 41,
      "outputs": [
        {
          "output_type": "stream",
          "name": "stdout",
          "text": [
            "(1, 3)\n",
            "     customer_id                                        review_text  rating\n",
            "0  R10019MUX6F9A  I've had this product for about a month and it...     7.0\n"
          ]
        }
      ]
    },
    {
      "cell_type": "code",
      "source": [
        "# Check for missing values in the rating column\n",
        "missing_ratings = df['rating'].isnull().sum()\n",
        "print(f\"Missing ratings: {missing_ratings}\")\n"
      ],
      "metadata": {
        "colab": {
          "base_uri": "https://localhost:8080/"
        },
        "id": "ig-ePKJtP34_",
        "outputId": "32f75cec-e6ed-47d6-c1e3-c05400596c64"
      },
      "execution_count": 42,
      "outputs": [
        {
          "output_type": "stream",
          "name": "stdout",
          "text": [
            "Missing ratings: 0\n"
          ]
        }
      ]
    },
    {
      "cell_type": "code",
      "source": [
        "import pandas as pd\n",
        "from sklearn.feature_extraction.text import CountVectorizer\n",
        "import nltk\n",
        "\n",
        "# Sample reviews from dataset\n",
        "data = {\n",
        "    'customer_id': ['R10019MUX6F9A', 'R100523NBIQIEV', 'R1007LULU4W7YH', 'R100CNB1MEHAG3', 'R100D2CV4WK16J'],\n",
        "    'review_text': [\n",
        "        \"I've had this product for about a month and it works great.\",\n",
        "        \"If you plan on getting this program, go to http://example.com\",\n",
        "        \"Look at the review by C-Net and you start to realize it's not worth the price.\",\n",
        "        \"Multi stink in all new CoD ... well ever since the update.\",\n",
        "        \"If you remember the original Mr. Salty pretzels, these are not the same.\"\n",
        "    ],\n",
        "    'rating': [7.0, 5.0, -1.0, 0.0, 2.0]\n",
        "}\n",
        "\n",
        "\n",
        "# Create DataFrame from the sample data\n",
        "df = pd.DataFrame(data)\n",
        "\n",
        "# Step 1: Filter reviews with ratings >= 0 (positive or neutral reviews)\n",
        "filtered_df = df[df['rating'] >= 0]\n",
        "\n",
        "# Step 2: Check if we have any missing or invalid ratings (if necessary)\n",
        "missing_ratings = filtered_df['rating'].isnull().sum()\n",
        "\n",
        "# Step 3: Define a function to generate N-grams (bigrams, trigrams, etc.)\n",
        "def generate_ngrams(texts, ngram_range=(2, 3)):\n",
        "    \"\"\"\n",
        "    Function to generate N-grams from a list of texts.\n",
        "    :param texts: List of review texts.\n",
        "    :param ngram_range: Tuple (min_n, max_n) defining the range of N-grams to generate.\n",
        "    :return: DataFrame with the generated N-grams.\n",
        "    \"\"\"\n",
        "    vectorizer = CountVectorizer(ngram_range=(1, 4))  # This will generate unigrams, bigrams, trigrams, and 4-grams\n",
        "    ngrams = vectorizer.fit_transform(texts)\n",
        "    ngrams_df = pd.DataFrame(ngrams.toarray(), columns=vectorizer.get_feature_names_out())\n",
        "    return ngrams_df\n",
        "\n",
        "# Step 4: Generate bigrams and trigrams from the 'review_text' column of the filtered DataFrame\n",
        "ngram_range = (2, 3)  # Bigrams and trigrams\n",
        "ngram_df = generate_ngrams(filtered_df['review_text'], ngram_range=ngram_range)\n",
        "\n",
        "# Step 5: Display the filtered reviews and the generated N-grams\n",
        "print(\"Filtered Reviews:\")\n",
        "print(filtered_df[['customer_id', 'review_text', 'rating']])\n",
        "\n",
        "print(\"\\nGenerated N-grams (Bigrams and Trigrams):\")\n",
        "print(ngram_df)\n"
      ],
      "metadata": {
        "colab": {
          "base_uri": "https://localhost:8080/"
        },
        "id": "iRpxB_OyP94V",
        "outputId": "4f65feac-7a35-400e-d96d-0a9b7049cbdc"
      },
      "execution_count": 48,
      "outputs": [
        {
          "output_type": "stream",
          "name": "stdout",
          "text": [
            "Filtered Reviews:\n",
            "      customer_id                                        review_text  rating\n",
            "0   R10019MUX6F9A  I've had this product for about a month and it...     7.0\n",
            "1  R100523NBIQIEV  If you plan on getting this program, go to htt...     5.0\n",
            "3  R100CNB1MEHAG3  Multi stink in all new CoD ... well ever since...     0.0\n",
            "4  R100D2CV4WK16J  If you remember the original Mr. Salty pretzel...     2.0\n",
            "\n",
            "Generated N-grams (Bigrams and Trigrams):\n",
            "   about  about month  about month and  about month and it  all  all new  \\\n",
            "0      1            1                1                   1    0        0   \n",
            "1      0            0                0                   0    0        0   \n",
            "2      0            0                0                   0    1        1   \n",
            "3      0            0                0                   0    0        0   \n",
            "\n",
            "   all new cod  all new cod well  and  and it  ...  well ever since the  \\\n",
            "0            0                 0    1       1  ...                    0   \n",
            "1            0                 0    0       0  ...                    0   \n",
            "2            1                 1    0       0  ...                    1   \n",
            "3            0                 0    0       0  ...                    0   \n",
            "\n",
            "   works  works great  you  you plan  you plan on  you plan on getting  \\\n",
            "0      1            1    0         0            0                    0   \n",
            "1      0            0    1         1            1                    1   \n",
            "2      0            0    0         0            0                    0   \n",
            "3      0            0    1         0            0                    0   \n",
            "\n",
            "   you remember  you remember the  you remember the original  \n",
            "0             0                 0                          0  \n",
            "1             0                 0                          0  \n",
            "2             0                 0                          0  \n",
            "3             1                 1                          1  \n",
            "\n",
            "[4 rows x 158 columns]\n"
          ]
        }
      ]
    },
    {
      "cell_type": "markdown",
      "source": [
        "# Topic Modeling"
      ],
      "metadata": {
        "id": "RdnqyrXuSGF0"
      }
    },
    {
      "cell_type": "code",
      "source": [
        "pip install gensim pyLDAvis\n"
      ],
      "metadata": {
        "colab": {
          "base_uri": "https://localhost:8080/"
        },
        "id": "e3UZdg0FSUBH",
        "outputId": "e3dfdaa9-a14b-48c0-b00a-ee578219a3da"
      },
      "execution_count": 49,
      "outputs": [
        {
          "output_type": "stream",
          "name": "stdout",
          "text": [
            "Requirement already satisfied: gensim in /usr/local/lib/python3.10/dist-packages (4.3.3)\n",
            "Collecting pyLDAvis\n",
            "  Downloading pyLDAvis-3.4.1-py3-none-any.whl.metadata (4.2 kB)\n",
            "Requirement already satisfied: numpy<2.0,>=1.18.5 in /usr/local/lib/python3.10/dist-packages (from gensim) (1.26.4)\n",
            "Requirement already satisfied: scipy<1.14.0,>=1.7.0 in /usr/local/lib/python3.10/dist-packages (from gensim) (1.13.1)\n",
            "Requirement already satisfied: smart-open>=1.8.1 in /usr/local/lib/python3.10/dist-packages (from gensim) (7.0.5)\n",
            "Requirement already satisfied: pandas>=2.0.0 in /usr/local/lib/python3.10/dist-packages (from pyLDAvis) (2.2.2)\n",
            "Requirement already satisfied: joblib>=1.2.0 in /usr/local/lib/python3.10/dist-packages (from pyLDAvis) (1.4.2)\n",
            "Requirement already satisfied: jinja2 in /usr/local/lib/python3.10/dist-packages (from pyLDAvis) (3.1.4)\n",
            "Requirement already satisfied: numexpr in /usr/local/lib/python3.10/dist-packages (from pyLDAvis) (2.10.1)\n",
            "Collecting funcy (from pyLDAvis)\n",
            "  Downloading funcy-2.0-py2.py3-none-any.whl.metadata (5.9 kB)\n",
            "Requirement already satisfied: scikit-learn>=1.0.0 in /usr/local/lib/python3.10/dist-packages (from pyLDAvis) (1.5.2)\n",
            "Requirement already satisfied: setuptools in /usr/local/lib/python3.10/dist-packages (from pyLDAvis) (75.1.0)\n",
            "Requirement already satisfied: python-dateutil>=2.8.2 in /usr/local/lib/python3.10/dist-packages (from pandas>=2.0.0->pyLDAvis) (2.8.2)\n",
            "Requirement already satisfied: pytz>=2020.1 in /usr/local/lib/python3.10/dist-packages (from pandas>=2.0.0->pyLDAvis) (2024.2)\n",
            "Requirement already satisfied: tzdata>=2022.7 in /usr/local/lib/python3.10/dist-packages (from pandas>=2.0.0->pyLDAvis) (2024.2)\n",
            "Requirement already satisfied: threadpoolctl>=3.1.0 in /usr/local/lib/python3.10/dist-packages (from scikit-learn>=1.0.0->pyLDAvis) (3.5.0)\n",
            "Requirement already satisfied: wrapt in /usr/local/lib/python3.10/dist-packages (from smart-open>=1.8.1->gensim) (1.16.0)\n",
            "Requirement already satisfied: MarkupSafe>=2.0 in /usr/local/lib/python3.10/dist-packages (from jinja2->pyLDAvis) (3.0.2)\n",
            "Requirement already satisfied: six>=1.5 in /usr/local/lib/python3.10/dist-packages (from python-dateutil>=2.8.2->pandas>=2.0.0->pyLDAvis) (1.16.0)\n",
            "Downloading pyLDAvis-3.4.1-py3-none-any.whl (2.6 MB)\n",
            "\u001b[2K   \u001b[90m━━━━━━━━━━━━━━━━━━━━━━━━━━━━━━━━━━━━━━━━\u001b[0m \u001b[32m2.6/2.6 MB\u001b[0m \u001b[31m21.4 MB/s\u001b[0m eta \u001b[36m0:00:00\u001b[0m\n",
            "\u001b[?25hDownloading funcy-2.0-py2.py3-none-any.whl (30 kB)\n",
            "Installing collected packages: funcy, pyLDAvis\n",
            "Successfully installed funcy-2.0 pyLDAvis-3.4.1\n"
          ]
        }
      ]
    },
    {
      "cell_type": "code",
      "source": [
        "import pandas as pd\n",
        "import gensim\n",
        "from gensim import corpora\n",
        "from sklearn.feature_extraction.text import CountVectorizer\n",
        "import pyLDAvis.gensim_models\n",
        "\n",
        "# Step 1: Prepare the reviews (Assuming you already have the filtered reviews)\n",
        "reviews = [\n",
        "    \"I've had this product for about a month and it works great.\",\n",
        "    \"If you plan on getting this program, go to http://example.com\",\n",
        "    \"Multi stink in all new CoD ... well ever since the update.\",\n",
        "    \"If you remember the original Mr. Salty pretzels, these are not the same.\"\n",
        "]\n",
        "\n",
        "# Step 2: Tokenize and preprocess the text (remove stopwords, lowercase, etc.)\n",
        "# We can also perform lemmatization here if needed (using SpaCy or NLTK)\n",
        "vectorizer = CountVectorizer(stop_words='english', ngram_range=(1, 3))  # Unigrams, bigrams, and trigrams\n",
        "X = vectorizer.fit_transform(reviews)\n",
        "\n",
        "# Step 3: Convert the text to a format suitable for LDA (bag-of-words)\n",
        "# Use the vectorizer to get the vocabulary\n",
        "vocabulary = vectorizer.get_feature_names_out()\n",
        "corpus = [text.split() for text in reviews]\n",
        "\n",
        "# Step 4: Create the Gensim Dictionary\n",
        "dictionary = corpora.Dictionary(corpus)\n",
        "\n",
        "# Step 5: Create the bag-of-words format\n",
        "corpus_bow = [dictionary.doc2bow(text) for text in corpus]\n",
        "\n",
        "# Step 6: Train the LDA model\n",
        "lda_model = gensim.models.LdaMulticore(corpus_bow, num_topics=3, id2word=dictionary, passes=15)\n",
        "\n",
        "# Step 7: Display topics\n",
        "topics = lda_model.print_topics(num_words=5)\n",
        "for topic in topics:\n",
        "    print(topic)\n",
        "\n",
        "# Step 8: Visualize topics with pyLDAvis\n",
        "pyLDAvis.enable_notebook()\n",
        "vis = pyLDAvis.gensim_models.prepare(lda_model, corpus_bow, dictionary)\n",
        "pyLDAvis.display(vis)\n"
      ],
      "metadata": {
        "colab": {
          "base_uri": "https://localhost:8080/",
          "height": 968
        },
        "id": "9C2pEFsqScT4",
        "outputId": "8cd60700-4be9-4f1b-9ec5-314ceaa803d1"
      },
      "execution_count": 51,
      "outputs": [
        {
          "output_type": "stream",
          "name": "stderr",
          "text": [
            "/usr/local/lib/python3.10/dist-packages/ipykernel/ipkernel.py:283: DeprecationWarning: `should_run_async` will not call `transform_cell` automatically in the future. Please pass the result to `transformed_cell` argument and any exception that happen during thetransform in `preprocessing_exc_tuple` in IPython 7.17 and above.\n",
            "  and should_run_async(code)\n"
          ]
        },
        {
          "output_type": "stream",
          "name": "stdout",
          "text": [
            "(0, '0.051*\"Multi\" + 0.051*\"update.\" + 0.051*\"...\" + 0.051*\"the\" + 0.051*\"CoD\"')\n",
            "(1, '0.064*\"this\" + 0.038*\"go\" + 0.038*\"plan\" + 0.038*\"getting\" + 0.038*\"to\"')\n",
            "(2, '0.084*\"the\" + 0.048*\"you\" + 0.048*\"If\" + 0.048*\"not\" + 0.048*\"these\"')\n"
          ]
        },
        {
          "output_type": "execute_result",
          "data": {
            "text/plain": [
              "<IPython.core.display.HTML object>"
            ],
            "text/html": [
              "\n",
              "<link rel=\"stylesheet\" type=\"text/css\" href=\"https://cdn.jsdelivr.net/gh/bmabey/pyLDAvis@3.4.0/pyLDAvis/js/ldavis.v1.0.0.css\">\n",
              "\n",
              "\n",
              "<div id=\"ldavis_el4091320104997543524232779299\" style=\"background-color:white;\"></div>\n",
              "<script type=\"text/javascript\">\n",
              "\n",
              "var ldavis_el4091320104997543524232779299_data = {\"mdsDat\": {\"x\": [0.08396421916839694, -0.009370450890924684, -0.07459376827747224], \"y\": [0.029632847810330435, -0.07203749976790982, 0.04240465195757936], \"topics\": [1, 2, 3], \"cluster\": [1, 1, 1], \"Freq\": [45.484969207850845, 28.332711547575656, 26.1823192445735]}, \"tinfo\": {\"Term\": [\"the\", \"Multi\", \"update.\", \"...\", \"CoD\", \"stink\", \"in\", \"well\", \"since\", \"new\", \"ever\", \"all\", \"not\", \"Salty\", \"these\", \"same.\", \"are\", \"Mr.\", \"pretzels,\", \"remember\", \"original\", \"this\", \"you\", \"If\", \"go\", \"plan\", \"getting\", \"to\", \"program,\", \"http://example.com\", \"this\", \"go\", \"plan\", \"getting\", \"to\", \"program,\", \"http://example.com\", \"on\", \"about\", \"a\", \"it\", \"I've\", \"and\", \"had\", \"product\", \"great.\", \"for\", \"month\", \"works\", \"you\", \"If\", \"all\", \"new\", \"since\", \"CoD\", \"in\", \"ever\", \"well\", \"stink\", \"...\", \"the\", \"not\", \"these\", \"Salty\", \"same.\", \"are\", \"Mr.\", \"pretzels,\", \"remember\", \"original\", \"the\", \"you\", \"If\", \"works\", \"month\", \"product\", \"had\", \"for\", \"great.\", \"I've\", \"a\", \"it\", \"about\", \"and\", \"ever\", \"well\", \"new\", \"all\", \"stink\", \"since\", \"update.\", \"this\", \"on\", \"http://example.com\", \"to\", \"program,\", \"plan\", \"Multi\", \"update.\", \"...\", \"CoD\", \"stink\", \"in\", \"well\", \"since\", \"new\", \"ever\", \"all\", \"the\", \"original\", \"pretzels,\", \"remember\", \"Mr.\", \"are\", \"same.\", \"Salty\", \"these\", \"not\", \"and\", \"great.\", \"for\", \"works\", \"month\", \"I've\", \"it\", \"about\", \"had\", \"a\", \"product\", \"this\", \"If\", \"you\"], \"Freq\": [1.0, 0.0, 0.0, 0.0, 0.0, 0.0, 0.0, 0.0, 0.0, 0.0, 0.0, 0.0, 0.0, 0.0, 0.0, 0.0, 0.0, 0.0, 0.0, 0.0, 0.0, 1.0, 1.0, 1.0, 1.0, 1.0, 1.0, 1.0, 1.0, 1.0, 1.3681680337209072, 0.8177330987282687, 0.8175218960575794, 0.8173157106449042, 0.8171484687111005, 0.8171149406853235, 0.8170560874524279, 0.8169062864631493, 0.7636433939413894, 0.7619410303332992, 0.7618725407794558, 0.7595388786907644, 0.7594035720024156, 0.7571790153657771, 0.756579811408663, 0.7561464955220791, 0.7552472117523115, 0.7527092755873311, 0.7504095397194972, 0.8170871466687057, 0.8167253466185769, 0.20595583330156428, 0.20588047488258246, 0.20585903207749834, 0.20581240343357352, 0.20580621150007197, 0.20579050270414684, 0.2057583882709057, 0.20574584512587044, 0.20573262504919831, 0.20658860510396326, 0.6349548196624406, 0.6348701895051956, 0.6348483126591551, 0.6347749929801352, 0.6347623927105337, 0.634640110566566, 0.6346267165791942, 0.6346041948374656, 0.6345495275260447, 1.1132126865601666, 0.6364644212539539, 0.6360419153634173, 0.19965919661221598, 0.198466697671728, 0.19797959059580322, 0.1967040861391311, 0.19565899547077292, 0.194882255819775, 0.19375326670274123, 0.19312356326866836, 0.1922213293971016, 0.1910412322967726, 0.1907016327076989, 0.15984726820190207, 0.1597773342252455, 0.15973746230913433, 0.159737511916495, 0.1597193308188219, 0.15969254284407847, 0.15967806989661293, 0.1977919135486772, 0.16010886021637571, 0.1599914023882299, 0.15995850030628808, 0.15990576768193204, 0.15984609002708697, 0.6226794214565796, 0.6226127209567875, 0.6225756804043256, 0.6225087965354619, 0.6224814287015266, 0.6224840875530646, 0.6224150490976097, 0.6224215586996512, 0.6223610927482932, 0.6223218976092402, 0.6223036982288844, 0.6225591771878822, 0.1568651351967605, 0.15684859759861616, 0.15683244965974896, 0.15682779666955726, 0.15681820417499953, 0.15676956552875934, 0.15675124008216695, 0.15663799821989097, 0.15660786838931476, 0.17054407827836243, 0.16892431050557474, 0.16884728403493848, 0.16860773526403544, 0.16802624901687835, 0.16744855621738983, 0.1671741329411831, 0.16698306236858262, 0.16635169973395206, 0.16623712844590702, 0.16555696671709863, 0.16796259702790142, 0.15805756134819943, 0.1573681280207086], \"Total\": [1.0, 0.0, 0.0, 0.0, 0.0, 0.0, 0.0, 0.0, 0.0, 0.0, 0.0, 0.0, 0.0, 0.0, 0.0, 0.0, 0.0, 0.0, 0.0, 0.0, 0.0, 1.0, 1.0, 1.0, 1.0, 1.0, 1.0, 1.0, 1.0, 1.0, 1.733922544297486, 1.1339674029077444, 1.133920350948123, 1.1338704516693032, 1.1338334084326225, 1.1338243690827643, 1.1338119554171135, 1.1337784088964484, 1.1216676886067445, 1.1213017220478745, 1.1212680031177404, 1.1207407016108955, 1.1206492829884769, 1.1202348012388603, 1.120116368721565, 1.119953061847429, 1.119753491258023, 1.1192022222759375, 1.1186764715957487, 1.6109196959433683, 1.6108248233301934, 0.9879970434469437, 0.98797902994001, 0.9879731336212281, 0.9879610349924381, 0.9879600845205233, 0.987959668515289, 0.9879507715937609, 0.9879466046462189, 0.9879417783329252, 1.942360468852012, 0.9970892272370485, 0.9971040526738922, 0.9970750034977891, 0.9970903305165751, 0.9970786253030637, 0.9971108189336882, 0.9971080719008231, 0.9971197340784005, 0.9971252476742987, 1.942360468852012, 1.6109196959433683, 1.6108248233301934, 1.1186764715957487, 1.1192022222759375, 1.120116368721565, 1.1202348012388603, 1.119753491258023, 1.119953061847429, 1.1207407016108955, 1.1213017220478745, 1.1212680031177404, 1.1216676886067445, 1.1206492829884769, 0.987959668515289, 0.9879507715937609, 0.98797902994001, 0.9879970434469437, 0.9879466046462189, 0.9879731336212281, 0.9879175358306977, 1.733922544297486, 1.1337784088964484, 1.1338119554171135, 1.1338334084326225, 1.1338243690827643, 1.133920350948123, 0.9879150231976298, 0.9879175358306977, 0.9879417783329252, 0.9879610349924381, 0.9879466046462189, 0.9879600845205233, 0.9879507715937609, 0.9879731336212281, 0.98797902994001, 0.987959668515289, 0.9879970434469437, 1.942360468852012, 0.9971252476742987, 0.9971080719008231, 0.9971197340784005, 0.9971108189336882, 0.9970786253030637, 0.9970903305165751, 0.9970750034977891, 0.9971040526738922, 0.9970892272370485, 1.1206492829884769, 1.119953061847429, 1.119753491258023, 1.1186764715957487, 1.1192022222759375, 1.1207407016108955, 1.1212680031177404, 1.1216676886067445, 1.1202348012388603, 1.1213017220478745, 1.120116368721565, 1.733922544297486, 1.6108248233301934, 1.6109196959433683], \"Category\": [\"Default\", \"Default\", \"Default\", \"Default\", \"Default\", \"Default\", \"Default\", \"Default\", \"Default\", \"Default\", \"Default\", \"Default\", \"Default\", \"Default\", \"Default\", \"Default\", \"Default\", \"Default\", \"Default\", \"Default\", \"Default\", \"Default\", \"Default\", \"Default\", \"Default\", \"Default\", \"Default\", \"Default\", \"Default\", \"Default\", \"Topic1\", \"Topic1\", \"Topic1\", \"Topic1\", \"Topic1\", \"Topic1\", \"Topic1\", \"Topic1\", \"Topic1\", \"Topic1\", \"Topic1\", \"Topic1\", \"Topic1\", \"Topic1\", \"Topic1\", \"Topic1\", \"Topic1\", \"Topic1\", \"Topic1\", \"Topic1\", \"Topic1\", \"Topic1\", \"Topic1\", \"Topic1\", \"Topic1\", \"Topic1\", \"Topic1\", \"Topic1\", \"Topic1\", \"Topic1\", \"Topic1\", \"Topic2\", \"Topic2\", \"Topic2\", \"Topic2\", \"Topic2\", \"Topic2\", \"Topic2\", \"Topic2\", \"Topic2\", \"Topic2\", \"Topic2\", \"Topic2\", \"Topic2\", \"Topic2\", \"Topic2\", \"Topic2\", \"Topic2\", \"Topic2\", \"Topic2\", \"Topic2\", \"Topic2\", \"Topic2\", \"Topic2\", \"Topic2\", \"Topic2\", \"Topic2\", \"Topic2\", \"Topic2\", \"Topic2\", \"Topic2\", \"Topic2\", \"Topic2\", \"Topic2\", \"Topic2\", \"Topic2\", \"Topic2\", \"Topic3\", \"Topic3\", \"Topic3\", \"Topic3\", \"Topic3\", \"Topic3\", \"Topic3\", \"Topic3\", \"Topic3\", \"Topic3\", \"Topic3\", \"Topic3\", \"Topic3\", \"Topic3\", \"Topic3\", \"Topic3\", \"Topic3\", \"Topic3\", \"Topic3\", \"Topic3\", \"Topic3\", \"Topic3\", \"Topic3\", \"Topic3\", \"Topic3\", \"Topic3\", \"Topic3\", \"Topic3\", \"Topic3\", \"Topic3\", \"Topic3\", \"Topic3\", \"Topic3\", \"Topic3\", \"Topic3\"], \"logprob\": [30.0, 29.0, 28.0, 27.0, 26.0, 25.0, 24.0, 23.0, 22.0, 21.0, 20.0, 19.0, 18.0, 17.0, 16.0, 15.0, 14.0, 13.0, 12.0, 11.0, 10.0, 9.0, 8.0, 7.0, 6.0, 5.0, 4.0, 3.0, 2.0, 1.0, -2.7489, -3.2636, -3.2638, -3.2641, -3.2643, -3.2643, -3.2644, -3.2646, -3.332, -3.3342, -3.3343, -3.3374, -3.3376, -3.3405, -3.3413, -3.3419, -3.3431, -3.3464, -3.3495, -3.2644, -3.2648, -4.6425, -4.6428, -4.6429, -4.6431, -4.6432, -4.6433, -4.6434, -4.6435, -4.6435, -4.6394, -3.0432, -3.0433, -3.0434, -3.0435, -3.0435, -3.0437, -3.0437, -3.0437, -3.0438, -2.4817, -3.0408, -3.0415, -4.2001, -4.2061, -4.2086, -4.215, -4.2204, -4.2244, -4.2302, -4.2334, -4.2381, -4.2443, -4.246, -4.4225, -4.423, -4.4232, -4.4232, -4.4233, -4.4235, -4.4236, -4.2095, -4.4209, -4.4216, -4.4218, -4.4222, -4.4225, -2.9838, -2.9839, -2.984, -2.9841, -2.9841, -2.9841, -2.9842, -2.9842, -2.9843, -2.9844, -2.9844, -2.984, -4.3624, -4.3625, -4.3626, -4.3627, -4.3627, -4.363, -4.3632, -4.3639, -4.3641, -4.2788, -4.2884, -4.2888, -4.2902, -4.2937, -4.2971, -4.2988, -4.2999, -4.3037, -4.3044, -4.3085, -4.2941, -4.3549, -4.3592], \"loglift\": [30.0, 29.0, 28.0, 27.0, 26.0, 25.0, 24.0, 23.0, 22.0, 21.0, 20.0, 19.0, 18.0, 17.0, 16.0, 15.0, 14.0, 13.0, 12.0, 11.0, 10.0, 9.0, 8.0, 7.0, 6.0, 5.0, 4.0, 3.0, 2.0, 1.0, 0.5509, 0.4608, 0.4606, 0.4604, 0.4602, 0.4602, 0.4602, 0.46, 0.4033, 0.4014, 0.4014, 0.3988, 0.3987, 0.3961, 0.3954, 0.395, 0.394, 0.3911, 0.3885, 0.109, 0.1086, -0.7802, -0.7806, -0.7807, -0.7809, -0.7809, -0.781, -0.7811, -0.7812, -0.7813, -1.4531, 0.8099, 0.8097, 0.8097, 0.8096, 0.8096, 0.8093, 0.8093, 0.8093, 0.8092, 0.7045, 0.3325, 0.3319, -0.4621, -0.4686, -0.4719, -0.4784, -0.4833, -0.4875, -0.494, -0.4978, -0.5024, -0.5089, -0.5098, -0.5603, -0.5607, -0.561, -0.561, -0.5611, -0.5613, -0.5613, -0.9098, -0.6963, -0.6971, -0.6973, -0.6976, -0.6981, 0.8785, 0.8784, 0.8783, 0.8782, 0.8782, 0.8782, 0.8781, 0.878, 0.8779, 0.8779, 0.8778, 0.2023, -0.5094, -0.5095, -0.5096, -0.5096, -0.5097, -0.51, -0.5101, -0.5108, -0.511, -0.5426, -0.5515, -0.5518, -0.5522, -0.5562, -0.561, -0.5631, -0.5646, -0.5671, -0.5687, -0.5718, -0.9943, -0.9815, -0.9859]}, \"token.table\": {\"Topic\": [3, 3, 1, 1, 2, 2, 3, 2, 1, 1, 3, 1, 2, 3, 1, 1, 1, 1, 1, 1, 3, 1, 1, 3, 2, 1, 2, 1, 2, 1, 1, 2, 2, 3, 3, 2, 3, 2, 1, 1, 3, 3, 1, 1, 2], \"Freq\": [1.0122053970502414, 1.012185667836236, 0.8922670503200705, 0.6207999687592447, 0.6207999687592447, 1.0028975526204815, 1.0122328100277838, 1.0029335772052752, 0.891820622707743, 0.8915296483596925, 1.0121487778052252, 0.8923398383241392, 1.0029299341323743, 1.0121870678211038, 0.8930537013789687, 0.8819349675509959, 0.881859564424672, 0.892894563233249, 0.8926699999804564, 0.8819804688266089, 1.0121866416144938, 0.8918474416637692, 0.8934935797093616, 1.0121672319914725, 1.0029192700948313, 0.8820065650865055, 1.0028830403526603, 0.8818961571364814, 1.002900315603367, 0.8927643840624714, 0.881970812471578, 1.0028885858168894, 1.0029181603655883, 1.0121732727029629, 1.01220045222798, 0.5148374959417431, 0.5148374959417431, 1.002904358194455, 0.5767270304482712, 0.881963781065836, 1.012230235552143, 1.0121961830009012, 0.8939134999179331, 0.6207634077094026, 0.6207634077094026], \"Term\": [\"...\", \"CoD\", \"I've\", \"If\", \"If\", \"Mr.\", \"Multi\", \"Salty\", \"a\", \"about\", \"all\", \"and\", \"are\", \"ever\", \"for\", \"getting\", \"go\", \"great.\", \"had\", \"http://example.com\", \"in\", \"it\", \"month\", \"new\", \"not\", \"on\", \"original\", \"plan\", \"pretzels,\", \"product\", \"program,\", \"remember\", \"same.\", \"since\", \"stink\", \"the\", \"the\", \"these\", \"this\", \"to\", \"update.\", \"well\", \"works\", \"you\", \"you\"]}, \"R\": 30, \"lambda.step\": 0.01, \"plot.opts\": {\"xlab\": \"PC1\", \"ylab\": \"PC2\"}, \"topic.order\": [2, 3, 1]};\n",
              "\n",
              "function LDAvis_load_lib(url, callback){\n",
              "  var s = document.createElement('script');\n",
              "  s.src = url;\n",
              "  s.async = true;\n",
              "  s.onreadystatechange = s.onload = callback;\n",
              "  s.onerror = function(){console.warn(\"failed to load library \" + url);};\n",
              "  document.getElementsByTagName(\"head\")[0].appendChild(s);\n",
              "}\n",
              "\n",
              "if(typeof(LDAvis) !== \"undefined\"){\n",
              "   // already loaded: just create the visualization\n",
              "   !function(LDAvis){\n",
              "       new LDAvis(\"#\" + \"ldavis_el4091320104997543524232779299\", ldavis_el4091320104997543524232779299_data);\n",
              "   }(LDAvis);\n",
              "}else if(typeof define === \"function\" && define.amd){\n",
              "   // require.js is available: use it to load d3/LDAvis\n",
              "   require.config({paths: {d3: \"https://d3js.org/d3.v5\"}});\n",
              "   require([\"d3\"], function(d3){\n",
              "      window.d3 = d3;\n",
              "      LDAvis_load_lib(\"https://cdn.jsdelivr.net/gh/bmabey/pyLDAvis@3.4.0/pyLDAvis/js/ldavis.v3.0.0.js\", function(){\n",
              "        new LDAvis(\"#\" + \"ldavis_el4091320104997543524232779299\", ldavis_el4091320104997543524232779299_data);\n",
              "      });\n",
              "    });\n",
              "}else{\n",
              "    // require.js not available: dynamically load d3 & LDAvis\n",
              "    LDAvis_load_lib(\"https://d3js.org/d3.v5.js\", function(){\n",
              "         LDAvis_load_lib(\"https://cdn.jsdelivr.net/gh/bmabey/pyLDAvis@3.4.0/pyLDAvis/js/ldavis.v3.0.0.js\", function(){\n",
              "                 new LDAvis(\"#\" + \"ldavis_el4091320104997543524232779299\", ldavis_el4091320104997543524232779299_data);\n",
              "            })\n",
              "         });\n",
              "}\n",
              "</script>"
            ]
          },
          "metadata": {},
          "execution_count": 51
        }
      ]
    },
    {
      "cell_type": "markdown",
      "source": [
        "# Result Evaluation"
      ],
      "metadata": {
        "id": "5lWMlgvEToMd"
      }
    },
    {
      "cell_type": "code",
      "source": [
        "import re\n",
        "\n",
        "def clean_review_text(text):\n",
        "    # Extract review text by removing non-textual elements, such as product info or identifiers\n",
        "    # This is a simple regex example to keep words after a product title and possible metadata\n",
        "    clean_text = re.sub(r'\\d{5,}', '', text)  # Remove long sequences of numbers (e.g., product IDs)\n",
        "    clean_text = re.sub(r'[^\\w\\s]', '', clean_text)  # Remove punctuation\n",
        "    return clean_text.strip()\n",
        "\n",
        "def baseline_search(query, reviews_df):\n",
        "    # Split the query into terms, ensuring no tuple wrapping\n",
        "    query_terms = query.split(\":\")[1].split()  # Extract terms after the colon (e.g., \"poor\" from \"audio quality:poor\")\n",
        "    print(f\"Query Terms: {query_terms}\")  # Debugging step to see the extracted terms\n",
        "\n",
        "    # Clean and process review text\n",
        "    reviews_df['clean_review_text'] = reviews_df['review_text'].apply(clean_review_text)\n",
        "\n",
        "    # Checking the cleaned review text to see what we are matching against\n",
        "    print(f\"Sample of Cleaned Review Text:\\n{reviews_df['clean_review_text'].head()}\")  # Check the first few cleaned review texts\n",
        "\n",
        "    # Checking review matches using substring match (lowercase the text to avoid case issues)\n",
        "    relevant_reviews = reviews_df[reviews_df['clean_review_text'].apply(lambda x: all(term in x.lower() for term in query_terms))]\n",
        "\n",
        "    # Debugging to see some reviews\n",
        "    print(f\"Number of Reviews Matched: {len(relevant_reviews)}\")\n",
        "    if len(relevant_reviews) > 0:\n",
        "        print(f\"Sample Matched Reviews:\\n{relevant_reviews['clean_review_text'].head()}\")  # Debugging step to see a few matched reviews\n",
        "\n",
        "    return relevant_reviews\n",
        "\n",
        "# Example for multiple queries\n",
        "queries = [\n",
        "    \"audio quality:poor\",\n",
        "    \"wifi signal:strong\",\n",
        "    \"mouse button:click problem\",\n",
        "    \"gps map:useful\",\n",
        "    \"image quality:sharp\"\n",
        "]\n",
        "\n",
        "# Apply search for each query\n",
        "for query in queries:\n",
        "    relevant_reviews_baseline = baseline_search(query, filtered_reviews)\n",
        "    print(f\"Retrieved {len(relevant_reviews_baseline)} reviews for query '{query}'\\n\")\n"
      ],
      "metadata": {
        "colab": {
          "base_uri": "https://localhost:8080/"
        },
        "id": "RxEqB1srTofd",
        "outputId": "66aa01b3-42a7-4391-8de3-b49e159fa4d8"
      },
      "execution_count": 72,
      "outputs": [
        {
          "output_type": "stream",
          "name": "stdout",
          "text": [
            "Query Terms: ['poor']\n",
            "Sample of Cleaned Review Text:\n",
            "R10H8M9OOI40NB  B000B0WO4O  A1LLNZM7WSFP2M  Good Info On Wal-Mart  2008-04-06  JHW                          Frontline: Is Wal-Mart Good for America? (DVD)                                                                                         Many of us know what Wal-Mart has done to small retail across America. What I did not know until I saw this documentary was what it has done to manufacturing in America with its incredible determination to have as much of everything as possible made in China. The world will look back on this time as one of great change and on Wal-Mart as the key reagent in that change.  1   2   4  0  1  0  \"('R10H8M9OOI40NB'  'B000B0WO4O'            Frontline Is WalMart Good for America DVD\n",
            "R13XO0KVFKY6KD  0060875496  APIFRHB3KCB89   Fair Tax               2007-09-11  Paul B. Jones                The Fair Tax Book: Saying Goodbye to the Income Tax and the IRS (Paperback)                                                            This is a very clear and concise book on how this taxing system would work if utilized It made me want to adopt the new system                                                                                                                                                                                                                                                       2   5   5  0  1  0  \"('R13XO0KVFKY6KD'  '0060875496'    The Fair Tax Book Saying Goodbye to the Income...\n",
            "R1BHW5ZWR5ZDO6  B0001YH1MU  A7EUXGYTGB6QD   Awesome!!              2010-06-02  Bruce Horn                   OXO Good Grips 5-Quart Mixing Bowl (Kitchen)                                                                                           This bowl is inexpensive and really well-made.  The grip on the bottom holds the bowl right in place.  The handle grip lets you pour with one hand without fear of slipping.  The spout is shaped perfectly and allows you to pour without spilling a drop.                                                                                                                          1   1   5  0  1  0  \"('R1BHW5ZWR5ZDO6'  'B0001YH1MU'            OXO Good Grips 5Quart Mixing Bowl Kitchen\n",
            "R1GRVMVDO0DK8F  B0000225E0  A2POD2ETA2RZYT  Great air hose         2008-02-10  \"'ejr \"\"ejr\"\"'\"              GoodYear 045 3/8-Inch-by-50-Feet Safety Yellow Rubber Hose 3/8 -Inch by 50-Feet 250 PSI With 1/4-Inch Ends (Tools & Home Improvement)  This is a good sturdy hose. It stays flexible even in cold wheather. This is as good if not better than hoses we used in professional garages.                                                                                                                                                                                                                                       -1  -1  5  0  1  0  \"('R1GRVMVDO0DK8F'  'B0000225E0'    GoodYear 045 38Inchby50Feet Safety Yellow Rubb...\n",
            "R1L2XNYQFCTD0D  B000JPXRGK  A18Y3IXQ0NZ3Q   Love it                2007-10-20  \"'L. Page \"\"Biblioholic\"\"'\"  OXO Good Grips Silicone Flexible Omelet Turner (Kitchen)                                                                               This is wonderful but you have to get used to it as it is extremely slippery.                                                                                                                                                                                                                                                                                                        3   3   5  0  1  0  \"('R1L2XNYQFCTD0D'  'B000JPXRGK'    OXO Good Grips Silicone Flexible Omelet Turner...\n",
            "Name: clean_review_text, dtype: object\n",
            "Number of Reviews Matched: 0\n",
            "Retrieved 0 reviews for query 'audio quality:poor'\n",
            "\n",
            "Query Terms: ['strong']\n",
            "Sample of Cleaned Review Text:\n",
            "R10H8M9OOI40NB  B000B0WO4O  A1LLNZM7WSFP2M  Good Info On Wal-Mart  2008-04-06  JHW                          Frontline: Is Wal-Mart Good for America? (DVD)                                                                                         Many of us know what Wal-Mart has done to small retail across America. What I did not know until I saw this documentary was what it has done to manufacturing in America with its incredible determination to have as much of everything as possible made in China. The world will look back on this time as one of great change and on Wal-Mart as the key reagent in that change.  1   2   4  0  1  0  \"('R10H8M9OOI40NB'  'B000B0WO4O'            Frontline Is WalMart Good for America DVD\n",
            "R13XO0KVFKY6KD  0060875496  APIFRHB3KCB89   Fair Tax               2007-09-11  Paul B. Jones                The Fair Tax Book: Saying Goodbye to the Income Tax and the IRS (Paperback)                                                            This is a very clear and concise book on how this taxing system would work if utilized It made me want to adopt the new system                                                                                                                                                                                                                                                       2   5   5  0  1  0  \"('R13XO0KVFKY6KD'  '0060875496'    The Fair Tax Book Saying Goodbye to the Income...\n",
            "R1BHW5ZWR5ZDO6  B0001YH1MU  A7EUXGYTGB6QD   Awesome!!              2010-06-02  Bruce Horn                   OXO Good Grips 5-Quart Mixing Bowl (Kitchen)                                                                                           This bowl is inexpensive and really well-made.  The grip on the bottom holds the bowl right in place.  The handle grip lets you pour with one hand without fear of slipping.  The spout is shaped perfectly and allows you to pour without spilling a drop.                                                                                                                          1   1   5  0  1  0  \"('R1BHW5ZWR5ZDO6'  'B0001YH1MU'            OXO Good Grips 5Quart Mixing Bowl Kitchen\n",
            "R1GRVMVDO0DK8F  B0000225E0  A2POD2ETA2RZYT  Great air hose         2008-02-10  \"'ejr \"\"ejr\"\"'\"              GoodYear 045 3/8-Inch-by-50-Feet Safety Yellow Rubber Hose 3/8 -Inch by 50-Feet 250 PSI With 1/4-Inch Ends (Tools & Home Improvement)  This is a good sturdy hose. It stays flexible even in cold wheather. This is as good if not better than hoses we used in professional garages.                                                                                                                                                                                                                                       -1  -1  5  0  1  0  \"('R1GRVMVDO0DK8F'  'B0000225E0'    GoodYear 045 38Inchby50Feet Safety Yellow Rubb...\n",
            "R1L2XNYQFCTD0D  B000JPXRGK  A18Y3IXQ0NZ3Q   Love it                2007-10-20  \"'L. Page \"\"Biblioholic\"\"'\"  OXO Good Grips Silicone Flexible Omelet Turner (Kitchen)                                                                               This is wonderful but you have to get used to it as it is extremely slippery.                                                                                                                                                                                                                                                                                                        3   3   5  0  1  0  \"('R1L2XNYQFCTD0D'  'B000JPXRGK'    OXO Good Grips Silicone Flexible Omelet Turner...\n",
            "Name: clean_review_text, dtype: object\n",
            "Number of Reviews Matched: 0\n",
            "Retrieved 0 reviews for query 'wifi signal:strong'\n",
            "\n",
            "Query Terms: ['click', 'problem']\n",
            "Sample of Cleaned Review Text:\n",
            "R10H8M9OOI40NB  B000B0WO4O  A1LLNZM7WSFP2M  Good Info On Wal-Mart  2008-04-06  JHW                          Frontline: Is Wal-Mart Good for America? (DVD)                                                                                         Many of us know what Wal-Mart has done to small retail across America. What I did not know until I saw this documentary was what it has done to manufacturing in America with its incredible determination to have as much of everything as possible made in China. The world will look back on this time as one of great change and on Wal-Mart as the key reagent in that change.  1   2   4  0  1  0  \"('R10H8M9OOI40NB'  'B000B0WO4O'            Frontline Is WalMart Good for America DVD\n",
            "R13XO0KVFKY6KD  0060875496  APIFRHB3KCB89   Fair Tax               2007-09-11  Paul B. Jones                The Fair Tax Book: Saying Goodbye to the Income Tax and the IRS (Paperback)                                                            This is a very clear and concise book on how this taxing system would work if utilized It made me want to adopt the new system                                                                                                                                                                                                                                                       2   5   5  0  1  0  \"('R13XO0KVFKY6KD'  '0060875496'    The Fair Tax Book Saying Goodbye to the Income...\n",
            "R1BHW5ZWR5ZDO6  B0001YH1MU  A7EUXGYTGB6QD   Awesome!!              2010-06-02  Bruce Horn                   OXO Good Grips 5-Quart Mixing Bowl (Kitchen)                                                                                           This bowl is inexpensive and really well-made.  The grip on the bottom holds the bowl right in place.  The handle grip lets you pour with one hand without fear of slipping.  The spout is shaped perfectly and allows you to pour without spilling a drop.                                                                                                                          1   1   5  0  1  0  \"('R1BHW5ZWR5ZDO6'  'B0001YH1MU'            OXO Good Grips 5Quart Mixing Bowl Kitchen\n",
            "R1GRVMVDO0DK8F  B0000225E0  A2POD2ETA2RZYT  Great air hose         2008-02-10  \"'ejr \"\"ejr\"\"'\"              GoodYear 045 3/8-Inch-by-50-Feet Safety Yellow Rubber Hose 3/8 -Inch by 50-Feet 250 PSI With 1/4-Inch Ends (Tools & Home Improvement)  This is a good sturdy hose. It stays flexible even in cold wheather. This is as good if not better than hoses we used in professional garages.                                                                                                                                                                                                                                       -1  -1  5  0  1  0  \"('R1GRVMVDO0DK8F'  'B0000225E0'    GoodYear 045 38Inchby50Feet Safety Yellow Rubb...\n",
            "R1L2XNYQFCTD0D  B000JPXRGK  A18Y3IXQ0NZ3Q   Love it                2007-10-20  \"'L. Page \"\"Biblioholic\"\"'\"  OXO Good Grips Silicone Flexible Omelet Turner (Kitchen)                                                                               This is wonderful but you have to get used to it as it is extremely slippery.                                                                                                                                                                                                                                                                                                        3   3   5  0  1  0  \"('R1L2XNYQFCTD0D'  'B000JPXRGK'    OXO Good Grips Silicone Flexible Omelet Turner...\n",
            "Name: clean_review_text, dtype: object\n",
            "Number of Reviews Matched: 0\n",
            "Retrieved 0 reviews for query 'mouse button:click problem'\n",
            "\n",
            "Query Terms: ['useful']\n",
            "Sample of Cleaned Review Text:\n",
            "R10H8M9OOI40NB  B000B0WO4O  A1LLNZM7WSFP2M  Good Info On Wal-Mart  2008-04-06  JHW                          Frontline: Is Wal-Mart Good for America? (DVD)                                                                                         Many of us know what Wal-Mart has done to small retail across America. What I did not know until I saw this documentary was what it has done to manufacturing in America with its incredible determination to have as much of everything as possible made in China. The world will look back on this time as one of great change and on Wal-Mart as the key reagent in that change.  1   2   4  0  1  0  \"('R10H8M9OOI40NB'  'B000B0WO4O'            Frontline Is WalMart Good for America DVD\n",
            "R13XO0KVFKY6KD  0060875496  APIFRHB3KCB89   Fair Tax               2007-09-11  Paul B. Jones                The Fair Tax Book: Saying Goodbye to the Income Tax and the IRS (Paperback)                                                            This is a very clear and concise book on how this taxing system would work if utilized It made me want to adopt the new system                                                                                                                                                                                                                                                       2   5   5  0  1  0  \"('R13XO0KVFKY6KD'  '0060875496'    The Fair Tax Book Saying Goodbye to the Income...\n",
            "R1BHW5ZWR5ZDO6  B0001YH1MU  A7EUXGYTGB6QD   Awesome!!              2010-06-02  Bruce Horn                   OXO Good Grips 5-Quart Mixing Bowl (Kitchen)                                                                                           This bowl is inexpensive and really well-made.  The grip on the bottom holds the bowl right in place.  The handle grip lets you pour with one hand without fear of slipping.  The spout is shaped perfectly and allows you to pour without spilling a drop.                                                                                                                          1   1   5  0  1  0  \"('R1BHW5ZWR5ZDO6'  'B0001YH1MU'            OXO Good Grips 5Quart Mixing Bowl Kitchen\n",
            "R1GRVMVDO0DK8F  B0000225E0  A2POD2ETA2RZYT  Great air hose         2008-02-10  \"'ejr \"\"ejr\"\"'\"              GoodYear 045 3/8-Inch-by-50-Feet Safety Yellow Rubber Hose 3/8 -Inch by 50-Feet 250 PSI With 1/4-Inch Ends (Tools & Home Improvement)  This is a good sturdy hose. It stays flexible even in cold wheather. This is as good if not better than hoses we used in professional garages.                                                                                                                                                                                                                                       -1  -1  5  0  1  0  \"('R1GRVMVDO0DK8F'  'B0000225E0'    GoodYear 045 38Inchby50Feet Safety Yellow Rubb...\n",
            "R1L2XNYQFCTD0D  B000JPXRGK  A18Y3IXQ0NZ3Q   Love it                2007-10-20  \"'L. Page \"\"Biblioholic\"\"'\"  OXO Good Grips Silicone Flexible Omelet Turner (Kitchen)                                                                               This is wonderful but you have to get used to it as it is extremely slippery.                                                                                                                                                                                                                                                                                                        3   3   5  0  1  0  \"('R1L2XNYQFCTD0D'  'B000JPXRGK'    OXO Good Grips Silicone Flexible Omelet Turner...\n",
            "Name: clean_review_text, dtype: object\n",
            "Number of Reviews Matched: 0\n",
            "Retrieved 0 reviews for query 'gps map:useful'\n",
            "\n",
            "Query Terms: ['sharp']\n",
            "Sample of Cleaned Review Text:\n",
            "R10H8M9OOI40NB  B000B0WO4O  A1LLNZM7WSFP2M  Good Info On Wal-Mart  2008-04-06  JHW                          Frontline: Is Wal-Mart Good for America? (DVD)                                                                                         Many of us know what Wal-Mart has done to small retail across America. What I did not know until I saw this documentary was what it has done to manufacturing in America with its incredible determination to have as much of everything as possible made in China. The world will look back on this time as one of great change and on Wal-Mart as the key reagent in that change.  1   2   4  0  1  0  \"('R10H8M9OOI40NB'  'B000B0WO4O'            Frontline Is WalMart Good for America DVD\n",
            "R13XO0KVFKY6KD  0060875496  APIFRHB3KCB89   Fair Tax               2007-09-11  Paul B. Jones                The Fair Tax Book: Saying Goodbye to the Income Tax and the IRS (Paperback)                                                            This is a very clear and concise book on how this taxing system would work if utilized It made me want to adopt the new system                                                                                                                                                                                                                                                       2   5   5  0  1  0  \"('R13XO0KVFKY6KD'  '0060875496'    The Fair Tax Book Saying Goodbye to the Income...\n",
            "R1BHW5ZWR5ZDO6  B0001YH1MU  A7EUXGYTGB6QD   Awesome!!              2010-06-02  Bruce Horn                   OXO Good Grips 5-Quart Mixing Bowl (Kitchen)                                                                                           This bowl is inexpensive and really well-made.  The grip on the bottom holds the bowl right in place.  The handle grip lets you pour with one hand without fear of slipping.  The spout is shaped perfectly and allows you to pour without spilling a drop.                                                                                                                          1   1   5  0  1  0  \"('R1BHW5ZWR5ZDO6'  'B0001YH1MU'            OXO Good Grips 5Quart Mixing Bowl Kitchen\n",
            "R1GRVMVDO0DK8F  B0000225E0  A2POD2ETA2RZYT  Great air hose         2008-02-10  \"'ejr \"\"ejr\"\"'\"              GoodYear 045 3/8-Inch-by-50-Feet Safety Yellow Rubber Hose 3/8 -Inch by 50-Feet 250 PSI With 1/4-Inch Ends (Tools & Home Improvement)  This is a good sturdy hose. It stays flexible even in cold wheather. This is as good if not better than hoses we used in professional garages.                                                                                                                                                                                                                                       -1  -1  5  0  1  0  \"('R1GRVMVDO0DK8F'  'B0000225E0'    GoodYear 045 38Inchby50Feet Safety Yellow Rubb...\n",
            "R1L2XNYQFCTD0D  B000JPXRGK  A18Y3IXQ0NZ3Q   Love it                2007-10-20  \"'L. Page \"\"Biblioholic\"\"'\"  OXO Good Grips Silicone Flexible Omelet Turner (Kitchen)                                                                               This is wonderful but you have to get used to it as it is extremely slippery.                                                                                                                                                                                                                                                                                                        3   3   5  0  1  0  \"('R1L2XNYQFCTD0D'  'B000JPXRGK'    OXO Good Grips Silicone Flexible Omelet Turner...\n",
            "Name: clean_review_text, dtype: object\n",
            "Number of Reviews Matched: 0\n",
            "Retrieved 0 reviews for query 'image quality:sharp'\n",
            "\n"
          ]
        },
        {
          "output_type": "stream",
          "name": "stderr",
          "text": [
            "/usr/local/lib/python3.10/dist-packages/ipykernel/ipkernel.py:283: DeprecationWarning: `should_run_async` will not call `transform_cell` automatically in the future. Please pass the result to `transformed_cell` argument and any exception that happen during thetransform in `preprocessing_exc_tuple` in IPython 7.17 and above.\n",
            "  and should_run_async(code)\n"
          ]
        }
      ]
    },
    {
      "cell_type": "code",
      "source": [
        "from sklearn.feature_extraction.text import TfidfVectorizer\n",
        "from sklearn.metrics.pairwise import cosine_similarity\n",
        "\n",
        "def m1_tfidf_cosine(query, reviews_df):\n",
        "    # Vectorize the reviews using TF-IDF\n",
        "    tfidf_vectorizer = TfidfVectorizer(stop_words='english')\n",
        "    tfidf_matrix = tfidf_vectorizer.fit_transform(reviews_df['review_text'])\n",
        "\n",
        "    # Vectorize the query\n",
        "    query_tfidf = tfidf_vectorizer.transform([query])\n",
        "\n",
        "    # Compute cosine similarities between the query and reviews\n",
        "    cosine_similarities = cosine_similarity(query_tfidf, tfidf_matrix).flatten()\n",
        "\n",
        "    # Rank the reviews by similarity\n",
        "    ranked_reviews = reviews_df.iloc[cosine_similarities.argsort()[::-1]]\n",
        "\n",
        "    return ranked_reviews, cosine_similarities\n",
        "\n",
        "# List of queries\n",
        "queries = [\n",
        "    \"audio quality:poor\",\n",
        "    \"wifi signal:strong\",\n",
        "    \"mouse button:click problem\",\n",
        "    \"gps map:useful\",\n",
        "    \"image quality:sharp\"\n",
        "]\n",
        "\n",
        "# Loop through each query and get the ranked reviews\n",
        "for query in queries:\n",
        "    ranked_reviews_m1, cosine_similarities = m1_tfidf_cosine(query, filtered_reviews)\n",
        "    print(f\"Retrieved {len(ranked_reviews_m1)} reviews for query '{query}' using M1 (TF-IDF + Cosine Similarity)\\n\")\n",
        "    print(f\"Sample Matched Reviews for query '{query}':\\n\")\n",
        "    print(ranked_reviews_m1[['review_text']].head())  # Display the top 5 matched reviews for each query\n",
        "    print(\"\\n\" + \"-\"*80 + \"\\n\")  # Separator between queries\n"
      ],
      "metadata": {
        "colab": {
          "base_uri": "https://localhost:8080/"
        },
        "id": "5wOwJ6rUTrY2",
        "outputId": "fda7888c-5489-4e3e-e63a-f7f5e2ca91c4"
      },
      "execution_count": 73,
      "outputs": [
        {
          "output_type": "stream",
          "name": "stderr",
          "text": [
            "/usr/local/lib/python3.10/dist-packages/ipykernel/ipkernel.py:283: DeprecationWarning: `should_run_async` will not call `transform_cell` automatically in the future. Please pass the result to `transformed_cell` argument and any exception that happen during thetransform in `preprocessing_exc_tuple` in IPython 7.17 and above.\n",
            "  and should_run_async(code)\n"
          ]
        },
        {
          "output_type": "stream",
          "name": "stdout",
          "text": [
            "Retrieved 8 reviews for query 'audio quality:poor' using M1 (TF-IDF + Cosine Similarity)\n",
            "\n",
            "Sample Matched Reviews for query 'audio quality:poor':\n",
            "\n",
            "                                                                                                                                                                                                                                                                                                         review_text\n",
            "R1V11IHN5HSVP9 0060897376 A34J1DRI3F9AF0 wonderful                    2008-04-29 Gayle S. Graziano            Why Good People Do Bad Things: How to Stop Bein... Everyone should read this book!!!Espcially BEFO... 2  3  5 0 1 0 \"('R1V11IHN5HSVP9' '0060897376'   'Why Good People Do Bad Things: How to Stop B...\n",
            "R1SJ1ZZTERYYTG 0967674727 AJE825U0FF388  breakthrough on the new skis 2009-12-01 \"'B. Aldrich \"\"Billy Bob\"\"'\" Breakthrough on the New Skis 3 Ed: Say Goodbye ... This is great stuff.  Now skiing makes sense.  ... -1 -1 4 0 1 0 \"('R1SJ1ZZTERYYTG' '0967674727'   'Breakthrough on the New Skis 3 Ed: Say Goodb...\n",
            "R1MU8L4VH03L3L B00004OCLA A2MZN02LZ9QXP5 Oxo Good Grips Ice Cube Tray 2010-05-24 Mulligan Augustus            OXO Good Grips  Ice Cube Tray (Kitchen)            Good idea.  Not the easiest ice tray to empty. ... -1 -1 3 0 1 0 \"('R1MU8L4VH03L3L' 'B00004OCLA'          'OXO Good Grips  Ice Cube Tray (Kitchen)'\n",
            "R1L2XNYQFCTD0D B000JPXRGK A18Y3IXQ0NZ3Q  Love it                      2007-10-20 \"'L. Page \"\"Biblioholic\"\"'\"  OXO Good Grips Silicone Flexible Omelet Turner ... This is wonderful but you have to get used to i... 3  3  5 0 1 0 \"('R1L2XNYQFCTD0D' 'B000JPXRGK'   'OXO Good Grips Silicone Flexible Omelet Turn...\n",
            "R1GRVMVDO0DK8F B0000225E0 A2POD2ETA2RZYT Great air hose               2008-02-10 \"'ejr \"\"ejr\"\"'\"              GoodYear 045 3/8-Inch-by-50-Feet Safety Yellow ... This is a good sturdy hose. It stays flexible e... -1 -1 5 0 1 0 \"('R1GRVMVDO0DK8F' 'B0000225E0'   'GoodYear 045 3/8-Inch-by-50-Feet Safety Yell...\n",
            "\n",
            "--------------------------------------------------------------------------------\n",
            "\n",
            "Retrieved 8 reviews for query 'wifi signal:strong' using M1 (TF-IDF + Cosine Similarity)\n",
            "\n",
            "Sample Matched Reviews for query 'wifi signal:strong':\n",
            "\n",
            "                                                                                                                                                                                                                                                                                                         review_text\n",
            "R1V11IHN5HSVP9 0060897376 A34J1DRI3F9AF0 wonderful                    2008-04-29 Gayle S. Graziano            Why Good People Do Bad Things: How to Stop Bein... Everyone should read this book!!!Espcially BEFO... 2  3  5 0 1 0 \"('R1V11IHN5HSVP9' '0060897376'   'Why Good People Do Bad Things: How to Stop B...\n",
            "R1SJ1ZZTERYYTG 0967674727 AJE825U0FF388  breakthrough on the new skis 2009-12-01 \"'B. Aldrich \"\"Billy Bob\"\"'\" Breakthrough on the New Skis 3 Ed: Say Goodbye ... This is great stuff.  Now skiing makes sense.  ... -1 -1 4 0 1 0 \"('R1SJ1ZZTERYYTG' '0967674727'   'Breakthrough on the New Skis 3 Ed: Say Goodb...\n",
            "R1MU8L4VH03L3L B00004OCLA A2MZN02LZ9QXP5 Oxo Good Grips Ice Cube Tray 2010-05-24 Mulligan Augustus            OXO Good Grips  Ice Cube Tray (Kitchen)            Good idea.  Not the easiest ice tray to empty. ... -1 -1 3 0 1 0 \"('R1MU8L4VH03L3L' 'B00004OCLA'          'OXO Good Grips  Ice Cube Tray (Kitchen)'\n",
            "R1L2XNYQFCTD0D B000JPXRGK A18Y3IXQ0NZ3Q  Love it                      2007-10-20 \"'L. Page \"\"Biblioholic\"\"'\"  OXO Good Grips Silicone Flexible Omelet Turner ... This is wonderful but you have to get used to i... 3  3  5 0 1 0 \"('R1L2XNYQFCTD0D' 'B000JPXRGK'   'OXO Good Grips Silicone Flexible Omelet Turn...\n",
            "R1GRVMVDO0DK8F B0000225E0 A2POD2ETA2RZYT Great air hose               2008-02-10 \"'ejr \"\"ejr\"\"'\"              GoodYear 045 3/8-Inch-by-50-Feet Safety Yellow ... This is a good sturdy hose. It stays flexible e... -1 -1 5 0 1 0 \"('R1GRVMVDO0DK8F' 'B0000225E0'   'GoodYear 045 3/8-Inch-by-50-Feet Safety Yell...\n",
            "\n",
            "--------------------------------------------------------------------------------\n",
            "\n",
            "Retrieved 8 reviews for query 'mouse button:click problem' using M1 (TF-IDF + Cosine Similarity)\n",
            "\n",
            "Sample Matched Reviews for query 'mouse button:click problem':\n",
            "\n",
            "                                                                                                                                                                                                                                                                                                         review_text\n",
            "R1V11IHN5HSVP9 0060897376 A34J1DRI3F9AF0 wonderful                    2008-04-29 Gayle S. Graziano            Why Good People Do Bad Things: How to Stop Bein... Everyone should read this book!!!Espcially BEFO... 2  3  5 0 1 0 \"('R1V11IHN5HSVP9' '0060897376'   'Why Good People Do Bad Things: How to Stop B...\n",
            "R1SJ1ZZTERYYTG 0967674727 AJE825U0FF388  breakthrough on the new skis 2009-12-01 \"'B. Aldrich \"\"Billy Bob\"\"'\" Breakthrough on the New Skis 3 Ed: Say Goodbye ... This is great stuff.  Now skiing makes sense.  ... -1 -1 4 0 1 0 \"('R1SJ1ZZTERYYTG' '0967674727'   'Breakthrough on the New Skis 3 Ed: Say Goodb...\n",
            "R1MU8L4VH03L3L B00004OCLA A2MZN02LZ9QXP5 Oxo Good Grips Ice Cube Tray 2010-05-24 Mulligan Augustus            OXO Good Grips  Ice Cube Tray (Kitchen)            Good idea.  Not the easiest ice tray to empty. ... -1 -1 3 0 1 0 \"('R1MU8L4VH03L3L' 'B00004OCLA'          'OXO Good Grips  Ice Cube Tray (Kitchen)'\n",
            "R1L2XNYQFCTD0D B000JPXRGK A18Y3IXQ0NZ3Q  Love it                      2007-10-20 \"'L. Page \"\"Biblioholic\"\"'\"  OXO Good Grips Silicone Flexible Omelet Turner ... This is wonderful but you have to get used to i... 3  3  5 0 1 0 \"('R1L2XNYQFCTD0D' 'B000JPXRGK'   'OXO Good Grips Silicone Flexible Omelet Turn...\n",
            "R1GRVMVDO0DK8F B0000225E0 A2POD2ETA2RZYT Great air hose               2008-02-10 \"'ejr \"\"ejr\"\"'\"              GoodYear 045 3/8-Inch-by-50-Feet Safety Yellow ... This is a good sturdy hose. It stays flexible e... -1 -1 5 0 1 0 \"('R1GRVMVDO0DK8F' 'B0000225E0'   'GoodYear 045 3/8-Inch-by-50-Feet Safety Yell...\n",
            "\n",
            "--------------------------------------------------------------------------------\n",
            "\n",
            "Retrieved 8 reviews for query 'gps map:useful' using M1 (TF-IDF + Cosine Similarity)\n",
            "\n",
            "Sample Matched Reviews for query 'gps map:useful':\n",
            "\n",
            "                                                                                                                                                                                                                                                                                                         review_text\n",
            "R1V11IHN5HSVP9 0060897376 A34J1DRI3F9AF0 wonderful                    2008-04-29 Gayle S. Graziano            Why Good People Do Bad Things: How to Stop Bein... Everyone should read this book!!!Espcially BEFO... 2  3  5 0 1 0 \"('R1V11IHN5HSVP9' '0060897376'   'Why Good People Do Bad Things: How to Stop B...\n",
            "R1SJ1ZZTERYYTG 0967674727 AJE825U0FF388  breakthrough on the new skis 2009-12-01 \"'B. Aldrich \"\"Billy Bob\"\"'\" Breakthrough on the New Skis 3 Ed: Say Goodbye ... This is great stuff.  Now skiing makes sense.  ... -1 -1 4 0 1 0 \"('R1SJ1ZZTERYYTG' '0967674727'   'Breakthrough on the New Skis 3 Ed: Say Goodb...\n",
            "R1MU8L4VH03L3L B00004OCLA A2MZN02LZ9QXP5 Oxo Good Grips Ice Cube Tray 2010-05-24 Mulligan Augustus            OXO Good Grips  Ice Cube Tray (Kitchen)            Good idea.  Not the easiest ice tray to empty. ... -1 -1 3 0 1 0 \"('R1MU8L4VH03L3L' 'B00004OCLA'          'OXO Good Grips  Ice Cube Tray (Kitchen)'\n",
            "R1L2XNYQFCTD0D B000JPXRGK A18Y3IXQ0NZ3Q  Love it                      2007-10-20 \"'L. Page \"\"Biblioholic\"\"'\"  OXO Good Grips Silicone Flexible Omelet Turner ... This is wonderful but you have to get used to i... 3  3  5 0 1 0 \"('R1L2XNYQFCTD0D' 'B000JPXRGK'   'OXO Good Grips Silicone Flexible Omelet Turn...\n",
            "R1GRVMVDO0DK8F B0000225E0 A2POD2ETA2RZYT Great air hose               2008-02-10 \"'ejr \"\"ejr\"\"'\"              GoodYear 045 3/8-Inch-by-50-Feet Safety Yellow ... This is a good sturdy hose. It stays flexible e... -1 -1 5 0 1 0 \"('R1GRVMVDO0DK8F' 'B0000225E0'   'GoodYear 045 3/8-Inch-by-50-Feet Safety Yell...\n",
            "\n",
            "--------------------------------------------------------------------------------\n",
            "\n",
            "Retrieved 8 reviews for query 'image quality:sharp' using M1 (TF-IDF + Cosine Similarity)\n",
            "\n",
            "Sample Matched Reviews for query 'image quality:sharp':\n",
            "\n",
            "                                                                                                                                                                                                                                                                                                         review_text\n",
            "R1V11IHN5HSVP9 0060897376 A34J1DRI3F9AF0 wonderful                    2008-04-29 Gayle S. Graziano            Why Good People Do Bad Things: How to Stop Bein... Everyone should read this book!!!Espcially BEFO... 2  3  5 0 1 0 \"('R1V11IHN5HSVP9' '0060897376'   'Why Good People Do Bad Things: How to Stop B...\n",
            "R1SJ1ZZTERYYTG 0967674727 AJE825U0FF388  breakthrough on the new skis 2009-12-01 \"'B. Aldrich \"\"Billy Bob\"\"'\" Breakthrough on the New Skis 3 Ed: Say Goodbye ... This is great stuff.  Now skiing makes sense.  ... -1 -1 4 0 1 0 \"('R1SJ1ZZTERYYTG' '0967674727'   'Breakthrough on the New Skis 3 Ed: Say Goodb...\n",
            "R1MU8L4VH03L3L B00004OCLA A2MZN02LZ9QXP5 Oxo Good Grips Ice Cube Tray 2010-05-24 Mulligan Augustus            OXO Good Grips  Ice Cube Tray (Kitchen)            Good idea.  Not the easiest ice tray to empty. ... -1 -1 3 0 1 0 \"('R1MU8L4VH03L3L' 'B00004OCLA'          'OXO Good Grips  Ice Cube Tray (Kitchen)'\n",
            "R1L2XNYQFCTD0D B000JPXRGK A18Y3IXQ0NZ3Q  Love it                      2007-10-20 \"'L. Page \"\"Biblioholic\"\"'\"  OXO Good Grips Silicone Flexible Omelet Turner ... This is wonderful but you have to get used to i... 3  3  5 0 1 0 \"('R1L2XNYQFCTD0D' 'B000JPXRGK'   'OXO Good Grips Silicone Flexible Omelet Turn...\n",
            "R1GRVMVDO0DK8F B0000225E0 A2POD2ETA2RZYT Great air hose               2008-02-10 \"'ejr \"\"ejr\"\"'\"              GoodYear 045 3/8-Inch-by-50-Feet Safety Yellow ... This is a good sturdy hose. It stays flexible e... -1 -1 5 0 1 0 \"('R1GRVMVDO0DK8F' 'B0000225E0'   'GoodYear 045 3/8-Inch-by-50-Feet Safety Yell...\n",
            "\n",
            "--------------------------------------------------------------------------------\n",
            "\n"
          ]
        }
      ]
    },
    {
      "cell_type": "code",
      "source": [
        "import re\n",
        "import gensim\n",
        "from gensim import corpora\n",
        "from sklearn.metrics.pairwise import cosine_similarity\n",
        "\n",
        "# Clean review text function (same as before)\n",
        "def clean_review_text(text):\n",
        "    clean_text = re.sub(r'\\d{5,}', '', text)  # Remove long sequences of numbers (e.g., product IDs)\n",
        "    clean_text = re.sub(r'[^\\w\\s]', '', clean_text)  # Remove punctuation\n",
        "    return clean_text.strip()\n",
        "\n",
        "# Method 2: LDA + Cosine Similarity\n",
        "def m2_lda_cosine(query, reviews_df, num_topics=5):\n",
        "    # Clean and preprocess the reviews\n",
        "    reviews_df['clean_review_text'] = reviews_df['review_text'].apply(clean_review_text)\n",
        "\n",
        "    # Tokenize the reviews\n",
        "    reviews_df['tokens'] = reviews_df['clean_review_text'].apply(lambda x: x.split())\n",
        "\n",
        "    # Create a dictionary and corpus for the LDA model\n",
        "    dictionary = corpora.Dictionary(reviews_df['tokens'])\n",
        "    corpus = [dictionary.doc2bow(text) for text in reviews_df['tokens']]\n",
        "\n",
        "    # Train the LDA model on the reviews\n",
        "    lda_model = gensim.models.LdaMulticore(corpus, num_topics=num_topics, id2word=dictionary, passes=10)\n",
        "\n",
        "    # Clean and preprocess the query\n",
        "    query_clean = clean_review_text(query)\n",
        "    query_tokens = query_clean.split()\n",
        "\n",
        "    # Create a bag-of-words representation for the query\n",
        "    query_bow = dictionary.doc2bow(query_tokens)\n",
        "\n",
        "    # Get the topic distribution for the query\n",
        "    query_topics = lda_model[query_bow]\n",
        "    query_topic_dist = [0] * num_topics\n",
        "    for topic_num, prob in query_topics:\n",
        "        query_topic_dist[topic_num] = prob\n",
        "\n",
        "    # Compute cosine similarities between the query topic distribution and each review topic distribution\n",
        "    review_topic_dists = []\n",
        "    for review_bow in corpus:\n",
        "        review_topics = lda_model[review_bow]\n",
        "        review_topic_dist = [0] * num_topics\n",
        "        for topic_num, prob in review_topics:\n",
        "            review_topic_dist[topic_num] = prob\n",
        "        review_topic_dists.append(review_topic_dist)\n",
        "\n",
        "    # Calculate cosine similarity between the query and each review\n",
        "    cosine_similarities = cosine_similarity([query_topic_dist], review_topic_dists).flatten()\n",
        "\n",
        "    # Rank the reviews by cosine similarity\n",
        "    ranked_reviews = reviews_df.iloc[cosine_similarities.argsort()[::-1]]\n",
        "\n",
        "    return ranked_reviews, cosine_similarities\n",
        "\n",
        "# List of queries\n",
        "queries = [\n",
        "    \"audio quality:poor\",\n",
        "    \"wifi signal:strong\",\n",
        "    \"mouse button:click problem\",\n",
        "    \"gps map:useful\",\n",
        "    \"image quality:sharp\"\n",
        "]\n",
        "\n",
        "# Loop through each query and get the ranked reviews for Method 2 (LDA + Cosine Similarity)\n",
        "for query in queries:\n",
        "    ranked_reviews_m2, similarities_m2 = m2_lda_cosine(query, filtered_reviews)\n",
        "    print(f\"Retrieved {len(ranked_reviews_m2)} reviews for query '{query}' using M2 (LDA + Cosine Similarity)\\n\")\n",
        "    print(f\"Sample Matched Reviews for query '{query}':\\n\")\n",
        "    print(ranked_reviews_m2[['review_text']].head())  # Display the top 5 matched reviews for each query\n",
        "    print(\"\\n\" + \"-\"*80 + \"\\n\")  # Separator between queries\n"
      ],
      "metadata": {
        "colab": {
          "base_uri": "https://localhost:8080/"
        },
        "id": "SJdZo971TuVT",
        "outputId": "44d43be6-830f-4a1a-dfdb-747dbef5d8d9"
      },
      "execution_count": 85,
      "outputs": [
        {
          "output_type": "stream",
          "name": "stderr",
          "text": [
            "/usr/local/lib/python3.10/dist-packages/ipykernel/ipkernel.py:283: DeprecationWarning: `should_run_async` will not call `transform_cell` automatically in the future. Please pass the result to `transformed_cell` argument and any exception that happen during thetransform in `preprocessing_exc_tuple` in IPython 7.17 and above.\n",
            "  and should_run_async(code)\n"
          ]
        },
        {
          "output_type": "stream",
          "name": "stdout",
          "text": [
            "Retrieved 8 reviews for query 'audio quality:poor' using M2 (LDA + Cosine Similarity)\n",
            "\n",
            "Sample Matched Reviews for query 'audio quality:poor':\n",
            "\n",
            "                                                                                                                                                                                                                                                                                                        review_text\n",
            "R1L2XNYQFCTD0D B000JPXRGK A18Y3IXQ0NZ3Q  Love it                      2007-10-20 \"'L. Page \"\"Biblioholic\"\"'\" OXO Good Grips Silicone Flexible Omelet Turner ... This is wonderful but you have to get used to i... 3  3  5 0 1 0 \"('R1L2XNYQFCTD0D' 'B000JPXRGK'   'OXO Good Grips Silicone Flexible Omelet Turn...\n",
            "R10H8M9OOI40NB B000B0WO4O A1LLNZM7WSFP2M Good Info On Wal-Mart        2008-04-06 JHW                         Frontline: Is Wal-Mart Good for America? (DVD)     Many of us know what Wal-Mart has done to small... 1  2  4 0 1 0 \"('R10H8M9OOI40NB' 'B000B0WO4O'   'Frontline: Is Wal-Mart Good for America? (DVD)'\n",
            "R1MU8L4VH03L3L B00004OCLA A2MZN02LZ9QXP5 Oxo Good Grips Ice Cube Tray 2010-05-24 Mulligan Augustus           OXO Good Grips  Ice Cube Tray (Kitchen)            Good idea.  Not the easiest ice tray to empty. ... -1 -1 3 0 1 0 \"('R1MU8L4VH03L3L' 'B00004OCLA'          'OXO Good Grips  Ice Cube Tray (Kitchen)'\n",
            "R1BHW5ZWR5ZDO6 B0001YH1MU A7EUXGYTGB6QD  Awesome!!                    2010-06-02 Bruce Horn                  OXO Good Grips 5-Quart Mixing Bowl (Kitchen)       This bowl is inexpensive and really well-made. ... 1  1  5 0 1 0 \"('R1BHW5ZWR5ZDO6' 'B0001YH1MU'     'OXO Good Grips 5-Quart Mixing Bowl (Kitchen)'\n",
            "R13XO0KVFKY6KD 0060875496 APIFRHB3KCB89  Fair Tax                     2007-09-11 Paul B. Jones               The Fair Tax Book: Saying Goodbye to the Income... This is a very clear and concise book on how th... 2  5  5 0 1 0 \"('R13XO0KVFKY6KD' '0060875496'   'The Fair Tax Book: Saying Goodbye to the Inc...\n",
            "\n",
            "--------------------------------------------------------------------------------\n",
            "\n",
            "Retrieved 8 reviews for query 'wifi signal:strong' using M2 (LDA + Cosine Similarity)\n",
            "\n",
            "Sample Matched Reviews for query 'wifi signal:strong':\n",
            "\n",
            "                                                                                                                                                                                                                                                                                                         review_text\n",
            "R1MU8L4VH03L3L B00004OCLA A2MZN02LZ9QXP5 Oxo Good Grips Ice Cube Tray 2010-05-24 Mulligan Augustus            OXO Good Grips  Ice Cube Tray (Kitchen)            Good idea.  Not the easiest ice tray to empty. ... -1 -1 3 0 1 0 \"('R1MU8L4VH03L3L' 'B00004OCLA'          'OXO Good Grips  Ice Cube Tray (Kitchen)'\n",
            "R1BHW5ZWR5ZDO6 B0001YH1MU A7EUXGYTGB6QD  Awesome!!                    2010-06-02 Bruce Horn                   OXO Good Grips 5-Quart Mixing Bowl (Kitchen)       This bowl is inexpensive and really well-made. ... 1  1  5 0 1 0 \"('R1BHW5ZWR5ZDO6' 'B0001YH1MU'     'OXO Good Grips 5-Quart Mixing Bowl (Kitchen)'\n",
            "R10H8M9OOI40NB B000B0WO4O A1LLNZM7WSFP2M Good Info On Wal-Mart        2008-04-06 JHW                          Frontline: Is Wal-Mart Good for America? (DVD)     Many of us know what Wal-Mart has done to small... 1  2  4 0 1 0 \"('R10H8M9OOI40NB' 'B000B0WO4O'   'Frontline: Is Wal-Mart Good for America? (DVD)'\n",
            "R1L2XNYQFCTD0D B000JPXRGK A18Y3IXQ0NZ3Q  Love it                      2007-10-20 \"'L. Page \"\"Biblioholic\"\"'\"  OXO Good Grips Silicone Flexible Omelet Turner ... This is wonderful but you have to get used to i... 3  3  5 0 1 0 \"('R1L2XNYQFCTD0D' 'B000JPXRGK'   'OXO Good Grips Silicone Flexible Omelet Turn...\n",
            "R1SJ1ZZTERYYTG 0967674727 AJE825U0FF388  breakthrough on the new skis 2009-12-01 \"'B. Aldrich \"\"Billy Bob\"\"'\" Breakthrough on the New Skis 3 Ed: Say Goodbye ... This is great stuff.  Now skiing makes sense.  ... -1 -1 4 0 1 0 \"('R1SJ1ZZTERYYTG' '0967674727'   'Breakthrough on the New Skis 3 Ed: Say Goodb...\n",
            "\n",
            "--------------------------------------------------------------------------------\n",
            "\n",
            "Retrieved 8 reviews for query 'mouse button:click problem' using M2 (LDA + Cosine Similarity)\n",
            "\n",
            "Sample Matched Reviews for query 'mouse button:click problem':\n",
            "\n",
            "                                                                                                                                                                                                                                                                                                         review_text\n",
            "R1MU8L4VH03L3L B00004OCLA A2MZN02LZ9QXP5 Oxo Good Grips Ice Cube Tray 2010-05-24 Mulligan Augustus            OXO Good Grips  Ice Cube Tray (Kitchen)            Good idea.  Not the easiest ice tray to empty. ... -1 -1 3 0 1 0 \"('R1MU8L4VH03L3L' 'B00004OCLA'          'OXO Good Grips  Ice Cube Tray (Kitchen)'\n",
            "R1BHW5ZWR5ZDO6 B0001YH1MU A7EUXGYTGB6QD  Awesome!!                    2010-06-02 Bruce Horn                   OXO Good Grips 5-Quart Mixing Bowl (Kitchen)       This bowl is inexpensive and really well-made. ... 1  1  5 0 1 0 \"('R1BHW5ZWR5ZDO6' 'B0001YH1MU'     'OXO Good Grips 5-Quart Mixing Bowl (Kitchen)'\n",
            "R10H8M9OOI40NB B000B0WO4O A1LLNZM7WSFP2M Good Info On Wal-Mart        2008-04-06 JHW                          Frontline: Is Wal-Mart Good for America? (DVD)     Many of us know what Wal-Mart has done to small... 1  2  4 0 1 0 \"('R10H8M9OOI40NB' 'B000B0WO4O'   'Frontline: Is Wal-Mart Good for America? (DVD)'\n",
            "R1L2XNYQFCTD0D B000JPXRGK A18Y3IXQ0NZ3Q  Love it                      2007-10-20 \"'L. Page \"\"Biblioholic\"\"'\"  OXO Good Grips Silicone Flexible Omelet Turner ... This is wonderful but you have to get used to i... 3  3  5 0 1 0 \"('R1L2XNYQFCTD0D' 'B000JPXRGK'   'OXO Good Grips Silicone Flexible Omelet Turn...\n",
            "R1SJ1ZZTERYYTG 0967674727 AJE825U0FF388  breakthrough on the new skis 2009-12-01 \"'B. Aldrich \"\"Billy Bob\"\"'\" Breakthrough on the New Skis 3 Ed: Say Goodbye ... This is great stuff.  Now skiing makes sense.  ... -1 -1 4 0 1 0 \"('R1SJ1ZZTERYYTG' '0967674727'   'Breakthrough on the New Skis 3 Ed: Say Goodb...\n",
            "\n",
            "--------------------------------------------------------------------------------\n",
            "\n",
            "Retrieved 8 reviews for query 'gps map:useful' using M2 (LDA + Cosine Similarity)\n",
            "\n",
            "Sample Matched Reviews for query 'gps map:useful':\n",
            "\n",
            "                                                                                                                                                                                                                                                                                                         review_text\n",
            "R1BHW5ZWR5ZDO6 B0001YH1MU A7EUXGYTGB6QD  Awesome!!                    2010-06-02 Bruce Horn                   OXO Good Grips 5-Quart Mixing Bowl (Kitchen)       This bowl is inexpensive and really well-made. ... 1  1  5 0 1 0 \"('R1BHW5ZWR5ZDO6' 'B0001YH1MU'     'OXO Good Grips 5-Quart Mixing Bowl (Kitchen)'\n",
            "R1MU8L4VH03L3L B00004OCLA A2MZN02LZ9QXP5 Oxo Good Grips Ice Cube Tray 2010-05-24 Mulligan Augustus            OXO Good Grips  Ice Cube Tray (Kitchen)            Good idea.  Not the easiest ice tray to empty. ... -1 -1 3 0 1 0 \"('R1MU8L4VH03L3L' 'B00004OCLA'          'OXO Good Grips  Ice Cube Tray (Kitchen)'\n",
            "R10H8M9OOI40NB B000B0WO4O A1LLNZM7WSFP2M Good Info On Wal-Mart        2008-04-06 JHW                          Frontline: Is Wal-Mart Good for America? (DVD)     Many of us know what Wal-Mart has done to small... 1  2  4 0 1 0 \"('R10H8M9OOI40NB' 'B000B0WO4O'   'Frontline: Is Wal-Mart Good for America? (DVD)'\n",
            "R1L2XNYQFCTD0D B000JPXRGK A18Y3IXQ0NZ3Q  Love it                      2007-10-20 \"'L. Page \"\"Biblioholic\"\"'\"  OXO Good Grips Silicone Flexible Omelet Turner ... This is wonderful but you have to get used to i... 3  3  5 0 1 0 \"('R1L2XNYQFCTD0D' 'B000JPXRGK'   'OXO Good Grips Silicone Flexible Omelet Turn...\n",
            "R1SJ1ZZTERYYTG 0967674727 AJE825U0FF388  breakthrough on the new skis 2009-12-01 \"'B. Aldrich \"\"Billy Bob\"\"'\" Breakthrough on the New Skis 3 Ed: Say Goodbye ... This is great stuff.  Now skiing makes sense.  ... -1 -1 4 0 1 0 \"('R1SJ1ZZTERYYTG' '0967674727'   'Breakthrough on the New Skis 3 Ed: Say Goodb...\n",
            "\n",
            "--------------------------------------------------------------------------------\n",
            "\n",
            "Retrieved 8 reviews for query 'image quality:sharp' using M2 (LDA + Cosine Similarity)\n",
            "\n",
            "Sample Matched Reviews for query 'image quality:sharp':\n",
            "\n",
            "                                                                                                                                                                                                                                                                                                         review_text\n",
            "R1MU8L4VH03L3L B00004OCLA A2MZN02LZ9QXP5 Oxo Good Grips Ice Cube Tray 2010-05-24 Mulligan Augustus            OXO Good Grips  Ice Cube Tray (Kitchen)            Good idea.  Not the easiest ice tray to empty. ... -1 -1 3 0 1 0 \"('R1MU8L4VH03L3L' 'B00004OCLA'          'OXO Good Grips  Ice Cube Tray (Kitchen)'\n",
            "R1BHW5ZWR5ZDO6 B0001YH1MU A7EUXGYTGB6QD  Awesome!!                    2010-06-02 Bruce Horn                   OXO Good Grips 5-Quart Mixing Bowl (Kitchen)       This bowl is inexpensive and really well-made. ... 1  1  5 0 1 0 \"('R1BHW5ZWR5ZDO6' 'B0001YH1MU'     'OXO Good Grips 5-Quart Mixing Bowl (Kitchen)'\n",
            "R10H8M9OOI40NB B000B0WO4O A1LLNZM7WSFP2M Good Info On Wal-Mart        2008-04-06 JHW                          Frontline: Is Wal-Mart Good for America? (DVD)     Many of us know what Wal-Mart has done to small... 1  2  4 0 1 0 \"('R10H8M9OOI40NB' 'B000B0WO4O'   'Frontline: Is Wal-Mart Good for America? (DVD)'\n",
            "R1L2XNYQFCTD0D B000JPXRGK A18Y3IXQ0NZ3Q  Love it                      2007-10-20 \"'L. Page \"\"Biblioholic\"\"'\"  OXO Good Grips Silicone Flexible Omelet Turner ... This is wonderful but you have to get used to i... 3  3  5 0 1 0 \"('R1L2XNYQFCTD0D' 'B000JPXRGK'   'OXO Good Grips Silicone Flexible Omelet Turn...\n",
            "R1SJ1ZZTERYYTG 0967674727 AJE825U0FF388  breakthrough on the new skis 2009-12-01 \"'B. Aldrich \"\"Billy Bob\"\"'\" Breakthrough on the New Skis 3 Ed: Say Goodbye ... This is great stuff.  Now skiing makes sense.  ... -1 -1 4 0 1 0 \"('R1SJ1ZZTERYYTG' '0967674727'   'Breakthrough on the New Skis 3 Ed: Say Goodb...\n",
            "\n",
            "--------------------------------------------------------------------------------\n",
            "\n"
          ]
        }
      ]
    },
    {
      "cell_type": "code",
      "source": [
        "import re\n",
        "import gensim\n",
        "from gensim.models import Word2Vec\n",
        "from sklearn.metrics.pairwise import cosine_similarity\n",
        "import numpy as np\n",
        "\n",
        "# Clean review text function (same as before)\n",
        "def clean_review_text(text):\n",
        "    clean_text = re.sub(r'\\d{5,}', '', text)  # Remove long sequences of numbers (e.g., product IDs)\n",
        "    clean_text = re.sub(r'[^\\w\\s]', '', clean_text)  # Remove punctuation\n",
        "    return clean_text.strip()\n",
        "\n",
        "# Method 3: Word2Vec + Cosine Similarity with Error Handling\n",
        "def m3_word2vec_cosine(query, reviews_df, vector_size=100, window=5, min_count=1, workers=4):\n",
        "    # Clean and preprocess the reviews\n",
        "    reviews_df['clean_review_text'] = reviews_df['review_text'].apply(clean_review_text)\n",
        "\n",
        "    # Tokenize the reviews\n",
        "    reviews_df['tokens'] = reviews_df['clean_review_text'].apply(lambda x: x.split())\n",
        "\n",
        "    # Train the Word2Vec model on the reviews\n",
        "    model = Word2Vec(sentences=reviews_df['tokens'], vector_size=vector_size, window=window, min_count=min_count, workers=workers)\n",
        "\n",
        "    # Clean and preprocess the query\n",
        "    query_clean = clean_review_text(query)\n",
        "    query_tokens = query_clean.split()\n",
        "\n",
        "    # Convert the query to a vector by averaging the word vectors (skip missing words)\n",
        "    query_vectors = [model.wv[word] for word in query_tokens if word in model.wv]\n",
        "    if query_vectors:\n",
        "        query_vector = np.mean(query_vectors, axis=0)\n",
        "    else:\n",
        "        query_vector = np.zeros(model.vector_size)  # Default to zero vector if no words are in vocabulary\n",
        "\n",
        "    # Compute cosine similarity between the query vector and each review's vector\n",
        "    review_vectors = []\n",
        "    for review_tokens in reviews_df['tokens']:\n",
        "        review_vectors_list = [model.wv[word] for word in review_tokens if word in model.wv]\n",
        "        if review_vectors_list:\n",
        "            review_vector = np.mean(review_vectors_list, axis=0)\n",
        "        else:\n",
        "            review_vector = np.zeros(model.vector_size)  # Default to zero vector if no words are in vocabulary\n",
        "        review_vectors.append(review_vector)\n",
        "\n",
        "    # Calculate cosine similarities between the query vector and each review's vector\n",
        "    cosine_similarities = cosine_similarity([query_vector], review_vectors).flatten()\n",
        "\n",
        "    # Rank the reviews by cosine similarity\n",
        "    ranked_reviews = reviews_df.iloc[cosine_similarities.argsort()[::-1]]\n",
        "\n",
        "    return ranked_reviews, cosine_similarities\n",
        "\n",
        "# List of queries\n",
        "queries = [\n",
        "    \"audio quality:poor\",\n",
        "    \"wifi signal:strong\",\n",
        "    \"mouse button:click problem\",\n",
        "    \"gps map:useful\",\n",
        "    \"image quality:sharp\"\n",
        "]\n",
        "\n",
        "# Loop through each query and get the ranked reviews for Method 3 (Word2Vec + Cosine Similarity)\n",
        "for query in queries:\n",
        "    ranked_reviews_m3, similarities_m3 = m3_word2vec_cosine(query, filtered_reviews)\n",
        "    print(f\"Retrieved {len(ranked_reviews_m3)} reviews for query '{query}' using M3 (Word2Vec + Cosine Similarity)\\n\")\n",
        "    print(f\"Sample Matched Reviews for query '{query}':\\n\")\n",
        "    print(ranked_reviews_m3[['review_text']].head())  # Display the top 5 matched reviews for each query\n",
        "    print(\"\\n\" + \"-\"*80 + \"\\n\")  # Separator between queries\n"
      ],
      "metadata": {
        "colab": {
          "base_uri": "https://localhost:8080/"
        },
        "id": "zSYQ57-8e9El",
        "outputId": "14c3ba6c-e7d5-49e5-873c-0a31a170f9f8"
      },
      "execution_count": 87,
      "outputs": [
        {
          "output_type": "stream",
          "name": "stdout",
          "text": [
            "Retrieved 8 reviews for query 'audio quality:poor' using M3 (Word2Vec + Cosine Similarity)\n",
            "\n",
            "Sample Matched Reviews for query 'audio quality:poor':\n",
            "\n",
            "                                                                                                                                                                                                                                                                                                         review_text\n",
            "R1V11IHN5HSVP9 0060897376 A34J1DRI3F9AF0 wonderful                    2008-04-29 Gayle S. Graziano            Why Good People Do Bad Things: How to Stop Bein... Everyone should read this book!!!Espcially BEFO... 2  3  5 0 1 0 \"('R1V11IHN5HSVP9' '0060897376'   'Why Good People Do Bad Things: How to Stop B...\n",
            "R1SJ1ZZTERYYTG 0967674727 AJE825U0FF388  breakthrough on the new skis 2009-12-01 \"'B. Aldrich \"\"Billy Bob\"\"'\" Breakthrough on the New Skis 3 Ed: Say Goodbye ... This is great stuff.  Now skiing makes sense.  ... -1 -1 4 0 1 0 \"('R1SJ1ZZTERYYTG' '0967674727'   'Breakthrough on the New Skis 3 Ed: Say Goodb...\n",
            "R1MU8L4VH03L3L B00004OCLA A2MZN02LZ9QXP5 Oxo Good Grips Ice Cube Tray 2010-05-24 Mulligan Augustus            OXO Good Grips  Ice Cube Tray (Kitchen)            Good idea.  Not the easiest ice tray to empty. ... -1 -1 3 0 1 0 \"('R1MU8L4VH03L3L' 'B00004OCLA'          'OXO Good Grips  Ice Cube Tray (Kitchen)'\n",
            "R1L2XNYQFCTD0D B000JPXRGK A18Y3IXQ0NZ3Q  Love it                      2007-10-20 \"'L. Page \"\"Biblioholic\"\"'\"  OXO Good Grips Silicone Flexible Omelet Turner ... This is wonderful but you have to get used to i... 3  3  5 0 1 0 \"('R1L2XNYQFCTD0D' 'B000JPXRGK'   'OXO Good Grips Silicone Flexible Omelet Turn...\n",
            "R1GRVMVDO0DK8F B0000225E0 A2POD2ETA2RZYT Great air hose               2008-02-10 \"'ejr \"\"ejr\"\"'\"              GoodYear 045 3/8-Inch-by-50-Feet Safety Yellow ... This is a good sturdy hose. It stays flexible e... -1 -1 5 0 1 0 \"('R1GRVMVDO0DK8F' 'B0000225E0'   'GoodYear 045 3/8-Inch-by-50-Feet Safety Yell...\n",
            "\n",
            "--------------------------------------------------------------------------------\n",
            "\n",
            "Retrieved 8 reviews for query 'wifi signal:strong' using M3 (Word2Vec + Cosine Similarity)\n",
            "\n",
            "Sample Matched Reviews for query 'wifi signal:strong':\n",
            "\n",
            "                                                                                                                                                                                                                                                                                                         review_text\n",
            "R1V11IHN5HSVP9 0060897376 A34J1DRI3F9AF0 wonderful                    2008-04-29 Gayle S. Graziano            Why Good People Do Bad Things: How to Stop Bein... Everyone should read this book!!!Espcially BEFO... 2  3  5 0 1 0 \"('R1V11IHN5HSVP9' '0060897376'   'Why Good People Do Bad Things: How to Stop B...\n",
            "R1SJ1ZZTERYYTG 0967674727 AJE825U0FF388  breakthrough on the new skis 2009-12-01 \"'B. Aldrich \"\"Billy Bob\"\"'\" Breakthrough on the New Skis 3 Ed: Say Goodbye ... This is great stuff.  Now skiing makes sense.  ... -1 -1 4 0 1 0 \"('R1SJ1ZZTERYYTG' '0967674727'   'Breakthrough on the New Skis 3 Ed: Say Goodb...\n",
            "R1MU8L4VH03L3L B00004OCLA A2MZN02LZ9QXP5 Oxo Good Grips Ice Cube Tray 2010-05-24 Mulligan Augustus            OXO Good Grips  Ice Cube Tray (Kitchen)            Good idea.  Not the easiest ice tray to empty. ... -1 -1 3 0 1 0 \"('R1MU8L4VH03L3L' 'B00004OCLA'          'OXO Good Grips  Ice Cube Tray (Kitchen)'\n",
            "R1L2XNYQFCTD0D B000JPXRGK A18Y3IXQ0NZ3Q  Love it                      2007-10-20 \"'L. Page \"\"Biblioholic\"\"'\"  OXO Good Grips Silicone Flexible Omelet Turner ... This is wonderful but you have to get used to i... 3  3  5 0 1 0 \"('R1L2XNYQFCTD0D' 'B000JPXRGK'   'OXO Good Grips Silicone Flexible Omelet Turn...\n",
            "R1GRVMVDO0DK8F B0000225E0 A2POD2ETA2RZYT Great air hose               2008-02-10 \"'ejr \"\"ejr\"\"'\"              GoodYear 045 3/8-Inch-by-50-Feet Safety Yellow ... This is a good sturdy hose. It stays flexible e... -1 -1 5 0 1 0 \"('R1GRVMVDO0DK8F' 'B0000225E0'   'GoodYear 045 3/8-Inch-by-50-Feet Safety Yell...\n",
            "\n",
            "--------------------------------------------------------------------------------\n",
            "\n",
            "Retrieved 8 reviews for query 'mouse button:click problem' using M3 (Word2Vec + Cosine Similarity)\n",
            "\n",
            "Sample Matched Reviews for query 'mouse button:click problem':\n",
            "\n",
            "                                                                                                                                                                                                                                                                                                         review_text\n",
            "R1V11IHN5HSVP9 0060897376 A34J1DRI3F9AF0 wonderful                    2008-04-29 Gayle S. Graziano            Why Good People Do Bad Things: How to Stop Bein... Everyone should read this book!!!Espcially BEFO... 2  3  5 0 1 0 \"('R1V11IHN5HSVP9' '0060897376'   'Why Good People Do Bad Things: How to Stop B...\n",
            "R1SJ1ZZTERYYTG 0967674727 AJE825U0FF388  breakthrough on the new skis 2009-12-01 \"'B. Aldrich \"\"Billy Bob\"\"'\" Breakthrough on the New Skis 3 Ed: Say Goodbye ... This is great stuff.  Now skiing makes sense.  ... -1 -1 4 0 1 0 \"('R1SJ1ZZTERYYTG' '0967674727'   'Breakthrough on the New Skis 3 Ed: Say Goodb...\n",
            "R1MU8L4VH03L3L B00004OCLA A2MZN02LZ9QXP5 Oxo Good Grips Ice Cube Tray 2010-05-24 Mulligan Augustus            OXO Good Grips  Ice Cube Tray (Kitchen)            Good idea.  Not the easiest ice tray to empty. ... -1 -1 3 0 1 0 \"('R1MU8L4VH03L3L' 'B00004OCLA'          'OXO Good Grips  Ice Cube Tray (Kitchen)'\n",
            "R1L2XNYQFCTD0D B000JPXRGK A18Y3IXQ0NZ3Q  Love it                      2007-10-20 \"'L. Page \"\"Biblioholic\"\"'\"  OXO Good Grips Silicone Flexible Omelet Turner ... This is wonderful but you have to get used to i... 3  3  5 0 1 0 \"('R1L2XNYQFCTD0D' 'B000JPXRGK'   'OXO Good Grips Silicone Flexible Omelet Turn...\n",
            "R1GRVMVDO0DK8F B0000225E0 A2POD2ETA2RZYT Great air hose               2008-02-10 \"'ejr \"\"ejr\"\"'\"              GoodYear 045 3/8-Inch-by-50-Feet Safety Yellow ... This is a good sturdy hose. It stays flexible e... -1 -1 5 0 1 0 \"('R1GRVMVDO0DK8F' 'B0000225E0'   'GoodYear 045 3/8-Inch-by-50-Feet Safety Yell...\n",
            "\n",
            "--------------------------------------------------------------------------------\n",
            "\n",
            "Retrieved 8 reviews for query 'gps map:useful' using M3 (Word2Vec + Cosine Similarity)\n",
            "\n",
            "Sample Matched Reviews for query 'gps map:useful':\n",
            "\n",
            "                                                                                                                                                                                                                                                                                                         review_text\n",
            "R1V11IHN5HSVP9 0060897376 A34J1DRI3F9AF0 wonderful                    2008-04-29 Gayle S. Graziano            Why Good People Do Bad Things: How to Stop Bein... Everyone should read this book!!!Espcially BEFO... 2  3  5 0 1 0 \"('R1V11IHN5HSVP9' '0060897376'   'Why Good People Do Bad Things: How to Stop B...\n",
            "R1SJ1ZZTERYYTG 0967674727 AJE825U0FF388  breakthrough on the new skis 2009-12-01 \"'B. Aldrich \"\"Billy Bob\"\"'\" Breakthrough on the New Skis 3 Ed: Say Goodbye ... This is great stuff.  Now skiing makes sense.  ... -1 -1 4 0 1 0 \"('R1SJ1ZZTERYYTG' '0967674727'   'Breakthrough on the New Skis 3 Ed: Say Goodb...\n",
            "R1MU8L4VH03L3L B00004OCLA A2MZN02LZ9QXP5 Oxo Good Grips Ice Cube Tray 2010-05-24 Mulligan Augustus            OXO Good Grips  Ice Cube Tray (Kitchen)            Good idea.  Not the easiest ice tray to empty. ... -1 -1 3 0 1 0 \"('R1MU8L4VH03L3L' 'B00004OCLA'          'OXO Good Grips  Ice Cube Tray (Kitchen)'\n",
            "R1L2XNYQFCTD0D B000JPXRGK A18Y3IXQ0NZ3Q  Love it                      2007-10-20 \"'L. Page \"\"Biblioholic\"\"'\"  OXO Good Grips Silicone Flexible Omelet Turner ... This is wonderful but you have to get used to i... 3  3  5 0 1 0 \"('R1L2XNYQFCTD0D' 'B000JPXRGK'   'OXO Good Grips Silicone Flexible Omelet Turn...\n",
            "R1GRVMVDO0DK8F B0000225E0 A2POD2ETA2RZYT Great air hose               2008-02-10 \"'ejr \"\"ejr\"\"'\"              GoodYear 045 3/8-Inch-by-50-Feet Safety Yellow ... This is a good sturdy hose. It stays flexible e... -1 -1 5 0 1 0 \"('R1GRVMVDO0DK8F' 'B0000225E0'   'GoodYear 045 3/8-Inch-by-50-Feet Safety Yell...\n",
            "\n",
            "--------------------------------------------------------------------------------\n",
            "\n",
            "Retrieved 8 reviews for query 'image quality:sharp' using M3 (Word2Vec + Cosine Similarity)\n",
            "\n",
            "Sample Matched Reviews for query 'image quality:sharp':\n",
            "\n",
            "                                                                                                                                                                                                                                                                                                         review_text\n",
            "R1V11IHN5HSVP9 0060897376 A34J1DRI3F9AF0 wonderful                    2008-04-29 Gayle S. Graziano            Why Good People Do Bad Things: How to Stop Bein... Everyone should read this book!!!Espcially BEFO... 2  3  5 0 1 0 \"('R1V11IHN5HSVP9' '0060897376'   'Why Good People Do Bad Things: How to Stop B...\n",
            "R1SJ1ZZTERYYTG 0967674727 AJE825U0FF388  breakthrough on the new skis 2009-12-01 \"'B. Aldrich \"\"Billy Bob\"\"'\" Breakthrough on the New Skis 3 Ed: Say Goodbye ... This is great stuff.  Now skiing makes sense.  ... -1 -1 4 0 1 0 \"('R1SJ1ZZTERYYTG' '0967674727'   'Breakthrough on the New Skis 3 Ed: Say Goodb...\n",
            "R1MU8L4VH03L3L B00004OCLA A2MZN02LZ9QXP5 Oxo Good Grips Ice Cube Tray 2010-05-24 Mulligan Augustus            OXO Good Grips  Ice Cube Tray (Kitchen)            Good idea.  Not the easiest ice tray to empty. ... -1 -1 3 0 1 0 \"('R1MU8L4VH03L3L' 'B00004OCLA'          'OXO Good Grips  Ice Cube Tray (Kitchen)'\n",
            "R1L2XNYQFCTD0D B000JPXRGK A18Y3IXQ0NZ3Q  Love it                      2007-10-20 \"'L. Page \"\"Biblioholic\"\"'\"  OXO Good Grips Silicone Flexible Omelet Turner ... This is wonderful but you have to get used to i... 3  3  5 0 1 0 \"('R1L2XNYQFCTD0D' 'B000JPXRGK'   'OXO Good Grips Silicone Flexible Omelet Turn...\n",
            "R1GRVMVDO0DK8F B0000225E0 A2POD2ETA2RZYT Great air hose               2008-02-10 \"'ejr \"\"ejr\"\"'\"              GoodYear 045 3/8-Inch-by-50-Feet Safety Yellow ... This is a good sturdy hose. It stays flexible e... -1 -1 5 0 1 0 \"('R1GRVMVDO0DK8F' 'B0000225E0'   'GoodYear 045 3/8-Inch-by-50-Feet Safety Yell...\n",
            "\n",
            "--------------------------------------------------------------------------------\n",
            "\n"
          ]
        },
        {
          "output_type": "stream",
          "name": "stderr",
          "text": [
            "/usr/local/lib/python3.10/dist-packages/ipykernel/ipkernel.py:283: DeprecationWarning: `should_run_async` will not call `transform_cell` automatically in the future. Please pass the result to `transformed_cell` argument and any exception that happen during thetransform in `preprocessing_exc_tuple` in IPython 7.17 and above.\n",
            "  and should_run_async(code)\n"
          ]
        }
      ]
    },
    {
      "cell_type": "code",
      "source": [
        "from sklearn.metrics.pairwise import cosine_similarity\n",
        "\n",
        "# Function to calculate precision for each method\n",
        "def calculate_precision(retrieved_reviews, query, query_terms, relevant_reviews_df):\n",
        "    # Create a binary list where 1 means the review is relevant, 0 means it's not\n",
        "    relevant_array = [1 if any(term in review.lower() for term in query_terms) else 0 for review in relevant_reviews_df['review_text']]\n",
        "\n",
        "    # Create a binary list for retrieved reviews (1 if the review is relevant, 0 if not)\n",
        "    retrieved_relevant = []\n",
        "    for review in retrieved_reviews['review_text']:\n",
        "        if any(term in review.lower() for term in query_terms):\n",
        "            retrieved_relevant.append(1)\n",
        "        else:\n",
        "            retrieved_relevant.append(0)\n",
        "\n",
        "    # Calculate Precision: (Relevant Documents Retrieved) / (Total Documents Retrieved)\n",
        "    if len(retrieved_relevant) == 0:\n",
        "        return 0.0  # Prevent division by zero\n",
        "    precision = sum(retrieved_relevant) / len(retrieved_relevant)\n",
        "\n",
        "    return precision\n",
        "\n",
        "\n",
        "# Example: Loop through each query for baseline, m1, and m3 methods\n",
        "queries = [\n",
        "    \"audio quality:poor\",\n",
        "    \"wifi signal:strong\",\n",
        "    \"mouse button:click problem\",\n",
        "    \"gps map:useful\",\n",
        "    \"image quality:sharp\"\n",
        "]\n",
        "\n",
        "# Calculate Precision for Baseline Method\n",
        "for query in queries:\n",
        "    query_terms = query.split(\":\")[1].split()\n",
        "    # Run Baseline Search\n",
        "    relevant_reviews_baseline = baseline_search(query, filtered_reviews)\n",
        "    precision_baseline = calculate_precision(relevant_reviews_baseline, query, query_terms, filtered_reviews)\n",
        "    print(f\"Precision for query '{query}' using Baseline Method: {precision_baseline:.4f}\")\n",
        "\n",
        "\n",
        "# Calculate Precision for M1 (TF-IDF + Cosine Similarity)\n",
        "for query in queries:\n",
        "    query_terms = query.split(\":\")[1].split()\n",
        "    # Run M1 (TF-IDF + Cosine Similarity)\n",
        "    ranked_reviews_m1, _ = m1_tfidf_cosine(query, filtered_reviews)\n",
        "    precision_m1 = calculate_precision(ranked_reviews_m1, query, query_terms, filtered_reviews)\n",
        "    print(f\"Precision for query '{query}' using M1 (TF-IDF + Cosine Similarity): {precision_m1:.4f}\")\n",
        "\n",
        "\n",
        "# Calculate Precision for M3 (Word2Vec + Cosine Similarity)\n",
        "for query in queries:\n",
        "    query_terms = query.split(\":\")[1].split()\n",
        "    # Run M3 (Word2Vec + Cosine Similarity)\n",
        "    ranked_reviews_m3, _ = m3_word2vec_cosine(query, filtered_reviews)\n",
        "    precision_m3 = calculate_precision(ranked_reviews_m3, query, query_terms, filtered_reviews)\n",
        "    print(f\"Precision for query '{query}' using M3 (Word2Vec + Cosine Similarity): {precision_m3:.4f}\")\n"
      ],
      "metadata": {
        "colab": {
          "base_uri": "https://localhost:8080/"
        },
        "id": "SBjiFSiFTx-M",
        "outputId": "8db59de3-6f16-4820-de45-01c978150704"
      },
      "execution_count": 90,
      "outputs": [
        {
          "output_type": "stream",
          "name": "stdout",
          "text": [
            "Query Terms: ['poor']\n",
            "Sample of Cleaned Review Text:\n",
            "R10H8M9OOI40NB  B000B0WO4O  A1LLNZM7WSFP2M  Good Info On Wal-Mart  2008-04-06  JHW                          Frontline: Is Wal-Mart Good for America? (DVD)                                                                                         Many of us know what Wal-Mart has done to small retail across America. What I did not know until I saw this documentary was what it has done to manufacturing in America with its incredible determination to have as much of everything as possible made in China. The world will look back on this time as one of great change and on Wal-Mart as the key reagent in that change.  1   2   4  0  1  0  \"('R10H8M9OOI40NB'  'B000B0WO4O'            Frontline Is WalMart Good for America DVD\n",
            "R13XO0KVFKY6KD  0060875496  APIFRHB3KCB89   Fair Tax               2007-09-11  Paul B. Jones                The Fair Tax Book: Saying Goodbye to the Income Tax and the IRS (Paperback)                                                            This is a very clear and concise book on how this taxing system would work if utilized It made me want to adopt the new system                                                                                                                                                                                                                                                       2   5   5  0  1  0  \"('R13XO0KVFKY6KD'  '0060875496'    The Fair Tax Book Saying Goodbye to the Income...\n",
            "R1BHW5ZWR5ZDO6  B0001YH1MU  A7EUXGYTGB6QD   Awesome!!              2010-06-02  Bruce Horn                   OXO Good Grips 5-Quart Mixing Bowl (Kitchen)                                                                                           This bowl is inexpensive and really well-made.  The grip on the bottom holds the bowl right in place.  The handle grip lets you pour with one hand without fear of slipping.  The spout is shaped perfectly and allows you to pour without spilling a drop.                                                                                                                          1   1   5  0  1  0  \"('R1BHW5ZWR5ZDO6'  'B0001YH1MU'            OXO Good Grips 5Quart Mixing Bowl Kitchen\n",
            "R1GRVMVDO0DK8F  B0000225E0  A2POD2ETA2RZYT  Great air hose         2008-02-10  \"'ejr \"\"ejr\"\"'\"              GoodYear 045 3/8-Inch-by-50-Feet Safety Yellow Rubber Hose 3/8 -Inch by 50-Feet 250 PSI With 1/4-Inch Ends (Tools & Home Improvement)  This is a good sturdy hose. It stays flexible even in cold wheather. This is as good if not better than hoses we used in professional garages.                                                                                                                                                                                                                                       -1  -1  5  0  1  0  \"('R1GRVMVDO0DK8F'  'B0000225E0'    GoodYear 045 38Inchby50Feet Safety Yellow Rubb...\n",
            "R1L2XNYQFCTD0D  B000JPXRGK  A18Y3IXQ0NZ3Q   Love it                2007-10-20  \"'L. Page \"\"Biblioholic\"\"'\"  OXO Good Grips Silicone Flexible Omelet Turner (Kitchen)                                                                               This is wonderful but you have to get used to it as it is extremely slippery.                                                                                                                                                                                                                                                                                                        3   3   5  0  1  0  \"('R1L2XNYQFCTD0D'  'B000JPXRGK'    OXO Good Grips Silicone Flexible Omelet Turner...\n",
            "Name: clean_review_text, dtype: object\n",
            "Number of Reviews Matched: 0\n",
            "Precision for query 'audio quality:poor' using Baseline Method: 0.0000\n",
            "Query Terms: ['strong']\n",
            "Sample of Cleaned Review Text:\n",
            "R10H8M9OOI40NB  B000B0WO4O  A1LLNZM7WSFP2M  Good Info On Wal-Mart  2008-04-06  JHW                          Frontline: Is Wal-Mart Good for America? (DVD)                                                                                         Many of us know what Wal-Mart has done to small retail across America. What I did not know until I saw this documentary was what it has done to manufacturing in America with its incredible determination to have as much of everything as possible made in China. The world will look back on this time as one of great change and on Wal-Mart as the key reagent in that change.  1   2   4  0  1  0  \"('R10H8M9OOI40NB'  'B000B0WO4O'            Frontline Is WalMart Good for America DVD\n",
            "R13XO0KVFKY6KD  0060875496  APIFRHB3KCB89   Fair Tax               2007-09-11  Paul B. Jones                The Fair Tax Book: Saying Goodbye to the Income Tax and the IRS (Paperback)                                                            This is a very clear and concise book on how this taxing system would work if utilized It made me want to adopt the new system                                                                                                                                                                                                                                                       2   5   5  0  1  0  \"('R13XO0KVFKY6KD'  '0060875496'    The Fair Tax Book Saying Goodbye to the Income...\n",
            "R1BHW5ZWR5ZDO6  B0001YH1MU  A7EUXGYTGB6QD   Awesome!!              2010-06-02  Bruce Horn                   OXO Good Grips 5-Quart Mixing Bowl (Kitchen)                                                                                           This bowl is inexpensive and really well-made.  The grip on the bottom holds the bowl right in place.  The handle grip lets you pour with one hand without fear of slipping.  The spout is shaped perfectly and allows you to pour without spilling a drop.                                                                                                                          1   1   5  0  1  0  \"('R1BHW5ZWR5ZDO6'  'B0001YH1MU'            OXO Good Grips 5Quart Mixing Bowl Kitchen\n",
            "R1GRVMVDO0DK8F  B0000225E0  A2POD2ETA2RZYT  Great air hose         2008-02-10  \"'ejr \"\"ejr\"\"'\"              GoodYear 045 3/8-Inch-by-50-Feet Safety Yellow Rubber Hose 3/8 -Inch by 50-Feet 250 PSI With 1/4-Inch Ends (Tools & Home Improvement)  This is a good sturdy hose. It stays flexible even in cold wheather. This is as good if not better than hoses we used in professional garages.                                                                                                                                                                                                                                       -1  -1  5  0  1  0  \"('R1GRVMVDO0DK8F'  'B0000225E0'    GoodYear 045 38Inchby50Feet Safety Yellow Rubb...\n",
            "R1L2XNYQFCTD0D  B000JPXRGK  A18Y3IXQ0NZ3Q   Love it                2007-10-20  \"'L. Page \"\"Biblioholic\"\"'\"  OXO Good Grips Silicone Flexible Omelet Turner (Kitchen)                                                                               This is wonderful but you have to get used to it as it is extremely slippery.                                                                                                                                                                                                                                                                                                        3   3   5  0  1  0  \"('R1L2XNYQFCTD0D'  'B000JPXRGK'    OXO Good Grips Silicone Flexible Omelet Turner...\n",
            "Name: clean_review_text, dtype: object\n",
            "Number of Reviews Matched: 0\n",
            "Precision for query 'wifi signal:strong' using Baseline Method: 0.0000\n",
            "Query Terms: ['click', 'problem']\n",
            "Sample of Cleaned Review Text:\n",
            "R10H8M9OOI40NB  B000B0WO4O  A1LLNZM7WSFP2M  Good Info On Wal-Mart  2008-04-06  JHW                          Frontline: Is Wal-Mart Good for America? (DVD)                                                                                         Many of us know what Wal-Mart has done to small retail across America. What I did not know until I saw this documentary was what it has done to manufacturing in America with its incredible determination to have as much of everything as possible made in China. The world will look back on this time as one of great change and on Wal-Mart as the key reagent in that change.  1   2   4  0  1  0  \"('R10H8M9OOI40NB'  'B000B0WO4O'            Frontline Is WalMart Good for America DVD\n",
            "R13XO0KVFKY6KD  0060875496  APIFRHB3KCB89   Fair Tax               2007-09-11  Paul B. Jones                The Fair Tax Book: Saying Goodbye to the Income Tax and the IRS (Paperback)                                                            This is a very clear and concise book on how this taxing system would work if utilized It made me want to adopt the new system                                                                                                                                                                                                                                                       2   5   5  0  1  0  \"('R13XO0KVFKY6KD'  '0060875496'    The Fair Tax Book Saying Goodbye to the Income...\n",
            "R1BHW5ZWR5ZDO6  B0001YH1MU  A7EUXGYTGB6QD   Awesome!!              2010-06-02  Bruce Horn                   OXO Good Grips 5-Quart Mixing Bowl (Kitchen)                                                                                           This bowl is inexpensive and really well-made.  The grip on the bottom holds the bowl right in place.  The handle grip lets you pour with one hand without fear of slipping.  The spout is shaped perfectly and allows you to pour without spilling a drop.                                                                                                                          1   1   5  0  1  0  \"('R1BHW5ZWR5ZDO6'  'B0001YH1MU'            OXO Good Grips 5Quart Mixing Bowl Kitchen\n",
            "R1GRVMVDO0DK8F  B0000225E0  A2POD2ETA2RZYT  Great air hose         2008-02-10  \"'ejr \"\"ejr\"\"'\"              GoodYear 045 3/8-Inch-by-50-Feet Safety Yellow Rubber Hose 3/8 -Inch by 50-Feet 250 PSI With 1/4-Inch Ends (Tools & Home Improvement)  This is a good sturdy hose. It stays flexible even in cold wheather. This is as good if not better than hoses we used in professional garages.                                                                                                                                                                                                                                       -1  -1  5  0  1  0  \"('R1GRVMVDO0DK8F'  'B0000225E0'    GoodYear 045 38Inchby50Feet Safety Yellow Rubb...\n",
            "R1L2XNYQFCTD0D  B000JPXRGK  A18Y3IXQ0NZ3Q   Love it                2007-10-20  \"'L. Page \"\"Biblioholic\"\"'\"  OXO Good Grips Silicone Flexible Omelet Turner (Kitchen)                                                                               This is wonderful but you have to get used to it as it is extremely slippery.                                                                                                                                                                                                                                                                                                        3   3   5  0  1  0  \"('R1L2XNYQFCTD0D'  'B000JPXRGK'    OXO Good Grips Silicone Flexible Omelet Turner...\n",
            "Name: clean_review_text, dtype: object\n",
            "Number of Reviews Matched: 0\n",
            "Precision for query 'mouse button:click problem' using Baseline Method: 0.0000\n",
            "Query Terms: ['useful']\n",
            "Sample of Cleaned Review Text:\n",
            "R10H8M9OOI40NB  B000B0WO4O  A1LLNZM7WSFP2M  Good Info On Wal-Mart  2008-04-06  JHW                          Frontline: Is Wal-Mart Good for America? (DVD)                                                                                         Many of us know what Wal-Mart has done to small retail across America. What I did not know until I saw this documentary was what it has done to manufacturing in America with its incredible determination to have as much of everything as possible made in China. The world will look back on this time as one of great change and on Wal-Mart as the key reagent in that change.  1   2   4  0  1  0  \"('R10H8M9OOI40NB'  'B000B0WO4O'            Frontline Is WalMart Good for America DVD\n",
            "R13XO0KVFKY6KD  0060875496  APIFRHB3KCB89   Fair Tax               2007-09-11  Paul B. Jones                The Fair Tax Book: Saying Goodbye to the Income Tax and the IRS (Paperback)                                                            This is a very clear and concise book on how this taxing system would work if utilized It made me want to adopt the new system                                                                                                                                                                                                                                                       2   5   5  0  1  0  \"('R13XO0KVFKY6KD'  '0060875496'    The Fair Tax Book Saying Goodbye to the Income...\n",
            "R1BHW5ZWR5ZDO6  B0001YH1MU  A7EUXGYTGB6QD   Awesome!!              2010-06-02  Bruce Horn                   OXO Good Grips 5-Quart Mixing Bowl (Kitchen)                                                                                           This bowl is inexpensive and really well-made.  The grip on the bottom holds the bowl right in place.  The handle grip lets you pour with one hand without fear of slipping.  The spout is shaped perfectly and allows you to pour without spilling a drop.                                                                                                                          1   1   5  0  1  0  \"('R1BHW5ZWR5ZDO6'  'B0001YH1MU'            OXO Good Grips 5Quart Mixing Bowl Kitchen\n",
            "R1GRVMVDO0DK8F  B0000225E0  A2POD2ETA2RZYT  Great air hose         2008-02-10  \"'ejr \"\"ejr\"\"'\"              GoodYear 045 3/8-Inch-by-50-Feet Safety Yellow Rubber Hose 3/8 -Inch by 50-Feet 250 PSI With 1/4-Inch Ends (Tools & Home Improvement)  This is a good sturdy hose. It stays flexible even in cold wheather. This is as good if not better than hoses we used in professional garages.                                                                                                                                                                                                                                       -1  -1  5  0  1  0  \"('R1GRVMVDO0DK8F'  'B0000225E0'    GoodYear 045 38Inchby50Feet Safety Yellow Rubb...\n",
            "R1L2XNYQFCTD0D  B000JPXRGK  A18Y3IXQ0NZ3Q   Love it                2007-10-20  \"'L. Page \"\"Biblioholic\"\"'\"  OXO Good Grips Silicone Flexible Omelet Turner (Kitchen)                                                                               This is wonderful but you have to get used to it as it is extremely slippery.                                                                                                                                                                                                                                                                                                        3   3   5  0  1  0  \"('R1L2XNYQFCTD0D'  'B000JPXRGK'    OXO Good Grips Silicone Flexible Omelet Turner...\n",
            "Name: clean_review_text, dtype: object\n",
            "Number of Reviews Matched: 0\n",
            "Precision for query 'gps map:useful' using Baseline Method: 0.0000\n",
            "Query Terms: ['sharp']\n",
            "Sample of Cleaned Review Text:\n",
            "R10H8M9OOI40NB  B000B0WO4O  A1LLNZM7WSFP2M  Good Info On Wal-Mart  2008-04-06  JHW                          Frontline: Is Wal-Mart Good for America? (DVD)                                                                                         Many of us know what Wal-Mart has done to small retail across America. What I did not know until I saw this documentary was what it has done to manufacturing in America with its incredible determination to have as much of everything as possible made in China. The world will look back on this time as one of great change and on Wal-Mart as the key reagent in that change.  1   2   4  0  1  0  \"('R10H8M9OOI40NB'  'B000B0WO4O'            Frontline Is WalMart Good for America DVD\n",
            "R13XO0KVFKY6KD  0060875496  APIFRHB3KCB89   Fair Tax               2007-09-11  Paul B. Jones                The Fair Tax Book: Saying Goodbye to the Income Tax and the IRS (Paperback)                                                            This is a very clear and concise book on how this taxing system would work if utilized It made me want to adopt the new system                                                                                                                                                                                                                                                       2   5   5  0  1  0  \"('R13XO0KVFKY6KD'  '0060875496'    The Fair Tax Book Saying Goodbye to the Income...\n",
            "R1BHW5ZWR5ZDO6  B0001YH1MU  A7EUXGYTGB6QD   Awesome!!              2010-06-02  Bruce Horn                   OXO Good Grips 5-Quart Mixing Bowl (Kitchen)                                                                                           This bowl is inexpensive and really well-made.  The grip on the bottom holds the bowl right in place.  The handle grip lets you pour with one hand without fear of slipping.  The spout is shaped perfectly and allows you to pour without spilling a drop.                                                                                                                          1   1   5  0  1  0  \"('R1BHW5ZWR5ZDO6'  'B0001YH1MU'            OXO Good Grips 5Quart Mixing Bowl Kitchen\n",
            "R1GRVMVDO0DK8F  B0000225E0  A2POD2ETA2RZYT  Great air hose         2008-02-10  \"'ejr \"\"ejr\"\"'\"              GoodYear 045 3/8-Inch-by-50-Feet Safety Yellow Rubber Hose 3/8 -Inch by 50-Feet 250 PSI With 1/4-Inch Ends (Tools & Home Improvement)  This is a good sturdy hose. It stays flexible even in cold wheather. This is as good if not better than hoses we used in professional garages.                                                                                                                                                                                                                                       -1  -1  5  0  1  0  \"('R1GRVMVDO0DK8F'  'B0000225E0'    GoodYear 045 38Inchby50Feet Safety Yellow Rubb...\n",
            "R1L2XNYQFCTD0D  B000JPXRGK  A18Y3IXQ0NZ3Q   Love it                2007-10-20  \"'L. Page \"\"Biblioholic\"\"'\"  OXO Good Grips Silicone Flexible Omelet Turner (Kitchen)                                                                               This is wonderful but you have to get used to it as it is extremely slippery.                                                                                                                                                                                                                                                                                                        3   3   5  0  1  0  \"('R1L2XNYQFCTD0D'  'B000JPXRGK'    OXO Good Grips Silicone Flexible Omelet Turner...\n",
            "Name: clean_review_text, dtype: object\n",
            "Number of Reviews Matched: 0\n",
            "Precision for query 'image quality:sharp' using Baseline Method: 0.0000\n",
            "Precision for query 'audio quality:poor' using M1 (TF-IDF + Cosine Similarity): 0.0000\n",
            "Precision for query 'wifi signal:strong' using M1 (TF-IDF + Cosine Similarity): 0.0000\n",
            "Precision for query 'mouse button:click problem' using M1 (TF-IDF + Cosine Similarity): 0.0000\n",
            "Precision for query 'gps map:useful' using M1 (TF-IDF + Cosine Similarity): 0.0000\n",
            "Precision for query 'image quality:sharp' using M1 (TF-IDF + Cosine Similarity): 0.0000\n",
            "Precision for query 'audio quality:poor' using M3 (Word2Vec + Cosine Similarity): 0.0000\n",
            "Precision for query 'wifi signal:strong' using M3 (Word2Vec + Cosine Similarity): 0.0000\n",
            "Precision for query 'mouse button:click problem' using M3 (Word2Vec + Cosine Similarity): 0.0000\n",
            "Precision for query 'gps map:useful' using M3 (Word2Vec + Cosine Similarity): 0.0000\n",
            "Precision for query 'image quality:sharp' using M3 (Word2Vec + Cosine Similarity): 0.0000\n"
          ]
        },
        {
          "output_type": "stream",
          "name": "stderr",
          "text": [
            "/usr/local/lib/python3.10/dist-packages/ipykernel/ipkernel.py:283: DeprecationWarning: `should_run_async` will not call `transform_cell` automatically in the future. Please pass the result to `transformed_cell` argument and any exception that happen during thetransform in `preprocessing_exc_tuple` in IPython 7.17 and above.\n",
            "  and should_run_async(code)\n"
          ]
        }
      ]
    }
  ]
}